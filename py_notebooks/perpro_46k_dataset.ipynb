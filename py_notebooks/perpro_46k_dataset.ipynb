{
 "cells": [
  {
   "cell_type": "code",
   "execution_count": 1,
   "metadata": {},
   "outputs": [],
   "source": [
    "import pandas as pd\n",
    "import numpy as np\n",
    "import os\n",
    "import matplotlib.pyplot as plt\n",
    "import seaborn as sb\n",
    "from sklearn.preprocessing import LabelEncoder\n",
    "import warnings\n",
    "import opendatasets as od\n",
    "import json\n",
    "from sklearn.preprocessing import LabelEncoder\n",
    "from ast import literal_eval"
   ]
  },
  {
   "cell_type": "markdown",
   "metadata": {},
   "source": [
    "# Download the dataset"
   ]
  },
  {
   "cell_type": "code",
   "execution_count": 2,
   "metadata": {},
   "outputs": [
    {
     "name": "stdout",
     "output_type": "stream",
     "text": [
      "Skipping, found downloaded files in \"./the-movies-dataset\" (use force=True to force download)\n",
      "Skipping, found downloaded files in \"./tmdb-movie-metadata\" (use force=True to force download)\n"
     ]
    }
   ],
   "source": [
    "os.chdir('../Datasets/')\n",
    "dataset = 'https://www.kaggle.com/datasets/rounakbanik/the-movies-dataset'\n",
    "od.download(dataset)\n",
    "dataset = 'https://www.kaggle.com/datasets/tmdb/tmdb-movie-metadata'\n",
    "od.download(dataset)\n",
    "os.chdir('../py_notebooks/')"
   ]
  },
  {
   "cell_type": "markdown",
   "metadata": {
    "id": "_YbZtCdvqLDJ"
   },
   "source": [
    "# Loading the data set "
   ]
  },
  {
   "cell_type": "code",
   "execution_count": 3,
   "metadata": {
    "executionInfo": {
     "elapsed": 5513,
     "status": "ok",
     "timestamp": 1663425655782,
     "user": {
      "displayName": "Bhagesh Gaur",
      "userId": "13725627345319054671"
     },
     "user_tz": -330
    },
    "id": "cpRUGWiwqLDK"
   },
   "outputs": [],
   "source": [
    "df = pd.read_csv(\"/home/abhinav/Datasets/the-movies-dataset/credits.csv\")\n",
    "# df = df.sample(frac = 1).reset_index()\n",
    "# df.drop('index', axis=1, inplace=True)"
   ]
  },
  {
   "cell_type": "code",
   "execution_count": 4,
   "metadata": {},
   "outputs": [
    {
     "data": {
      "text/plain": [
       "(45476, 3)"
      ]
     },
     "execution_count": 4,
     "metadata": {},
     "output_type": "execute_result"
    }
   ],
   "source": [
    "df.shape"
   ]
  },
  {
   "cell_type": "markdown",
   "metadata": {
    "id": "4zkTdVZ1qLDL"
   },
   "source": [
    "# Let's Explore the data set "
   ]
  },
  {
   "cell_type": "code",
   "execution_count": 5,
   "metadata": {},
   "outputs": [],
   "source": [
    "df1=pd.read_csv('../Datasets/tmdb-movie-metadata/tmdb_5000_credits.csv')\n",
    "df2=pd.read_csv('../Datasets/tmdb-movie-metadata/tmdb_5000_movies.csv')"
   ]
  },
  {
   "cell_type": "code",
   "execution_count": 6,
   "metadata": {},
   "outputs": [],
   "source": [
    "df1.columns = ['id','tittle','cast','crew']\n",
    "df2= df2.merge(df1,on='id')"
   ]
  },
  {
   "cell_type": "code",
   "execution_count": 7,
   "metadata": {},
   "outputs": [
    {
     "data": {
      "text/html": [
       "<div>\n",
       "<style scoped>\n",
       "    .dataframe tbody tr th:only-of-type {\n",
       "        vertical-align: middle;\n",
       "    }\n",
       "\n",
       "    .dataframe tbody tr th {\n",
       "        vertical-align: top;\n",
       "    }\n",
       "\n",
       "    .dataframe thead th {\n",
       "        text-align: right;\n",
       "    }\n",
       "</style>\n",
       "<table border=\"1\" class=\"dataframe\">\n",
       "  <thead>\n",
       "    <tr style=\"text-align: right;\">\n",
       "      <th></th>\n",
       "      <th>budget</th>\n",
       "      <th>genres</th>\n",
       "      <th>homepage</th>\n",
       "      <th>id</th>\n",
       "      <th>keywords</th>\n",
       "      <th>original_language</th>\n",
       "      <th>original_title</th>\n",
       "      <th>overview</th>\n",
       "      <th>popularity</th>\n",
       "      <th>production_companies</th>\n",
       "      <th>...</th>\n",
       "      <th>runtime</th>\n",
       "      <th>spoken_languages</th>\n",
       "      <th>status</th>\n",
       "      <th>tagline</th>\n",
       "      <th>title</th>\n",
       "      <th>vote_average</th>\n",
       "      <th>vote_count</th>\n",
       "      <th>tittle</th>\n",
       "      <th>cast</th>\n",
       "      <th>crew</th>\n",
       "    </tr>\n",
       "  </thead>\n",
       "  <tbody>\n",
       "    <tr>\n",
       "      <th>0</th>\n",
       "      <td>237000000</td>\n",
       "      <td>[{\"id\": 28, \"name\": \"Action\"}, {\"id\": 12, \"nam...</td>\n",
       "      <td>http://www.avatarmovie.com/</td>\n",
       "      <td>19995</td>\n",
       "      <td>[{\"id\": 1463, \"name\": \"culture clash\"}, {\"id\":...</td>\n",
       "      <td>en</td>\n",
       "      <td>Avatar</td>\n",
       "      <td>In the 22nd century, a paraplegic Marine is di...</td>\n",
       "      <td>150.437577</td>\n",
       "      <td>[{\"name\": \"Ingenious Film Partners\", \"id\": 289...</td>\n",
       "      <td>...</td>\n",
       "      <td>162.0</td>\n",
       "      <td>[{\"iso_639_1\": \"en\", \"name\": \"English\"}, {\"iso...</td>\n",
       "      <td>Released</td>\n",
       "      <td>Enter the World of Pandora.</td>\n",
       "      <td>Avatar</td>\n",
       "      <td>7.2</td>\n",
       "      <td>11800</td>\n",
       "      <td>Avatar</td>\n",
       "      <td>[{\"cast_id\": 242, \"character\": \"Jake Sully\", \"...</td>\n",
       "      <td>[{\"credit_id\": \"52fe48009251416c750aca23\", \"de...</td>\n",
       "    </tr>\n",
       "  </tbody>\n",
       "</table>\n",
       "<p>1 rows × 23 columns</p>\n",
       "</div>"
      ],
      "text/plain": [
       "      budget                                             genres  \\\n",
       "0  237000000  [{\"id\": 28, \"name\": \"Action\"}, {\"id\": 12, \"nam...   \n",
       "\n",
       "                      homepage     id  \\\n",
       "0  http://www.avatarmovie.com/  19995   \n",
       "\n",
       "                                            keywords original_language  \\\n",
       "0  [{\"id\": 1463, \"name\": \"culture clash\"}, {\"id\":...                en   \n",
       "\n",
       "  original_title                                           overview  \\\n",
       "0         Avatar  In the 22nd century, a paraplegic Marine is di...   \n",
       "\n",
       "   popularity                               production_companies  ... runtime  \\\n",
       "0  150.437577  [{\"name\": \"Ingenious Film Partners\", \"id\": 289...  ...   162.0   \n",
       "\n",
       "                                    spoken_languages    status  \\\n",
       "0  [{\"iso_639_1\": \"en\", \"name\": \"English\"}, {\"iso...  Released   \n",
       "\n",
       "                       tagline   title vote_average vote_count  tittle  \\\n",
       "0  Enter the World of Pandora.  Avatar          7.2      11800  Avatar   \n",
       "\n",
       "                                                cast  \\\n",
       "0  [{\"cast_id\": 242, \"character\": \"Jake Sully\", \"...   \n",
       "\n",
       "                                                crew  \n",
       "0  [{\"credit_id\": \"52fe48009251416c750aca23\", \"de...  \n",
       "\n",
       "[1 rows x 23 columns]"
      ]
     },
     "execution_count": 7,
     "metadata": {},
     "output_type": "execute_result"
    }
   ],
   "source": [
    "df2.head(1)"
   ]
  },
  {
   "cell_type": "code",
   "execution_count": 8,
   "metadata": {},
   "outputs": [
    {
     "name": "stdout",
     "output_type": "stream",
     "text": [
      "<class 'pandas.core.frame.DataFrame'>\n",
      "Int64Index: 4803 entries, 0 to 4802\n",
      "Data columns (total 23 columns):\n",
      " #   Column                Non-Null Count  Dtype  \n",
      "---  ------                --------------  -----  \n",
      " 0   budget                4803 non-null   int64  \n",
      " 1   genres                4803 non-null   object \n",
      " 2   homepage              1712 non-null   object \n",
      " 3   id                    4803 non-null   int64  \n",
      " 4   keywords              4803 non-null   object \n",
      " 5   original_language     4803 non-null   object \n",
      " 6   original_title        4803 non-null   object \n",
      " 7   overview              4800 non-null   object \n",
      " 8   popularity            4803 non-null   float64\n",
      " 9   production_companies  4803 non-null   object \n",
      " 10  production_countries  4803 non-null   object \n",
      " 11  release_date          4802 non-null   object \n",
      " 12  revenue               4803 non-null   int64  \n",
      " 13  runtime               4801 non-null   float64\n",
      " 14  spoken_languages      4803 non-null   object \n",
      " 15  status                4803 non-null   object \n",
      " 16  tagline               3959 non-null   object \n",
      " 17  title                 4803 non-null   object \n",
      " 18  vote_average          4803 non-null   float64\n",
      " 19  vote_count            4803 non-null   int64  \n",
      " 20  tittle                4803 non-null   object \n",
      " 21  cast                  4803 non-null   object \n",
      " 22  crew                  4803 non-null   object \n",
      "dtypes: float64(3), int64(4), object(16)\n",
      "memory usage: 900.6+ KB\n"
     ]
    }
   ],
   "source": [
    "df2.info()"
   ]
  },
  {
   "cell_type": "code",
   "execution_count": 9,
   "metadata": {},
   "outputs": [
    {
     "data": {
      "text/plain": [
       "6.092171559442011"
      ]
     },
     "execution_count": 9,
     "metadata": {},
     "output_type": "execute_result"
    }
   ],
   "source": [
    "C= df2['vote_average'].mean()\n",
    "C"
   ]
  },
  {
   "cell_type": "code",
   "execution_count": 10,
   "metadata": {},
   "outputs": [
    {
     "data": {
      "text/plain": [
       "1838.4000000000015"
      ]
     },
     "execution_count": 10,
     "metadata": {},
     "output_type": "execute_result"
    }
   ],
   "source": [
    "m= df2['vote_count'].quantile(0.9)\n",
    "m"
   ]
  },
  {
   "cell_type": "code",
   "execution_count": 11,
   "metadata": {},
   "outputs": [
    {
     "data": {
      "text/plain": [
       "(481, 23)"
      ]
     },
     "execution_count": 11,
     "metadata": {},
     "output_type": "execute_result"
    }
   ],
   "source": [
    "q_movies = df2.copy().loc[df2['vote_count'] >= m]\n",
    "q_movies.shape"
   ]
  },
  {
   "cell_type": "code",
   "execution_count": 12,
   "metadata": {},
   "outputs": [],
   "source": [
    "def weighted_rating(x, m=m, C=C):\n",
    "    v = x['vote_count']\n",
    "    R = x['vote_average']\n",
    "    # Calculation based on the IMDB formula\n",
    "    return (v/(v+m) * R) + (m/(m+v) * C)"
   ]
  },
  {
   "cell_type": "code",
   "execution_count": 13,
   "metadata": {},
   "outputs": [],
   "source": [
    "# Define a new feature 'score' and calculate its value with `weighted_rating()`\n",
    "q_movies['score'] = q_movies.apply(weighted_rating, axis=1)"
   ]
  },
  {
   "cell_type": "code",
   "execution_count": 14,
   "metadata": {},
   "outputs": [
    {
     "data": {
      "text/html": [
       "<div>\n",
       "<style scoped>\n",
       "    .dataframe tbody tr th:only-of-type {\n",
       "        vertical-align: middle;\n",
       "    }\n",
       "\n",
       "    .dataframe tbody tr th {\n",
       "        vertical-align: top;\n",
       "    }\n",
       "\n",
       "    .dataframe thead th {\n",
       "        text-align: right;\n",
       "    }\n",
       "</style>\n",
       "<table border=\"1\" class=\"dataframe\">\n",
       "  <thead>\n",
       "    <tr style=\"text-align: right;\">\n",
       "      <th></th>\n",
       "      <th>title</th>\n",
       "      <th>vote_count</th>\n",
       "      <th>vote_average</th>\n",
       "      <th>score</th>\n",
       "    </tr>\n",
       "  </thead>\n",
       "  <tbody>\n",
       "    <tr>\n",
       "      <th>1881</th>\n",
       "      <td>The Shawshank Redemption</td>\n",
       "      <td>8205</td>\n",
       "      <td>8.5</td>\n",
       "      <td>8.059258</td>\n",
       "    </tr>\n",
       "    <tr>\n",
       "      <th>662</th>\n",
       "      <td>Fight Club</td>\n",
       "      <td>9413</td>\n",
       "      <td>8.3</td>\n",
       "      <td>7.939256</td>\n",
       "    </tr>\n",
       "    <tr>\n",
       "      <th>65</th>\n",
       "      <td>The Dark Knight</td>\n",
       "      <td>12002</td>\n",
       "      <td>8.2</td>\n",
       "      <td>7.920020</td>\n",
       "    </tr>\n",
       "    <tr>\n",
       "      <th>3232</th>\n",
       "      <td>Pulp Fiction</td>\n",
       "      <td>8428</td>\n",
       "      <td>8.3</td>\n",
       "      <td>7.904645</td>\n",
       "    </tr>\n",
       "    <tr>\n",
       "      <th>96</th>\n",
       "      <td>Inception</td>\n",
       "      <td>13752</td>\n",
       "      <td>8.1</td>\n",
       "      <td>7.863239</td>\n",
       "    </tr>\n",
       "    <tr>\n",
       "      <th>3337</th>\n",
       "      <td>The Godfather</td>\n",
       "      <td>5893</td>\n",
       "      <td>8.4</td>\n",
       "      <td>7.851236</td>\n",
       "    </tr>\n",
       "    <tr>\n",
       "      <th>95</th>\n",
       "      <td>Interstellar</td>\n",
       "      <td>10867</td>\n",
       "      <td>8.1</td>\n",
       "      <td>7.809479</td>\n",
       "    </tr>\n",
       "    <tr>\n",
       "      <th>809</th>\n",
       "      <td>Forrest Gump</td>\n",
       "      <td>7927</td>\n",
       "      <td>8.2</td>\n",
       "      <td>7.803188</td>\n",
       "    </tr>\n",
       "    <tr>\n",
       "      <th>329</th>\n",
       "      <td>The Lord of the Rings: The Return of the King</td>\n",
       "      <td>8064</td>\n",
       "      <td>8.1</td>\n",
       "      <td>7.727243</td>\n",
       "    </tr>\n",
       "    <tr>\n",
       "      <th>1990</th>\n",
       "      <td>The Empire Strikes Back</td>\n",
       "      <td>5879</td>\n",
       "      <td>8.2</td>\n",
       "      <td>7.697884</td>\n",
       "    </tr>\n",
       "  </tbody>\n",
       "</table>\n",
       "</div>"
      ],
      "text/plain": [
       "                                              title  vote_count  vote_average  \\\n",
       "1881                       The Shawshank Redemption        8205           8.5   \n",
       "662                                      Fight Club        9413           8.3   \n",
       "65                                  The Dark Knight       12002           8.2   \n",
       "3232                                   Pulp Fiction        8428           8.3   \n",
       "96                                        Inception       13752           8.1   \n",
       "3337                                  The Godfather        5893           8.4   \n",
       "95                                     Interstellar       10867           8.1   \n",
       "809                                    Forrest Gump        7927           8.2   \n",
       "329   The Lord of the Rings: The Return of the King        8064           8.1   \n",
       "1990                        The Empire Strikes Back        5879           8.2   \n",
       "\n",
       "         score  \n",
       "1881  8.059258  \n",
       "662   7.939256  \n",
       "65    7.920020  \n",
       "3232  7.904645  \n",
       "96    7.863239  \n",
       "3337  7.851236  \n",
       "95    7.809479  \n",
       "809   7.803188  \n",
       "329   7.727243  \n",
       "1990  7.697884  "
      ]
     },
     "execution_count": 14,
     "metadata": {},
     "output_type": "execute_result"
    }
   ],
   "source": [
    "#Sort movies based on score calculated above\n",
    "q_movies = q_movies.sort_values('score', ascending=False)\n",
    "\n",
    "#Print the top 15 movies\n",
    "q_movies[['title', 'vote_count', 'vote_average', 'score']].head(10)"
   ]
  },
  {
   "cell_type": "code",
   "execution_count": 15,
   "metadata": {},
   "outputs": [
    {
     "data": {
      "text/plain": [
       "Text(0.5, 1.0, 'Popular Movies')"
      ]
     },
     "execution_count": 15,
     "metadata": {},
     "output_type": "execute_result"
    },
    {
     "data": {
      "image/png": "[encoded data removed]",
      "text/plain": [
       "<Figure size 864x288 with 1 Axes>"
      ]
     },
     "metadata": {
      "needs_background": "light"
     },
     "output_type": "display_data"
    }
   ],
   "source": [
    "pop= df2.sort_values('popularity', ascending=False)\n",
    "import matplotlib.pyplot as plt\n",
    "plt.figure(figsize=(12,4))\n",
    "\n",
    "plt.barh(pop['title'].head(6),pop['popularity'].head(6), align='center',\n",
    "        color='skyblue')\n",
    "plt.gca().invert_yaxis()\n",
    "plt.xlabel(\"Popularity\")\n",
    "plt.title(\"Popular Movies\")"
   ]
  },
  {
   "cell_type": "markdown",
   "metadata": {},
   "source": [
    "# new data"
   ]
  },
  {
   "cell_type": "code",
   "execution_count": 96,
   "metadata": {},
   "outputs": [
    {
     "name": "stderr",
     "output_type": "stream",
     "text": [
      "/tmp/ipykernel_905060/280190162.py:7: DtypeWarning: Columns (10) have mixed types. Specify dtype option on import or set low_memory=False.\n",
      "  d5 = pd.read_csv(\"../Datasets/the-movies-dataset/movies_metadata.csv\")\n"
     ]
    }
   ],
   "source": [
    "d1 = pd.read_csv(\"../Datasets/the-movies-dataset/credits.csv\")\n",
    "d2 = pd.read_csv(\"../Datasets/the-movies-dataset/keywords.csv\")\n",
    "d3 = pd.read_csv(\"../Datasets/the-movies-dataset/links.csv\")\n",
    "\n",
    "# d4 = pd.read_csv(\"../Datasets/the-movies-dataset/links_small.csv\")\n",
    "\n",
    "d5 = pd.read_csv(\"../Datasets/the-movies-dataset/movies_metadata.csv\")\n",
    "d6 = pd.read_csv(\"../Datasets/the-movies-dataset/ratings.csv\")\n",
    "\n",
    "# d7 = pd.read_csv(\"../Datasets/the-movies-dataset/ratings_small.csv\")"
   ]
  },
  {
   "cell_type": "markdown",
   "metadata": {},
   "source": [
    "d1 + d2 id\n",
    "\n",
    "d3 + d5 imdb\n",
    "d35 + d6 movieID"
   ]
  },
  {
   "cell_type": "code",
   "execution_count": 97,
   "metadata": {},
   "outputs": [],
   "source": [
    "d1[\"id\"] = d1[\"id\"].astype(str)\n",
    "# d1[\"cast\"] = d1[\"cast\"].astype(str)\n",
    "d2[\"id\"] = d2[\"id\"].astype(str)\n",
    "d6[\"userId\"] = d6[\"userId\"].astype(str)\n",
    "d6[\"movieId\"] = d6[\"movieId\"].astype(str)"
   ]
  },
  {
   "cell_type": "code",
   "execution_count": 98,
   "metadata": {},
   "outputs": [],
   "source": [
    "d52 = pd.merge(d5, d2, on='id', how='inner')\n",
    "d521 = pd.merge(d52, d1, on='id', how='inner').rename(columns={\"id\":\"movieId\"})"
   ]
  },
  {
   "cell_type": "code",
   "execution_count": 99,
   "metadata": {},
   "outputs": [],
   "source": [
    "# d5216 = pd.merge(d6, d521,  on='movieId', how='left')\n",
    "# d5216[\"genres\"] = d5216[\"genres\"].astype(str)"
   ]
  },
  {
   "cell_type": "code",
   "execution_count": null,
   "metadata": {},
   "outputs": [],
   "source": []
  },
  {
   "cell_type": "code",
   "execution_count": 100,
   "metadata": {},
   "outputs": [
    {
     "data": {
      "text/plain": [
       "46628"
      ]
     },
     "execution_count": 100,
     "metadata": {},
     "output_type": "execute_result"
    }
   ],
   "source": [
    "len(d521)"
   ]
  },
  {
   "cell_type": "code",
   "execution_count": 101,
   "metadata": {},
   "outputs": [
    {
     "name": "stdout",
     "output_type": "stream",
     "text": [
      "<class 'pandas.core.frame.DataFrame'>\n",
      "Int64Index: 46628 entries, 0 to 46627\n",
      "Data columns (total 27 columns):\n",
      " #   Column                 Non-Null Count  Dtype  \n",
      "---  ------                 --------------  -----  \n",
      " 0   adult                  46628 non-null  object \n",
      " 1   belongs_to_collection  4574 non-null   object \n",
      " 2   budget                 46628 non-null  object \n",
      " 3   genres                 46628 non-null  object \n",
      " 4   homepage               8009 non-null   object \n",
      " 5   movieId                46628 non-null  object \n",
      " 6   imdb_id                46611 non-null  object \n",
      " 7   original_language      46617 non-null  object \n",
      " 8   original_title         46628 non-null  object \n",
      " 9   overview               45633 non-null  object \n",
      " 10  popularity             46624 non-null  object \n",
      " 11  poster_path            46229 non-null  object \n",
      " 12  production_companies   46624 non-null  object \n",
      " 13  production_countries   46624 non-null  object \n",
      " 14  release_date           46540 non-null  object \n",
      " 15  revenue                46624 non-null  float64\n",
      " 16  runtime                46360 non-null  float64\n",
      " 17  spoken_languages       46624 non-null  object \n",
      " 18  status                 46542 non-null  object \n",
      " 19  tagline                20783 non-null  object \n",
      " 20  title                  46624 non-null  object \n",
      " 21  video                  46624 non-null  object \n",
      " 22  vote_average           46624 non-null  float64\n",
      " 23  vote_count             46624 non-null  float64\n",
      " 24  keywords               46628 non-null  object \n",
      " 25  cast                   46628 non-null  object \n",
      " 26  crew                   46628 non-null  object \n",
      "dtypes: float64(4), object(23)\n",
      "memory usage: 10.0+ MB\n"
     ]
    }
   ],
   "source": [
    "d521.info()"
   ]
  },
  {
   "cell_type": "code",
   "execution_count": 102,
   "metadata": {},
   "outputs": [],
   "source": [
    "# d5216.drop('timestamp', axis=1, inplace=True)\n",
    "d521.drop('adult', axis=1, inplace=True)\n",
    "d521.drop('imdb_id', axis=1, inplace=True)\n",
    "d521.drop('belongs_to_collection', axis=1, inplace=True)\n",
    "d521.drop('video', axis=1, inplace=True)\n",
    "d521.drop('poster_path', axis=1, inplace=True)\n",
    "d521.drop('homepage', axis=1, inplace=True)\n",
    "d521.drop('tagline', axis=1, inplace=True) #since more than half of the movies have no tagline "
   ]
  },
  {
   "cell_type": "code",
   "execution_count": 103,
   "metadata": {},
   "outputs": [
    {
     "data": {
      "text/html": [
       "<div>\n",
       "<style scoped>\n",
       "    .dataframe tbody tr th:only-of-type {\n",
       "        vertical-align: middle;\n",
       "    }\n",
       "\n",
       "    .dataframe tbody tr th {\n",
       "        vertical-align: top;\n",
       "    }\n",
       "\n",
       "    .dataframe thead th {\n",
       "        text-align: right;\n",
       "    }\n",
       "</style>\n",
       "<table border=\"1\" class=\"dataframe\">\n",
       "  <thead>\n",
       "    <tr style=\"text-align: right;\">\n",
       "      <th></th>\n",
       "      <th>budget</th>\n",
       "      <th>genres</th>\n",
       "      <th>movieId</th>\n",
       "      <th>original_language</th>\n",
       "      <th>original_title</th>\n",
       "      <th>overview</th>\n",
       "      <th>popularity</th>\n",
       "      <th>production_companies</th>\n",
       "      <th>production_countries</th>\n",
       "      <th>release_date</th>\n",
       "      <th>revenue</th>\n",
       "      <th>runtime</th>\n",
       "      <th>spoken_languages</th>\n",
       "      <th>status</th>\n",
       "      <th>title</th>\n",
       "      <th>vote_average</th>\n",
       "      <th>vote_count</th>\n",
       "      <th>keywords</th>\n",
       "      <th>cast</th>\n",
       "      <th>crew</th>\n",
       "    </tr>\n",
       "  </thead>\n",
       "  <tbody>\n",
       "    <tr>\n",
       "      <th>0</th>\n",
       "      <td>30000000</td>\n",
       "      <td>[{'id': 16, 'name': 'Animation'}, {'id': 35, '...</td>\n",
       "      <td>862</td>\n",
       "      <td>en</td>\n",
       "      <td>Toy Story</td>\n",
       "      <td>Led by Woody, Andy's toys live happily in his ...</td>\n",
       "      <td>21.946943</td>\n",
       "      <td>[{'name': 'Pixar Animation Studios', 'id': 3}]</td>\n",
       "      <td>[{'iso_3166_1': 'US', 'name': 'United States o...</td>\n",
       "      <td>1995-10-30</td>\n",
       "      <td>373554033.0</td>\n",
       "      <td>81.0</td>\n",
       "      <td>[{'iso_639_1': 'en', 'name': 'English'}]</td>\n",
       "      <td>Released</td>\n",
       "      <td>Toy Story</td>\n",
       "      <td>7.7</td>\n",
       "      <td>5415.0</td>\n",
       "      <td>[{'id': 931, 'name': 'jealousy'}, {'id': 4290,...</td>\n",
       "      <td>[{'cast_id': 14, 'character': 'Woody (voice)',...</td>\n",
       "      <td>[{'credit_id': '52fe4284c3a36847f8024f49', 'de...</td>\n",
       "    </tr>\n",
       "    <tr>\n",
       "      <th>1</th>\n",
       "      <td>65000000</td>\n",
       "      <td>[{'id': 12, 'name': 'Adventure'}, {'id': 14, '...</td>\n",
       "      <td>8844</td>\n",
       "      <td>en</td>\n",
       "      <td>Jumanji</td>\n",
       "      <td>When siblings Judy and Peter discover an encha...</td>\n",
       "      <td>17.015539</td>\n",
       "      <td>[{'name': 'TriStar Pictures', 'id': 559}, {'na...</td>\n",
       "      <td>[{'iso_3166_1': 'US', 'name': 'United States o...</td>\n",
       "      <td>1995-12-15</td>\n",
       "      <td>262797249.0</td>\n",
       "      <td>104.0</td>\n",
       "      <td>[{'iso_639_1': 'en', 'name': 'English'}, {'iso...</td>\n",
       "      <td>Released</td>\n",
       "      <td>Jumanji</td>\n",
       "      <td>6.9</td>\n",
       "      <td>2413.0</td>\n",
       "      <td>[{'id': 10090, 'name': 'board game'}, {'id': 1...</td>\n",
       "      <td>[{'cast_id': 1, 'character': 'Alan Parrish', '...</td>\n",
       "      <td>[{'credit_id': '52fe44bfc3a36847f80a7cd1', 'de...</td>\n",
       "    </tr>\n",
       "    <tr>\n",
       "      <th>2</th>\n",
       "      <td>0</td>\n",
       "      <td>[{'id': 10749, 'name': 'Romance'}, {'id': 35, ...</td>\n",
       "      <td>15602</td>\n",
       "      <td>en</td>\n",
       "      <td>Grumpier Old Men</td>\n",
       "      <td>A family wedding reignites the ancient feud be...</td>\n",
       "      <td>11.7129</td>\n",
       "      <td>[{'name': 'Warner Bros.', 'id': 6194}, {'name'...</td>\n",
       "      <td>[{'iso_3166_1': 'US', 'name': 'United States o...</td>\n",
       "      <td>1995-12-22</td>\n",
       "      <td>0.0</td>\n",
       "      <td>101.0</td>\n",
       "      <td>[{'iso_639_1': 'en', 'name': 'English'}]</td>\n",
       "      <td>Released</td>\n",
       "      <td>Grumpier Old Men</td>\n",
       "      <td>6.5</td>\n",
       "      <td>92.0</td>\n",
       "      <td>[{'id': 1495, 'name': 'fishing'}, {'id': 12392...</td>\n",
       "      <td>[{'cast_id': 2, 'character': 'Max Goldman', 'c...</td>\n",
       "      <td>[{'credit_id': '52fe466a9251416c75077a89', 'de...</td>\n",
       "    </tr>\n",
       "    <tr>\n",
       "      <th>3</th>\n",
       "      <td>16000000</td>\n",
       "      <td>[{'id': 35, 'name': 'Comedy'}, {'id': 18, 'nam...</td>\n",
       "      <td>31357</td>\n",
       "      <td>en</td>\n",
       "      <td>Waiting to Exhale</td>\n",
       "      <td>Cheated on, mistreated and stepped on, the wom...</td>\n",
       "      <td>3.859495</td>\n",
       "      <td>[{'name': 'Twentieth Century Fox Film Corporat...</td>\n",
       "      <td>[{'iso_3166_1': 'US', 'name': 'United States o...</td>\n",
       "      <td>1995-12-22</td>\n",
       "      <td>81452156.0</td>\n",
       "      <td>127.0</td>\n",
       "      <td>[{'iso_639_1': 'en', 'name': 'English'}]</td>\n",
       "      <td>Released</td>\n",
       "      <td>Waiting to Exhale</td>\n",
       "      <td>6.1</td>\n",
       "      <td>34.0</td>\n",
       "      <td>[{'id': 818, 'name': 'based on novel'}, {'id':...</td>\n",
       "      <td>[{'cast_id': 1, 'character': \"Savannah 'Vannah...</td>\n",
       "      <td>[{'credit_id': '52fe44779251416c91011acb', 'de...</td>\n",
       "    </tr>\n",
       "    <tr>\n",
       "      <th>4</th>\n",
       "      <td>0</td>\n",
       "      <td>[{'id': 35, 'name': 'Comedy'}]</td>\n",
       "      <td>11862</td>\n",
       "      <td>en</td>\n",
       "      <td>Father of the Bride Part II</td>\n",
       "      <td>Just when George Banks has recovered from his ...</td>\n",
       "      <td>8.387519</td>\n",
       "      <td>[{'name': 'Sandollar Productions', 'id': 5842}...</td>\n",
       "      <td>[{'iso_3166_1': 'US', 'name': 'United States o...</td>\n",
       "      <td>1995-02-10</td>\n",
       "      <td>76578911.0</td>\n",
       "      <td>106.0</td>\n",
       "      <td>[{'iso_639_1': 'en', 'name': 'English'}]</td>\n",
       "      <td>Released</td>\n",
       "      <td>Father of the Bride Part II</td>\n",
       "      <td>5.7</td>\n",
       "      <td>173.0</td>\n",
       "      <td>[{'id': 1009, 'name': 'baby'}, {'id': 1599, 'n...</td>\n",
       "      <td>[{'cast_id': 1, 'character': 'George Banks', '...</td>\n",
       "      <td>[{'credit_id': '52fe44959251416c75039ed7', 'de...</td>\n",
       "    </tr>\n",
       "    <tr>\n",
       "      <th>...</th>\n",
       "      <td>...</td>\n",
       "      <td>...</td>\n",
       "      <td>...</td>\n",
       "      <td>...</td>\n",
       "      <td>...</td>\n",
       "      <td>...</td>\n",
       "      <td>...</td>\n",
       "      <td>...</td>\n",
       "      <td>...</td>\n",
       "      <td>...</td>\n",
       "      <td>...</td>\n",
       "      <td>...</td>\n",
       "      <td>...</td>\n",
       "      <td>...</td>\n",
       "      <td>...</td>\n",
       "      <td>...</td>\n",
       "      <td>...</td>\n",
       "      <td>...</td>\n",
       "      <td>...</td>\n",
       "      <td>...</td>\n",
       "    </tr>\n",
       "    <tr>\n",
       "      <th>46623</th>\n",
       "      <td>0</td>\n",
       "      <td>[{'id': 18, 'name': 'Drama'}, {'id': 10751, 'n...</td>\n",
       "      <td>439050</td>\n",
       "      <td>fa</td>\n",
       "      <td>رگ خواب</td>\n",
       "      <td>Rising and falling between a man and woman.</td>\n",
       "      <td>0.072051</td>\n",
       "      <td>[]</td>\n",
       "      <td>[{'iso_3166_1': 'IR', 'name': 'Iran'}]</td>\n",
       "      <td>NaN</td>\n",
       "      <td>0.0</td>\n",
       "      <td>90.0</td>\n",
       "      <td>[{'iso_639_1': 'fa', 'name': 'فارسی'}]</td>\n",
       "      <td>Released</td>\n",
       "      <td>Subdue</td>\n",
       "      <td>4.0</td>\n",
       "      <td>1.0</td>\n",
       "      <td>[{'id': 10703, 'name': 'tragic love'}]</td>\n",
       "      <td>[{'cast_id': 0, 'character': '', 'credit_id': ...</td>\n",
       "      <td>[{'credit_id': '5894a97d925141426c00818c', 'de...</td>\n",
       "    </tr>\n",
       "    <tr>\n",
       "      <th>46624</th>\n",
       "      <td>0</td>\n",
       "      <td>[{'id': 18, 'name': 'Drama'}]</td>\n",
       "      <td>111109</td>\n",
       "      <td>tl</td>\n",
       "      <td>Siglo ng Pagluluwal</td>\n",
       "      <td>An artist struggles to finish his work while a...</td>\n",
       "      <td>0.178241</td>\n",
       "      <td>[{'name': 'Sine Olivia', 'id': 19653}]</td>\n",
       "      <td>[{'iso_3166_1': 'PH', 'name': 'Philippines'}]</td>\n",
       "      <td>2011-11-17</td>\n",
       "      <td>0.0</td>\n",
       "      <td>360.0</td>\n",
       "      <td>[{'iso_639_1': 'tl', 'name': ''}]</td>\n",
       "      <td>Released</td>\n",
       "      <td>Century of Birthing</td>\n",
       "      <td>9.0</td>\n",
       "      <td>3.0</td>\n",
       "      <td>[{'id': 2679, 'name': 'artist'}, {'id': 14531,...</td>\n",
       "      <td>[{'cast_id': 1002, 'character': 'Sister Angela...</td>\n",
       "      <td>[{'credit_id': '52fe4af1c3a36847f81e9b15', 'de...</td>\n",
       "    </tr>\n",
       "    <tr>\n",
       "      <th>46625</th>\n",
       "      <td>0</td>\n",
       "      <td>[{'id': 28, 'name': 'Action'}, {'id': 18, 'nam...</td>\n",
       "      <td>67758</td>\n",
       "      <td>en</td>\n",
       "      <td>Betrayal</td>\n",
       "      <td>When one of her hits goes wrong, a professiona...</td>\n",
       "      <td>0.903007</td>\n",
       "      <td>[{'name': 'American World Pictures', 'id': 6165}]</td>\n",
       "      <td>[{'iso_3166_1': 'US', 'name': 'United States o...</td>\n",
       "      <td>2003-08-01</td>\n",
       "      <td>0.0</td>\n",
       "      <td>90.0</td>\n",
       "      <td>[{'iso_639_1': 'en', 'name': 'English'}]</td>\n",
       "      <td>Released</td>\n",
       "      <td>Betrayal</td>\n",
       "      <td>3.8</td>\n",
       "      <td>6.0</td>\n",
       "      <td>[]</td>\n",
       "      <td>[{'cast_id': 6, 'character': 'Emily Shaw', 'cr...</td>\n",
       "      <td>[{'credit_id': '52fe4776c3a368484e0c8387', 'de...</td>\n",
       "    </tr>\n",
       "    <tr>\n",
       "      <th>46626</th>\n",
       "      <td>0</td>\n",
       "      <td>[]</td>\n",
       "      <td>227506</td>\n",
       "      <td>en</td>\n",
       "      <td>Satana likuyushchiy</td>\n",
       "      <td>In a small town live two brothers, one a minis...</td>\n",
       "      <td>0.003503</td>\n",
       "      <td>[{'name': 'Yermoliev', 'id': 88753}]</td>\n",
       "      <td>[{'iso_3166_1': 'RU', 'name': 'Russia'}]</td>\n",
       "      <td>1917-10-21</td>\n",
       "      <td>0.0</td>\n",
       "      <td>87.0</td>\n",
       "      <td>[]</td>\n",
       "      <td>Released</td>\n",
       "      <td>Satan Triumphant</td>\n",
       "      <td>0.0</td>\n",
       "      <td>0.0</td>\n",
       "      <td>[]</td>\n",
       "      <td>[{'cast_id': 2, 'character': '', 'credit_id': ...</td>\n",
       "      <td>[{'credit_id': '533bccebc3a36844cf0011a7', 'de...</td>\n",
       "    </tr>\n",
       "    <tr>\n",
       "      <th>46627</th>\n",
       "      <td>0</td>\n",
       "      <td>[]</td>\n",
       "      <td>461257</td>\n",
       "      <td>en</td>\n",
       "      <td>Queerama</td>\n",
       "      <td>50 years after decriminalisation of homosexual...</td>\n",
       "      <td>0.163015</td>\n",
       "      <td>[]</td>\n",
       "      <td>[{'iso_3166_1': 'GB', 'name': 'United Kingdom'}]</td>\n",
       "      <td>2017-06-09</td>\n",
       "      <td>0.0</td>\n",
       "      <td>75.0</td>\n",
       "      <td>[{'iso_639_1': 'en', 'name': 'English'}]</td>\n",
       "      <td>Released</td>\n",
       "      <td>Queerama</td>\n",
       "      <td>0.0</td>\n",
       "      <td>0.0</td>\n",
       "      <td>[]</td>\n",
       "      <td>[]</td>\n",
       "      <td>[{'credit_id': '593e676c92514105b702e68e', 'de...</td>\n",
       "    </tr>\n",
       "  </tbody>\n",
       "</table>\n",
       "<p>46628 rows × 20 columns</p>\n",
       "</div>"
      ],
      "text/plain": [
       "         budget                                             genres movieId  \\\n",
       "0      30000000  [{'id': 16, 'name': 'Animation'}, {'id': 35, '...     862   \n",
       "1      65000000  [{'id': 12, 'name': 'Adventure'}, {'id': 14, '...    8844   \n",
       "2             0  [{'id': 10749, 'name': 'Romance'}, {'id': 35, ...   15602   \n",
       "3      16000000  [{'id': 35, 'name': 'Comedy'}, {'id': 18, 'nam...   31357   \n",
       "4             0                     [{'id': 35, 'name': 'Comedy'}]   11862   \n",
       "...         ...                                                ...     ...   \n",
       "46623         0  [{'id': 18, 'name': 'Drama'}, {'id': 10751, 'n...  439050   \n",
       "46624         0                      [{'id': 18, 'name': 'Drama'}]  111109   \n",
       "46625         0  [{'id': 28, 'name': 'Action'}, {'id': 18, 'nam...   67758   \n",
       "46626         0                                                 []  227506   \n",
       "46627         0                                                 []  461257   \n",
       "\n",
       "      original_language               original_title  \\\n",
       "0                    en                    Toy Story   \n",
       "1                    en                      Jumanji   \n",
       "2                    en             Grumpier Old Men   \n",
       "3                    en            Waiting to Exhale   \n",
       "4                    en  Father of the Bride Part II   \n",
       "...                 ...                          ...   \n",
       "46623                fa                      رگ خواب   \n",
       "46624                tl          Siglo ng Pagluluwal   \n",
       "46625                en                     Betrayal   \n",
       "46626                en          Satana likuyushchiy   \n",
       "46627                en                     Queerama   \n",
       "\n",
       "                                                overview popularity  \\\n",
       "0      Led by Woody, Andy's toys live happily in his ...  21.946943   \n",
       "1      When siblings Judy and Peter discover an encha...  17.015539   \n",
       "2      A family wedding reignites the ancient feud be...    11.7129   \n",
       "3      Cheated on, mistreated and stepped on, the wom...   3.859495   \n",
       "4      Just when George Banks has recovered from his ...   8.387519   \n",
       "...                                                  ...        ...   \n",
       "46623        Rising and falling between a man and woman.   0.072051   \n",
       "46624  An artist struggles to finish his work while a...   0.178241   \n",
       "46625  When one of her hits goes wrong, a professiona...   0.903007   \n",
       "46626  In a small town live two brothers, one a minis...   0.003503   \n",
       "46627  50 years after decriminalisation of homosexual...   0.163015   \n",
       "\n",
       "                                    production_companies  \\\n",
       "0         [{'name': 'Pixar Animation Studios', 'id': 3}]   \n",
       "1      [{'name': 'TriStar Pictures', 'id': 559}, {'na...   \n",
       "2      [{'name': 'Warner Bros.', 'id': 6194}, {'name'...   \n",
       "3      [{'name': 'Twentieth Century Fox Film Corporat...   \n",
       "4      [{'name': 'Sandollar Productions', 'id': 5842}...   \n",
       "...                                                  ...   \n",
       "46623                                                 []   \n",
       "46624             [{'name': 'Sine Olivia', 'id': 19653}]   \n",
       "46625  [{'name': 'American World Pictures', 'id': 6165}]   \n",
       "46626               [{'name': 'Yermoliev', 'id': 88753}]   \n",
       "46627                                                 []   \n",
       "\n",
       "                                    production_countries release_date  \\\n",
       "0      [{'iso_3166_1': 'US', 'name': 'United States o...   1995-10-30   \n",
       "1      [{'iso_3166_1': 'US', 'name': 'United States o...   1995-12-15   \n",
       "2      [{'iso_3166_1': 'US', 'name': 'United States o...   1995-12-22   \n",
       "3      [{'iso_3166_1': 'US', 'name': 'United States o...   1995-12-22   \n",
       "4      [{'iso_3166_1': 'US', 'name': 'United States o...   1995-02-10   \n",
       "...                                                  ...          ...   \n",
       "46623             [{'iso_3166_1': 'IR', 'name': 'Iran'}]          NaN   \n",
       "46624      [{'iso_3166_1': 'PH', 'name': 'Philippines'}]   2011-11-17   \n",
       "46625  [{'iso_3166_1': 'US', 'name': 'United States o...   2003-08-01   \n",
       "46626           [{'iso_3166_1': 'RU', 'name': 'Russia'}]   1917-10-21   \n",
       "46627   [{'iso_3166_1': 'GB', 'name': 'United Kingdom'}]   2017-06-09   \n",
       "\n",
       "           revenue  runtime  \\\n",
       "0      373554033.0     81.0   \n",
       "1      262797249.0    104.0   \n",
       "2              0.0    101.0   \n",
       "3       81452156.0    127.0   \n",
       "4       76578911.0    106.0   \n",
       "...            ...      ...   \n",
       "46623          0.0     90.0   \n",
       "46624          0.0    360.0   \n",
       "46625          0.0     90.0   \n",
       "46626          0.0     87.0   \n",
       "46627          0.0     75.0   \n",
       "\n",
       "                                        spoken_languages    status  \\\n",
       "0               [{'iso_639_1': 'en', 'name': 'English'}]  Released   \n",
       "1      [{'iso_639_1': 'en', 'name': 'English'}, {'iso...  Released   \n",
       "2               [{'iso_639_1': 'en', 'name': 'English'}]  Released   \n",
       "3               [{'iso_639_1': 'en', 'name': 'English'}]  Released   \n",
       "4               [{'iso_639_1': 'en', 'name': 'English'}]  Released   \n",
       "...                                                  ...       ...   \n",
       "46623             [{'iso_639_1': 'fa', 'name': 'فارسی'}]  Released   \n",
       "46624                  [{'iso_639_1': 'tl', 'name': ''}]  Released   \n",
       "46625           [{'iso_639_1': 'en', 'name': 'English'}]  Released   \n",
       "46626                                                 []  Released   \n",
       "46627           [{'iso_639_1': 'en', 'name': 'English'}]  Released   \n",
       "\n",
       "                             title  vote_average  vote_count  \\\n",
       "0                        Toy Story           7.7      5415.0   \n",
       "1                          Jumanji           6.9      2413.0   \n",
       "2                 Grumpier Old Men           6.5        92.0   \n",
       "3                Waiting to Exhale           6.1        34.0   \n",
       "4      Father of the Bride Part II           5.7       173.0   \n",
       "...                            ...           ...         ...   \n",
       "46623                       Subdue           4.0         1.0   \n",
       "46624          Century of Birthing           9.0         3.0   \n",
       "46625                     Betrayal           3.8         6.0   \n",
       "46626             Satan Triumphant           0.0         0.0   \n",
       "46627                     Queerama           0.0         0.0   \n",
       "\n",
       "                                                keywords  \\\n",
       "0      [{'id': 931, 'name': 'jealousy'}, {'id': 4290,...   \n",
       "1      [{'id': 10090, 'name': 'board game'}, {'id': 1...   \n",
       "2      [{'id': 1495, 'name': 'fishing'}, {'id': 12392...   \n",
       "3      [{'id': 818, 'name': 'based on novel'}, {'id':...   \n",
       "4      [{'id': 1009, 'name': 'baby'}, {'id': 1599, 'n...   \n",
       "...                                                  ...   \n",
       "46623             [{'id': 10703, 'name': 'tragic love'}]   \n",
       "46624  [{'id': 2679, 'name': 'artist'}, {'id': 14531,...   \n",
       "46625                                                 []   \n",
       "46626                                                 []   \n",
       "46627                                                 []   \n",
       "\n",
       "                                                    cast  \\\n",
       "0      [{'cast_id': 14, 'character': 'Woody (voice)',...   \n",
       "1      [{'cast_id': 1, 'character': 'Alan Parrish', '...   \n",
       "2      [{'cast_id': 2, 'character': 'Max Goldman', 'c...   \n",
       "3      [{'cast_id': 1, 'character': \"Savannah 'Vannah...   \n",
       "4      [{'cast_id': 1, 'character': 'George Banks', '...   \n",
       "...                                                  ...   \n",
       "46623  [{'cast_id': 0, 'character': '', 'credit_id': ...   \n",
       "46624  [{'cast_id': 1002, 'character': 'Sister Angela...   \n",
       "46625  [{'cast_id': 6, 'character': 'Emily Shaw', 'cr...   \n",
       "46626  [{'cast_id': 2, 'character': '', 'credit_id': ...   \n",
       "46627                                                 []   \n",
       "\n",
       "                                                    crew  \n",
       "0      [{'credit_id': '52fe4284c3a36847f8024f49', 'de...  \n",
       "1      [{'credit_id': '52fe44bfc3a36847f80a7cd1', 'de...  \n",
       "2      [{'credit_id': '52fe466a9251416c75077a89', 'de...  \n",
       "3      [{'credit_id': '52fe44779251416c91011acb', 'de...  \n",
       "4      [{'credit_id': '52fe44959251416c75039ed7', 'de...  \n",
       "...                                                  ...  \n",
       "46623  [{'credit_id': '5894a97d925141426c00818c', 'de...  \n",
       "46624  [{'credit_id': '52fe4af1c3a36847f81e9b15', 'de...  \n",
       "46625  [{'credit_id': '52fe4776c3a368484e0c8387', 'de...  \n",
       "46626  [{'credit_id': '533bccebc3a36844cf0011a7', 'de...  \n",
       "46627  [{'credit_id': '593e676c92514105b702e68e', 'de...  \n",
       "\n",
       "[46628 rows x 20 columns]"
      ]
     },
     "execution_count": 103,
     "metadata": {},
     "output_type": "execute_result"
    }
   ],
   "source": [
    "d521"
   ]
  },
  {
   "cell_type": "code",
   "execution_count": 104,
   "metadata": {},
   "outputs": [
    {
     "name": "stdout",
     "output_type": "stream",
     "text": [
      "<class 'pandas.core.frame.DataFrame'>\n",
      "Int64Index: 46628 entries, 0 to 46627\n",
      "Data columns (total 20 columns):\n",
      " #   Column                Non-Null Count  Dtype  \n",
      "---  ------                --------------  -----  \n",
      " 0   budget                46628 non-null  object \n",
      " 1   genres                46628 non-null  object \n",
      " 2   movieId               46628 non-null  object \n",
      " 3   original_language     46617 non-null  object \n",
      " 4   original_title        46628 non-null  object \n",
      " 5   overview              45633 non-null  object \n",
      " 6   popularity            46624 non-null  object \n",
      " 7   production_companies  46624 non-null  object \n",
      " 8   production_countries  46624 non-null  object \n",
      " 9   release_date          46540 non-null  object \n",
      " 10  revenue               46624 non-null  float64\n",
      " 11  runtime               46360 non-null  float64\n",
      " 12  spoken_languages      46624 non-null  object \n",
      " 13  status                46542 non-null  object \n",
      " 14  title                 46624 non-null  object \n",
      " 15  vote_average          46624 non-null  float64\n",
      " 16  vote_count            46624 non-null  float64\n",
      " 17  keywords              46628 non-null  object \n",
      " 18  cast                  46628 non-null  object \n",
      " 19  crew                  46628 non-null  object \n",
      "dtypes: float64(4), object(16)\n",
      "memory usage: 7.5+ MB\n"
     ]
    }
   ],
   "source": [
    "d521.info()"
   ]
  },
  {
   "cell_type": "code",
   "execution_count": 105,
   "metadata": {},
   "outputs": [
    {
     "name": "stdout",
     "output_type": "stream",
     "text": [
      "<class 'pandas.core.frame.DataFrame'>\n",
      "Int64Index: 4803 entries, 0 to 4802\n",
      "Data columns (total 23 columns):\n",
      " #   Column                Non-Null Count  Dtype  \n",
      "---  ------                --------------  -----  \n",
      " 0   budget                4803 non-null   int64  \n",
      " 1   genres                4803 non-null   object \n",
      " 2   homepage              1712 non-null   object \n",
      " 3   id                    4803 non-null   int64  \n",
      " 4   keywords              4803 non-null   object \n",
      " 5   original_language     4803 non-null   object \n",
      " 6   original_title        4803 non-null   object \n",
      " 7   overview              4800 non-null   object \n",
      " 8   popularity            4803 non-null   float64\n",
      " 9   production_companies  4803 non-null   object \n",
      " 10  production_countries  4803 non-null   object \n",
      " 11  release_date          4802 non-null   object \n",
      " 12  revenue               4803 non-null   int64  \n",
      " 13  runtime               4801 non-null   float64\n",
      " 14  spoken_languages      4803 non-null   object \n",
      " 15  status                4803 non-null   object \n",
      " 16  tagline               3959 non-null   object \n",
      " 17  title                 4803 non-null   object \n",
      " 18  vote_average          4803 non-null   float64\n",
      " 19  vote_count            4803 non-null   int64  \n",
      " 20  tittle                4803 non-null   object \n",
      " 21  cast                  4803 non-null   object \n",
      " 22  crew                  4803 non-null   object \n",
      "dtypes: float64(3), int64(4), object(16)\n",
      "memory usage: 900.6+ KB\n"
     ]
    }
   ],
   "source": [
    "df2.info()"
   ]
  },
  {
   "cell_type": "code",
   "execution_count": 106,
   "metadata": {},
   "outputs": [],
   "source": [
    "# d5216[\"movieId\"] = d5216[\"movieId\"].astype(int)"
   ]
  },
  {
   "cell_type": "code",
   "execution_count": 107,
   "metadata": {},
   "outputs": [],
   "source": [
    "# d5216[\"userId\"] = d5216[\"userId\"].astype(int)"
   ]
  },
  {
   "cell_type": "code",
   "execution_count": null,
   "metadata": {},
   "outputs": [],
   "source": []
  },
  {
   "cell_type": "code",
   "execution_count": 108,
   "metadata": {},
   "outputs": [
    {
     "name": "stdout",
     "output_type": "stream",
     "text": [
      "budget 0\n",
      "genres 0\n",
      "movieId 0\n",
      "original_language 11\n",
      "original_title 0\n",
      "overview 995\n",
      "popularity 4\n",
      "production_companies 4\n",
      "production_countries 4\n",
      "release_date 88\n",
      "revenue 4\n",
      "runtime 268\n",
      "spoken_languages 4\n",
      "status 86\n",
      "title 4\n",
      "vote_average 4\n",
      "vote_count 4\n",
      "keywords 0\n",
      "cast 0\n",
      "crew 0\n"
     ]
    }
   ],
   "source": [
    "features = d521.columns\n",
    "for i in features:\n",
    "    print(i,d521[i].isna().sum())"
   ]
  },
  {
   "cell_type": "code",
   "execution_count": 109,
   "metadata": {},
   "outputs": [
    {
     "data": {
      "text/plain": [
       "Released           46164\n",
       "Rumored              240\n",
       "Post Production      100\n",
       "In Production         21\n",
       "Planned               15\n",
       "Canceled               2\n",
       "Name: status, dtype: int64"
      ]
     },
     "execution_count": 109,
     "metadata": {},
     "output_type": "execute_result"
    }
   ],
   "source": [
    "d521['status'].value_counts()"
   ]
  },
  {
   "cell_type": "markdown",
   "metadata": {},
   "source": [
    "delete popularity_missing, tagline_column, title_votecount_voteavg_missing, make_0 for runtime nulls, convert dates to release year and delete nulls, make revenue 0 for nulls, delete null original language, delete null cancelled planned rummored"
   ]
  },
  {
   "cell_type": "code",
   "execution_count": 154,
   "metadata": {},
   "outputs": [
    {
     "name": "stdout",
     "output_type": "stream",
     "text": [
      "budget 0\n",
      "genres 0\n",
      "movieId 0\n",
      "original_language 0\n",
      "original_title 0\n",
      "overview 950\n",
      "popularity 0\n",
      "production_companies 0\n",
      "production_countries 0\n",
      "revenue 0\n",
      "runtime 0\n",
      "spoken_languages 0\n",
      "status 0\n",
      "title 0\n",
      "vote_average 0\n",
      "vote_count 0\n",
      "keywords 0\n",
      "cast 0\n",
      "crew 0\n",
      "release_year 0\n"
     ]
    }
   ],
   "source": [
    "features = d521.columns\n",
    "for i in features:\n",
    "    print(i,d521[i].isna().sum())"
   ]
  },
  {
   "cell_type": "markdown",
   "metadata": {},
   "source": [
    "#### Remove all majority null rows"
   ]
  },
  {
   "cell_type": "code",
   "execution_count": 115,
   "metadata": {},
   "outputs": [],
   "source": [
    "d521 = d521[d521.popularity.notnull()] #removed all null rows"
   ]
  },
  {
   "cell_type": "markdown",
   "metadata": {},
   "source": [
    "#### Delete all records with status = null cancelled planned rummored"
   ]
  },
  {
   "cell_type": "code",
   "execution_count": 118,
   "metadata": {},
   "outputs": [],
   "source": [
    "d521 = d521[d521.status.notnull()]"
   ]
  },
  {
   "cell_type": "code",
   "execution_count": 121,
   "metadata": {},
   "outputs": [],
   "source": [
    "d521.drop(d521[d521['status'] == 'Canceled'].index, inplace = True)"
   ]
  },
  {
   "cell_type": "code",
   "execution_count": 122,
   "metadata": {},
   "outputs": [],
   "source": [
    "d521.drop(d521[d521['status'] == 'Planned'].index, inplace = True)"
   ]
  },
  {
   "cell_type": "code",
   "execution_count": 123,
   "metadata": {},
   "outputs": [],
   "source": [
    "d521.drop(d521[d521['status'] == 'Rumored'].index, inplace = True)"
   ]
  },
  {
   "cell_type": "markdown",
   "metadata": {},
   "source": [
    "#### Delete all records with release date = null And convert release date to release year"
   ]
  },
  {
   "cell_type": "code",
   "execution_count": 126,
   "metadata": {},
   "outputs": [],
   "source": [
    "d521 = d521[d521.release_date.notnull()]"
   ]
  },
  {
   "cell_type": "code",
   "execution_count": 138,
   "metadata": {},
   "outputs": [],
   "source": [
    "rel_year = []\n",
    "c = 0\n",
    "for ind in d521.index:\n",
    "    rel_year.append(int(d521[\"release_date\"][ind][:4]))\n",
    "d521[\"release_year\"] = rel_year"
   ]
  },
  {
   "cell_type": "code",
   "execution_count": 141,
   "metadata": {},
   "outputs": [],
   "source": [
    "d521.drop(\"release_date\", axis=1, inplace=True)"
   ]
  },
  {
   "cell_type": "markdown",
   "metadata": {},
   "source": [
    "#### Delete all records with original_language = null"
   ]
  },
  {
   "cell_type": "code",
   "execution_count": 144,
   "metadata": {},
   "outputs": [],
   "source": [
    "d521 = d521[d521.original_language.notnull()]"
   ]
  },
  {
   "cell_type": "markdown",
   "metadata": {},
   "source": [
    "#### Make all null runtimes = 0"
   ]
  },
  {
   "cell_type": "code",
   "execution_count": 153,
   "metadata": {},
   "outputs": [],
   "source": [
    "d521[\"runtime\"].fillna(value = 0, inplace = True)"
   ]
  },
  {
   "cell_type": "markdown",
   "metadata": {},
   "source": [
    "#### Make null cast overview as empty string"
   ]
  },
  {
   "cell_type": "code",
   "execution_count": 156,
   "metadata": {},
   "outputs": [],
   "source": [
    "d521[\"cast\"] = d521[\"cast\"].astype(str)\n",
    "d521[\"overview\"] = d521[\"overview\"].astype(str)"
   ]
  },
  {
   "cell_type": "markdown",
   "metadata": {},
   "source": [
    "#### Handled all null cases"
   ]
  },
  {
   "cell_type": "code",
   "execution_count": 159,
   "metadata": {},
   "outputs": [
    {
     "name": "stdout",
     "output_type": "stream",
     "text": [
      "budget 0\n",
      "genres 0\n",
      "movieId 0\n",
      "original_language 0\n",
      "original_title 0\n",
      "overview 0\n",
      "popularity 0\n",
      "production_companies 0\n",
      "production_countries 0\n",
      "revenue 0\n",
      "runtime 0\n",
      "spoken_languages 0\n",
      "status 0\n",
      "title 0\n",
      "vote_average 0\n",
      "vote_count 0\n",
      "keywords 0\n",
      "cast 0\n",
      "crew 0\n",
      "release_year 0\n"
     ]
    }
   ],
   "source": [
    "features = d521.columns\n",
    "for i in features:\n",
    "    print(i,d521[i].isna().sum())"
   ]
  },
  {
   "cell_type": "code",
   "execution_count": 160,
   "metadata": {},
   "outputs": [
    {
     "data": {
      "text/plain": [
       "46195"
      ]
     },
     "execution_count": 160,
     "metadata": {},
     "output_type": "execute_result"
    }
   ],
   "source": [
    "len(d521)"
   ]
  },
  {
   "cell_type": "markdown",
   "metadata": {},
   "source": [
    "## Preprocessing"
   ]
  },
  {
   "cell_type": "code",
   "execution_count": 306,
   "metadata": {},
   "outputs": [],
   "source": [
    "df2 = d521.copy()"
   ]
  },
  {
   "cell_type": "code",
   "execution_count": null,
   "metadata": {},
   "outputs": [],
   "source": []
  },
  {
   "cell_type": "code",
   "execution_count": 307,
   "metadata": {},
   "outputs": [],
   "source": [
    "genres = {}\n",
    "done = []\n",
    "index = 0\n",
    "add_gen = []\n",
    "for i in df2.index:\n",
    "    curr = []\n",
    "    res = df2[\"genres\"][i]\n",
    "    res = res.replace(\"\\'\", \"\\\"\")\n",
    "    res = str(res)\n",
    "    if(res == \"nan\"):\n",
    "        res =\"[]\"\n",
    "    res = json.loads(res)\n",
    "#     res = df2.loc[i, \"genres\"]\n",
    "#     print(type(df2.loc[i, \"genres\"]))\n",
    "    for j in range(len(res)):\n",
    "        if(res[j][\"name\"] not in done):\n",
    "            done.append(res[j]['name'])\n",
    "            genres[res[j][\"name\"]] = index\n",
    "            index+=1\n",
    "        curr.append(genres[res[j][\"name\"]])\n",
    "    add_gen.append(curr)"
   ]
  },
  {
   "cell_type": "code",
   "execution_count": 308,
   "metadata": {},
   "outputs": [
    {
     "data": {
      "text/plain": [
       "{'Animation': 0,\n",
       " 'Comedy': 1,\n",
       " 'Family': 2,\n",
       " 'Adventure': 3,\n",
       " 'Fantasy': 4,\n",
       " 'Romance': 5,\n",
       " 'Drama': 6,\n",
       " 'Action': 7,\n",
       " 'Crime': 8,\n",
       " 'Thriller': 9,\n",
       " 'Horror': 10,\n",
       " 'History': 11,\n",
       " 'Science Fiction': 12,\n",
       " 'Mystery': 13,\n",
       " 'War': 14,\n",
       " 'Foreign': 15,\n",
       " 'Music': 16,\n",
       " 'Documentary': 17,\n",
       " 'Western': 18,\n",
       " 'TV Movie': 19}"
      ]
     },
     "execution_count": 308,
     "metadata": {},
     "output_type": "execute_result"
    }
   ],
   "source": [
    "genres"
   ]
  },
  {
   "cell_type": "code",
   "execution_count": 309,
   "metadata": {},
   "outputs": [],
   "source": [
    "df2.drop('genres', axis=1, inplace=True)\n",
    "df2['genres'] = add_gen"
   ]
  },
  {
   "cell_type": "code",
   "execution_count": 310,
   "metadata": {},
   "outputs": [],
   "source": [
    "keywords = {}\n",
    "done = []\n",
    "index = 0\n",
    "add_gen = []\n",
    "for i in df2.index:\n",
    "    curr = []\n",
    "    res = df2[\"keywords\"][i]\n",
    "#     print(res)\n",
    "#     try:\n",
    "    res = res.replace('\\\"', \"\\'\")\n",
    "    res = res.replace(\"'id'\", '\"id\"')\n",
    "    res = res.replace(\"'name'\", '\"name\"')\n",
    "    res = res.replace(\": '\", ': \"')\n",
    "    res = res.replace(\"'}\", '\"}')\n",
    "    res = res.replace(\"\\\\\", '')\n",
    "    res = str(res)\n",
    "    if(res == \"nan\"):\n",
    "        res =\"[]\"\n",
    "    res = json.loads(res)\n",
    "#     except:\n",
    "#         add_gen.append(curr)\n",
    "#         continue\n",
    "#     res = json.loads(df2.loc[i, \"keywords\"])\n",
    "    #edit\n",
    "    s = \"\"\n",
    "    for j in range(len(res)):\n",
    "        if(res[j][\"name\"] not in done):\n",
    "            done.append(res[j][\"name\"])\n",
    "            keywords[res[j][\"name\"]] = index\n",
    "            index+=1\n",
    "            #edit\n",
    "            s = res[j][\"name\"]\n",
    "            \n",
    "#         curr.append(keywords[res[j][\"name\"]])\n",
    "        #edit\n",
    "        if(s != \"\"):\n",
    "            curr.append(s.lower().replace(' ', ''))\n",
    "    add_gen.append(curr)"
   ]
  },
  {
   "cell_type": "code",
   "execution_count": 311,
   "metadata": {},
   "outputs": [
    {
     "data": {
      "text/plain": [
       "19924"
      ]
     },
     "execution_count": 311,
     "metadata": {},
     "output_type": "execute_result"
    }
   ],
   "source": [
    "len(keywords)"
   ]
  },
  {
   "cell_type": "code",
   "execution_count": 312,
   "metadata": {},
   "outputs": [],
   "source": [
    "df2.drop('keywords', axis=1, inplace=True)\n",
    "df2['keywords'] = add_gen"
   ]
  },
  {
   "cell_type": "code",
   "execution_count": 313,
   "metadata": {},
   "outputs": [],
   "source": [
    "production_companies = {}\n",
    "done = []\n",
    "index = 0\n",
    "add_gen = []\n",
    "for i in df2.index:\n",
    "    curr = []\n",
    "    res = df2[\"production_companies\"][i]\n",
    "    res = res.replace('\\\"', \"\\'\")\n",
    "    res = res.replace(\"'id'\", '\"id\"')\n",
    "    res = res.replace(\"'name'\", '\"name\"')\n",
    "    res = res.replace(\": '\", ': \"')\n",
    "    res = res.replace(\"', \\\"id\\\"\", '\", \"id\"')\n",
    "    res = res.replace(\"\\\\\", '')\n",
    "    res = str(res)\n",
    "    if(res == \"nan\"):\n",
    "        res =\"[]\"\n",
    "    res = json.loads(res)\n",
    "    \n",
    "#     res = json.loads(df2.loc[i, \"production_companies\"])\n",
    "    for j in range(len(res)):\n",
    "        if(res[j][\"name\"] not in done):\n",
    "            done.append(res[j][\"name\"])\n",
    "            production_companies[res[j][\"name\"]] = index\n",
    "            index+=1\n",
    "        curr.append(production_companies[res[j][\"name\"]])\n",
    "    add_gen.append(curr)"
   ]
  },
  {
   "cell_type": "code",
   "execution_count": 314,
   "metadata": {},
   "outputs": [],
   "source": [
    "df2.drop('production_companies', axis=1, inplace=True)\n",
    "df2['production_companies'] = add_gen"
   ]
  },
  {
   "cell_type": "code",
   "execution_count": 315,
   "metadata": {},
   "outputs": [],
   "source": [
    "production_countries = {}\n",
    "done = []\n",
    "index = 0\n",
    "add_gen = []\n",
    "for i in df2.index:\n",
    "    curr = []\n",
    "    res = df2[\"production_countries\"][i]\n",
    "    res = res.replace('\\\"', \"\\'\")\n",
    "    res = res.replace(\"'iso_3166_1'\", '\"iso_3166_1\"')\n",
    "    res = res.replace(\"'name'\", '\"name\"')\n",
    "    res = res.replace(\": '\", ': \"')\n",
    "    res = res.replace(\"', \\\"name\\\"\", '\", \"name\"')\n",
    "    res = res.replace(\"'}\", '\"}')\n",
    "    res = res.replace(\"\\\\\", '')\n",
    "    res = str(res)\n",
    "    if(res == \"nan\"):\n",
    "        res =\"[]\"\n",
    "    res = json.loads(res)\n",
    "#     res = json.loads(df2.loc[i, \"production_countries\"])\n",
    "    for j in range(len(res)):\n",
    "        if(res[j][\"name\"] not in done):\n",
    "            done.append(res[j][\"name\"])\n",
    "            production_countries[res[j][\"name\"]] = index\n",
    "            index+=1\n",
    "        curr.append(production_countries[res[j][\"name\"]])\n",
    "    add_gen.append(curr)"
   ]
  },
  {
   "cell_type": "code",
   "execution_count": 316,
   "metadata": {},
   "outputs": [],
   "source": [
    "df2.drop('production_countries', axis=1, inplace=True)\n",
    "df2['production_countries'] = add_gen"
   ]
  },
  {
   "cell_type": "code",
   "execution_count": 317,
   "metadata": {},
   "outputs": [],
   "source": [
    "languages = {}\n",
    "done = []\n",
    "index = 0\n",
    "add_gen = []\n",
    "for i in df2.index:\n",
    "    curr = []\n",
    "    res = df2['spoken_languages'][i]\n",
    "    res = res.replace('\\\"', \"\\'\")\n",
    "    res = res.replace(\"'iso_639_1'\", '\"iso_639_1\"')\n",
    "    res = res.replace(\"'name'\", '\"name\"')\n",
    "    res = res.replace(\": '\", ': \"')\n",
    "    res = res.replace(\"', \\\"name\\\"\", '\", \"name\"')\n",
    "    res = res.replace(\"'}\", '\"}')\n",
    "    res = res.replace(\"\\\\\", '')\n",
    "    res = str(res)\n",
    "    if(res == \"nan\"):\n",
    "        res =\"[]\"\n",
    "    res = json.loads(res)\n",
    "#     res = json.loads(df2.loc[i, 'spoken_languages'])\n",
    "    for j in range(len(res)):\n",
    "        if(res[j][\"iso_639_1\"] not in done):\n",
    "            done.append(res[j][\"iso_639_1\"])\n",
    "#             languages[res[j][\"iso_639_1\"]] = index\n",
    "            languages[res[j][\"iso_639_1\"].lower().replace(' ', '')] = index\n",
    "            index+=1\n",
    "        curr.append(languages[res[j][\"iso_639_1\"].lower().replace(' ', '')])\n",
    "    add_gen.append(curr)"
   ]
  },
  {
   "cell_type": "code",
   "execution_count": 318,
   "metadata": {},
   "outputs": [],
   "source": [
    "df2.drop('spoken_languages', axis=1, inplace=True)\n",
    "df2['spoken_languages'] = add_gen"
   ]
  },
  {
   "cell_type": "code",
   "execution_count": 319,
   "metadata": {},
   "outputs": [],
   "source": [
    "add_gen = []\n",
    "for i in df2.index:\n",
    "    curr = []\n",
    "    res = df2[\"original_language\"][i]\n",
    "    if(res not in done):\n",
    "        done.append(res)\n",
    "        languages[res] = index\n",
    "        index+=1\n",
    "    add_gen.append(languages[res])"
   ]
  },
  {
   "cell_type": "code",
   "execution_count": 320,
   "metadata": {},
   "outputs": [],
   "source": [
    "df2.drop(\"original_language\", axis=1, inplace=True)\n",
    "df2[\"original_language\"] = add_gen"
   ]
  },
  {
   "cell_type": "code",
   "execution_count": 322,
   "metadata": {},
   "outputs": [],
   "source": [
    "df2['cast'] = df2['cast'].apply(literal_eval)\n",
    "character = {}\n",
    "gender = {'Male': 0, 'Female': 1, 'Undefined': 2}\n",
    "actorname = {}\n",
    "index_char = 0\n",
    "index_cast = 0\n",
    "male = []\n",
    "female = []\n",
    "undefined = []\n",
    "add_char = []\n",
    "add_actors = []\n",
    "for i in df2.index:\n",
    "    curr_actors = []\n",
    "    curr_char = []\n",
    "    curr_m = 0\n",
    "    curr_f = 0\n",
    "    curr_u = 0\n",
    "#     res = json.loads(df2.loc[i, 'cast'])\n",
    "    res = df2['cast'][i]\n",
    "    \n",
    "    s = \"\"\n",
    "    for j in range(len(res)):\n",
    "        if(res[j]['character'] not in character.keys()):\n",
    "            character[res[j]['character']] = index_char\n",
    "            index_char += 1\n",
    "        #edit\n",
    "        s = res[j]['character']\n",
    "        \n",
    "#         curr_char.append(character[res[j]['character']])\n",
    "        #edit\n",
    "        curr_char.append(s.lower().replace(' ', ''))\n",
    "        \n",
    "        if(res[j]['name'] not in actorname.keys()):\n",
    "            actorname[res[j]['name']] = index_cast\n",
    "            index_cast += 1\n",
    "        #edit\n",
    "        s = res[j]['name']\n",
    "        \n",
    "#         curr_actors.append(actorname[res[j]['name']])\n",
    "        #edit\n",
    "        curr_actors.append(s.lower().replace(' ', ''))\n",
    "        \n",
    "        if(res[j]['gender'] == 0):\n",
    "            curr_m += 1\n",
    "        elif(res[j]['gender'] == 1):\n",
    "            curr_f += 1\n",
    "        elif(res[j]['gender'] == 2):\n",
    "            curr_u += 1\n",
    "    male.append(curr_m)\n",
    "    female.append(curr_f)\n",
    "    undefined.append(curr_u)\n",
    "    add_char.append(curr_char)\n",
    "    add_actors.append(curr_actors)"
   ]
  },
  {
   "cell_type": "code",
   "execution_count": 323,
   "metadata": {},
   "outputs": [],
   "source": [
    "df2.drop('cast', axis=1, inplace=True)\n",
    "df2[\"actors\"] = add_actors\n",
    "df2[\"characters\"] = add_char\n",
    "df2[\"male_count\"] = male\n",
    "df2[\"female_count\"] = female\n",
    "df2[\"undefined_gender_count\"] = undefined"
   ]
  },
  {
   "cell_type": "code",
   "execution_count": 325,
   "metadata": {},
   "outputs": [],
   "source": [
    "df2[\"crew\"] = df2[\"crew\"].apply(literal_eval)\n",
    "director = []\n",
    "director_name = {}\n",
    "dd = 0\n",
    "index_d = 0\n",
    "for i in df2.index:\n",
    "    res = df2[\"crew\"][i]\n",
    "    dd = 0\n",
    "    for j in range(len(res)):\n",
    "        if(res[j][\"job\"] == 'Director' and dd == 0):\n",
    "            if(res[j][\"name\"] not in director_name.keys()):\n",
    "                director_name[res[j][\"name\"]] = index_d\n",
    "                index_d += 1\n",
    "            director.append(director_name[res[j][\"name\"]])\n",
    "            dd = 1\n",
    "    if(dd == 0):\n",
    "        director_name[\"Director Name Not Available\"] = -1\n",
    "        director.append(-1)"
   ]
  },
  {
   "cell_type": "code",
   "execution_count": 326,
   "metadata": {},
   "outputs": [],
   "source": [
    "df2.drop('crew', axis=1, inplace=True)\n",
    "df2[\"director\"] = director"
   ]
  },
  {
   "cell_type": "code",
   "execution_count": null,
   "metadata": {},
   "outputs": [],
   "source": [
    "# df2.drop('homepage', axis=1, inplace=True)\n",
    "# df2.drop('tittle', axis=1, inplace=True)"
   ]
  },
  {
   "cell_type": "code",
   "execution_count": null,
   "metadata": {},
   "outputs": [],
   "source": [
    "# overview,release_date,runtime,tagline"
   ]
  },
  {
   "cell_type": "code",
   "execution_count": 329,
   "metadata": {},
   "outputs": [],
   "source": [
    "df2[\"overview\"] = df2[\"overview\"].astype(str)\n",
    "df2[\"status\"] = df2[\"status\"].astype(str)"
   ]
  },
  {
   "cell_type": "code",
   "execution_count": 331,
   "metadata": {},
   "outputs": [],
   "source": [
    "for i in df2.index:\n",
    "    res = df2.loc[i, \"overview\"]\n",
    "    if(res == 'nan'):\n",
    "        df2.loc[i, \"overview\"] = \"\"\n",
    "        \n",
    "    res = df2.loc[i, \"status\"]\n",
    "    if(res == 'nan'):\n",
    "        df2.loc[i, \"status\"] = \"\""
   ]
  },
  {
   "cell_type": "code",
   "execution_count": 332,
   "metadata": {},
   "outputs": [
    {
     "name": "stdout",
     "output_type": "stream",
     "text": [
      "46195\n",
      "46195\n",
      "46195\n",
      "46195\n",
      "46195\n",
      "46195\n",
      "46195\n",
      "46195\n",
      "46195\n",
      "46195\n",
      "46195\n",
      "46195\n",
      "46195\n",
      "46195\n",
      "46195\n",
      "46195\n",
      "46195\n",
      "46195\n",
      "46195\n",
      "46195\n",
      "46195\n",
      "46195\n",
      "46195\n",
      "46195\n"
     ]
    }
   ],
   "source": [
    "# All NULLs Handled\n",
    "features = list(df2.columns.values)\n",
    "for i in features:\n",
    "    bool_series = pd.notnull(df2[i])\n",
    "    print(len(df2[bool_series]))"
   ]
  },
  {
   "cell_type": "code",
   "execution_count": 333,
   "metadata": {},
   "outputs": [
    {
     "data": {
      "text/plain": [
       "['Released', 'Post Production', 'In Production']"
      ]
     },
     "execution_count": 333,
     "metadata": {},
     "output_type": "execute_result"
    }
   ],
   "source": [
    "# encoding status\n",
    "status_classes = list(df2[\"status\"].unique())\n",
    "status_classes"
   ]
  },
  {
   "cell_type": "code",
   "execution_count": 334,
   "metadata": {},
   "outputs": [],
   "source": [
    "label_encoder = LabelEncoder()"
   ]
  },
  {
   "cell_type": "code",
   "execution_count": 335,
   "metadata": {},
   "outputs": [],
   "source": [
    "df2[\"status_en\"] = label_encoder.fit_transform(df2[\"status\"])"
   ]
  },
  {
   "cell_type": "code",
   "execution_count": 336,
   "metadata": {},
   "outputs": [
    {
     "data": {
      "text/plain": [
       "Released           46076\n",
       "Post Production       99\n",
       "In Production         20\n",
       "Name: status, dtype: int64"
      ]
     },
     "execution_count": 336,
     "metadata": {},
     "output_type": "execute_result"
    }
   ],
   "source": [
    "df2[\"status\"].value_counts()"
   ]
  },
  {
   "cell_type": "code",
   "execution_count": 337,
   "metadata": {},
   "outputs": [
    {
     "data": {
      "text/plain": [
       "Released           46076\n",
       "Post Production       99\n",
       "In Production         20\n",
       "Name: status, dtype: int64"
      ]
     },
     "execution_count": 337,
     "metadata": {},
     "output_type": "execute_result"
    }
   ],
   "source": [
    "df2[\"status\"].value_counts()"
   ]
  },
  {
   "cell_type": "code",
   "execution_count": 338,
   "metadata": {},
   "outputs": [],
   "source": [
    "encode_dict = dict(df2[\"status_en\"].value_counts())"
   ]
  },
  {
   "cell_type": "code",
   "execution_count": 339,
   "metadata": {},
   "outputs": [],
   "source": [
    "encode_dict2 = df2[\"status\"].value_counts()"
   ]
  },
  {
   "cell_type": "code",
   "execution_count": 340,
   "metadata": {},
   "outputs": [],
   "source": [
    "status_list = [0]*len(encode_dict)\n",
    "for i in encode_dict.keys():\n",
    "    for j in encode_dict2.keys():\n",
    "        if(encode_dict[i] == encode_dict2[j]):\n",
    "            status_list[i] = j\n"
   ]
  },
  {
   "cell_type": "code",
   "execution_count": 341,
   "metadata": {},
   "outputs": [],
   "source": [
    "status = {}\n",
    "for i in range(len(status_list)):\n",
    "    status[status_list[i]] = i"
   ]
  },
  {
   "cell_type": "code",
   "execution_count": 342,
   "metadata": {},
   "outputs": [],
   "source": [
    "df2.drop('status', axis=1, inplace=True)\n",
    "df2.rename(columns = {'status_en':'status'}, inplace = True)"
   ]
  },
  {
   "cell_type": "code",
   "execution_count": 343,
   "metadata": {},
   "outputs": [
    {
     "name": "stdout",
     "output_type": "stream",
     "text": [
      "<class 'pandas.core.frame.DataFrame'>\n",
      "Int64Index: 46195 entries, 0 to 46627\n",
      "Data columns (total 24 columns):\n",
      " #   Column                  Non-Null Count  Dtype  \n",
      "---  ------                  --------------  -----  \n",
      " 0   budget                  46195 non-null  object \n",
      " 1   movieId                 46195 non-null  object \n",
      " 2   original_title          46195 non-null  object \n",
      " 3   overview                46195 non-null  object \n",
      " 4   popularity              46195 non-null  object \n",
      " 5   revenue                 46195 non-null  float64\n",
      " 6   runtime                 46195 non-null  float64\n",
      " 7   title                   46195 non-null  object \n",
      " 8   vote_average            46195 non-null  float64\n",
      " 9   vote_count              46195 non-null  float64\n",
      " 10  release_year            46195 non-null  int64  \n",
      " 11  genres                  46195 non-null  object \n",
      " 12  keywords                46195 non-null  object \n",
      " 13  production_companies    46195 non-null  object \n",
      " 14  production_countries    46195 non-null  object \n",
      " 15  spoken_languages        46195 non-null  object \n",
      " 16  original_language       46195 non-null  int64  \n",
      " 17  actors                  46195 non-null  object \n",
      " 18  characters              46195 non-null  object \n",
      " 19  male_count              46195 non-null  int64  \n",
      " 20  female_count            46195 non-null  int64  \n",
      " 21  undefined_gender_count  46195 non-null  int64  \n",
      " 22  director                46195 non-null  int64  \n",
      " 23  status                  46195 non-null  int64  \n",
      "dtypes: float64(4), int64(7), object(13)\n",
      "memory usage: 9.8+ MB\n"
     ]
    }
   ],
   "source": [
    "df2.info()"
   ]
  },
  {
   "cell_type": "code",
   "execution_count": 344,
   "metadata": {},
   "outputs": [],
   "source": [
    "#genres,keywords,languages,production_countries,production_companies,character,gender,actorname,director_name,status"
   ]
  },
  {
   "cell_type": "code",
   "execution_count": 345,
   "metadata": {},
   "outputs": [],
   "source": [
    "df2.to_csv('movies46k_prepro.csv')"
   ]
  },
  {
   "cell_type": "code",
   "execution_count": 346,
   "metadata": {},
   "outputs": [],
   "source": [
    "with open(\"movies46k_prepro_encode_info.json\", \"w\") as fh:\n",
    "    json.dump([genres,keywords,languages,production_countries,production_companies,character,gender,actorname,director_name,status],fh)"
   ]
  },
  {
   "cell_type": "code",
   "execution_count": 347,
   "metadata": {},
   "outputs": [],
   "source": [
    "with open(\"movies46k_prepro_encode_info.json\") as fh:\n",
    "    data = json.load(fh)\n",
    "\n",
    "genres = data[0]\n",
    "keywords = data[1]\n",
    "languages = data[2]\n",
    "production_countries = data[3]\n",
    "production_companies = data[4]\n",
    "character = data[5]\n",
    "gender = data[6]\n",
    "actorname = data[7]\n",
    "director_name = data[8]\n",
    "status = data[9]"
   ]
  },
  {
   "cell_type": "markdown",
   "metadata": {},
   "source": [
    "## EDA"
   ]
  },
  {
   "cell_type": "markdown",
   "metadata": {},
   "source": [
    "### Movie Distribution per director"
   ]
  },
  {
   "cell_type": "code",
   "execution_count": 357,
   "metadata": {},
   "outputs": [],
   "source": [
    "director_movie_counts = dict(df2.director.value_counts())"
   ]
  },
  {
   "cell_type": "code",
   "execution_count": 358,
   "metadata": {},
   "outputs": [],
   "source": [
    "# director_name_rev = dict(zip(director_name.values(), director_name.keys()))\n",
    "counts = [0] * len(director_name)"
   ]
  },
  {
   "cell_type": "code",
   "execution_count": 359,
   "metadata": {},
   "outputs": [],
   "source": [
    "for i in director_movie_counts.keys():\n",
    "    counts[i] = director_movie_counts[i]"
   ]
  },
  {
   "cell_type": "code",
   "execution_count": 360,
   "metadata": {},
   "outputs": [
    {
     "name": "stderr",
     "output_type": "stream",
     "text": [
      "/tmp/ENTER/lib/python3.9/site-packages/IPython/core/pylabtools.py:151: UserWarning: Glyph 9 (\t) missing from current font.\n",
      "  fig.canvas.print_figure(bytes_io, **kw)\n",
      "/tmp/ENTER/lib/python3.9/site-packages/IPython/core/pylabtools.py:151: UserWarning: Glyph 26480 (\\N{CJK UNIFIED IDEOGRAPH-6770}) missing from current font.\n",
      "  fig.canvas.print_figure(bytes_io, **kw)\n",
      "/tmp/ENTER/lib/python3.9/site-packages/IPython/core/pylabtools.py:151: UserWarning: Glyph 26862 (\\N{CJK UNIFIED IDEOGRAPH-68EE}) missing from current font.\n",
      "  fig.canvas.print_figure(bytes_io, **kw)\n",
      "/tmp/ENTER/lib/python3.9/site-packages/IPython/core/pylabtools.py:151: UserWarning: Glyph 33707 (\\N{CJK UNIFIED IDEOGRAPH-83AB}) missing from current font.\n",
      "  fig.canvas.print_figure(bytes_io, **kw)\n",
      "/tmp/ENTER/lib/python3.9/site-packages/IPython/core/pylabtools.py:151: UserWarning: Glyph 29595 (\\N{CJK UNIFIED IDEOGRAPH-739B}) missing from current font.\n",
      "  fig.canvas.print_figure(bytes_io, **kw)\n",
      "/tmp/ENTER/lib/python3.9/site-packages/IPython/core/pylabtools.py:151: UserWarning: Glyph 51652 (\\N{HANGUL SYLLABLE JIN}) missing from current font.\n",
      "  fig.canvas.print_figure(bytes_io, **kw)\n",
      "/tmp/ENTER/lib/python3.9/site-packages/IPython/core/pylabtools.py:151: UserWarning: Glyph 47784 (\\N{HANGUL SYLLABLE MO}) missing from current font.\n",
      "  fig.canvas.print_figure(bytes_io, **kw)\n",
      "/tmp/ENTER/lib/python3.9/site-packages/IPython/core/pylabtools.py:151: UserWarning: Glyph 50689 (\\N{HANGUL SYLLABLE YEONG}) missing from current font.\n",
      "  fig.canvas.print_figure(bytes_io, **kw)\n",
      "/tmp/ENTER/lib/python3.9/site-packages/IPython/core/pylabtools.py:151: UserWarning: Glyph 22633 (\\N{CJK UNIFIED IDEOGRAPH-5869}) missing from current font.\n",
      "  fig.canvas.print_figure(bytes_io, **kw)\n",
      "/tmp/ENTER/lib/python3.9/site-packages/IPython/core/pylabtools.py:151: UserWarning: Glyph 35895 (\\N{CJK UNIFIED IDEOGRAPH-8C37}) missing from current font.\n",
      "  fig.canvas.print_figure(bytes_io, **kw)\n",
      "/tmp/ENTER/lib/python3.9/site-packages/IPython/core/pylabtools.py:151: UserWarning: Glyph 30452 (\\N{CJK UNIFIED IDEOGRAPH-76F4}) missing from current font.\n",
      "  fig.canvas.print_figure(bytes_io, **kw)\n",
      "/tmp/ENTER/lib/python3.9/site-packages/IPython/core/pylabtools.py:151: UserWarning: Glyph 32681 (\\N{CJK UNIFIED IDEOGRAPH-7FA9}) missing from current font.\n",
      "  fig.canvas.print_figure(bytes_io, **kw)\n"
     ]
    },
    {
     "data": {
      "image/png": "[encoded data removed]",
      "text/plain": [
       "<Figure size 432x288 with 1 Axes>"
      ]
     },
     "metadata": {
      "needs_background": "light"
     },
     "output_type": "display_data"
    },
    {
     "data": {
      "text/plain": [
       "<Figure size 432x288 with 0 Axes>"
      ]
     },
     "metadata": {},
     "output_type": "display_data"
    }
   ],
   "source": [
    "# f = plt.figure()\n",
    "# f.set_figwidth(10)\n",
    "# f.set_figheight(10)\n",
    "plt.xlabel(\"Director Names\")\n",
    "plt.ylabel(\"Number of Movies\")\n",
    "plt.title(\"Number of movies by each Director in the dataset\")\n",
    "plt.bar(list(director_name), counts, color ='green', width = 0.4)\n",
    "plt.show()\n",
    "plt.savefig(\"./plots/p1.jpg\")"
   ]
  },
  {
   "cell_type": "markdown",
   "metadata": {},
   "source": [
    "A better of plot for the above analysis ka be the following"
   ]
  },
  {
   "cell_type": "code",
   "execution_count": 361,
   "metadata": {},
   "outputs": [],
   "source": [
    "counts = [0] * max(director_movie_counts.values())\n",
    "label = list(range(1, max(director_movie_counts.values())+1))"
   ]
  },
  {
   "cell_type": "code",
   "execution_count": 362,
   "metadata": {},
   "outputs": [],
   "source": [
    "for i in director_movie_counts.values():\n",
    "    counts[i-1] += 1"
   ]
  },
  {
   "cell_type": "code",
   "execution_count": 363,
   "metadata": {},
   "outputs": [
    {
     "data": {
      "image/png": "[encoded data removed]",
      "text/plain": [
       "<Figure size 720x720 with 1 Axes>"
      ]
     },
     "metadata": {
      "needs_background": "light"
     },
     "output_type": "display_data"
    },
    {
     "data": {
      "text/plain": [
       "<Figure size 432x288 with 0 Axes>"
      ]
     },
     "metadata": {},
     "output_type": "display_data"
    }
   ],
   "source": [
    "f = plt.figure()\n",
    "f.set_figwidth(10)\n",
    "f.set_figheight(10)\n",
    "plt.xlabel(\"Number of Movies done by the Director\")\n",
    "plt.ylabel(\"Number of Directors\")\n",
    "plt.title(\"No. of Movies done by the Director VS Number of Directors\")\n",
    "plt.bar(label, counts, color ='green', width = 0.4)\n",
    "plt.xticks(label, label)\n",
    "plt.show()\n",
    "plt.savefig(\"./plots/p2.jpg\")"
   ]
  },
  {
   "cell_type": "code",
   "execution_count": 364,
   "metadata": {},
   "outputs": [
    {
     "data": {
      "image/png": "[encoded data removed]",
      "text/plain": [
       "<Figure size 432x288 with 1 Axes>"
      ]
     },
     "metadata": {
      "needs_background": "light"
     },
     "output_type": "display_data"
    }
   ],
   "source": [
    "warnings.filterwarnings(\"ignore\")\n",
    "sb.distplot(df2['runtime'],kde=True)\n",
    "plt.savefig(\"./plots/p3.jpg\")"
   ]
  },
  {
   "cell_type": "code",
   "execution_count": 365,
   "metadata": {},
   "outputs": [
    {
     "data": {
      "image/png": "[encoded data removed]",
      "text/plain": [
       "<Figure size 432x288 with 1 Axes>"
      ]
     },
     "metadata": {
      "needs_background": "light"
     },
     "output_type": "display_data"
    }
   ],
   "source": [
    "sb.distplot(df2['budget'],kde=True)\n",
    "plt.savefig(\"./plots/p4.jpg\")"
   ]
  },
  {
   "cell_type": "code",
   "execution_count": 366,
   "metadata": {},
   "outputs": [
    {
     "data": {
      "image/png": "[encoded data removed]",
      "text/plain": [
       "<Figure size 432x288 with 1 Axes>"
      ]
     },
     "metadata": {
      "needs_background": "light"
     },
     "output_type": "display_data"
    }
   ],
   "source": [
    "sb.distplot(df2['popularity'],kde=True)\n",
    "plt.savefig(\"./plots/p5.jpg\")"
   ]
  },
  {
   "cell_type": "code",
   "execution_count": 367,
   "metadata": {},
   "outputs": [
    {
     "data": {
      "image/png": "[encoded data removed]",
      "text/plain": [
       "<Figure size 432x288 with 1 Axes>"
      ]
     },
     "metadata": {
      "needs_background": "light"
     },
     "output_type": "display_data"
    }
   ],
   "source": [
    "sb.distplot(df2['revenue'],kde=True)\n",
    "plt.savefig(\"./plots/p6.jpg\")"
   ]
  },
  {
   "cell_type": "code",
   "execution_count": 368,
   "metadata": {},
   "outputs": [
    {
     "data": {
      "image/png": "[encoded data removed]",
      "text/plain": [
       "<Figure size 432x288 with 1 Axes>"
      ]
     },
     "metadata": {
      "needs_background": "light"
     },
     "output_type": "display_data"
    }
   ],
   "source": [
    "sb.distplot(df2['vote_average'],kde=True)\n",
    "plt.savefig(\"./plots/p7.jpg\")"
   ]
  },
  {
   "cell_type": "code",
   "execution_count": 369,
   "metadata": {},
   "outputs": [
    {
     "data": {
      "image/png": "[encoded data removed]",
      "text/plain": [
       "<Figure size 432x288 with 1 Axes>"
      ]
     },
     "metadata": {
      "needs_background": "light"
     },
     "output_type": "display_data"
    }
   ],
   "source": [
    "sb.distplot(df2['vote_count'],kde=True)\n",
    "plt.savefig(\"./plots/p8.jpg\")"
   ]
  },
  {
   "cell_type": "code",
   "execution_count": 370,
   "metadata": {},
   "outputs": [
    {
     "data": {
      "image/png": "[encoded data removed]",
      "text/plain": [
       "<Figure size 432x288 with 1 Axes>"
      ]
     },
     "metadata": {
      "needs_background": "light"
     },
     "output_type": "display_data"
    }
   ],
   "source": [
    "sb.distplot(df2['male_count'],kde=True) \n",
    "plt.savefig(\"./plots/p9.jpg\")"
   ]
  },
  {
   "cell_type": "code",
   "execution_count": 371,
   "metadata": {},
   "outputs": [
    {
     "data": {
      "image/png": "[encoded data removed]",
      "text/plain": [
       "<Figure size 432x288 with 1 Axes>"
      ]
     },
     "metadata": {
      "needs_background": "light"
     },
     "output_type": "display_data"
    }
   ],
   "source": [
    "sb.distplot(df2['female_count'],kde=True)\n",
    "plt.savefig(\"./plots/p10.jpg\")"
   ]
  },
  {
   "cell_type": "code",
   "execution_count": 372,
   "metadata": {},
   "outputs": [
    {
     "data": {
      "image/png": "[encoded data removed]",
      "text/plain": [
       "<Figure size 432x288 with 1 Axes>"
      ]
     },
     "metadata": {
      "needs_background": "light"
     },
     "output_type": "display_data"
    }
   ],
   "source": [
    "sb.distplot(df2['undefined_gender_count'],kde=True)\n",
    "plt.savefig(\"./plots/p11.jpg\")"
   ]
  },
  {
   "cell_type": "code",
   "execution_count": 373,
   "metadata": {},
   "outputs": [
    {
     "data": {
      "image/png": "[encoded data removed]",
      "text/plain": [
       "<Figure size 720x720 with 1 Axes>"
      ]
     },
     "metadata": {},
     "output_type": "display_data"
    },
    {
     "data": {
      "text/plain": [
       "<Figure size 432x288 with 0 Axes>"
      ]
     },
     "metadata": {},
     "output_type": "display_data"
    }
   ],
   "source": [
    "lang = dict(df2.original_language.value_counts())\n",
    "counts = []\n",
    "labels = []\n",
    "languages_rev = dict(zip(languages.values(), languages.keys()))\n",
    "# counts.append(lang[0])\n",
    "t = 0\n",
    "for i in lang.keys():\n",
    "    if(i == 0):\n",
    "        counts.append(lang[i])\n",
    "    elif(i == 1):\n",
    "        counts.append(lang[i])\n",
    "    else:\n",
    "        t += lang[i]\n",
    "counts.append(t)\n",
    "labels.append(\"English\")\n",
    "labels.append(\"French\") \n",
    "labels.append(\"Other\") \n",
    "\n",
    "f = plt.figure()\n",
    "f.set_figwidth(10)\n",
    "f.set_figheight(10)\n",
    "plt.title(\"Language Distribution\")\n",
    "plt.pie(counts, labels = labels)\n",
    "plt.legend(title = \"Languages:\")\n",
    "plt.show() \n",
    "plt.savefig(\"./plots/p12.jpg\")"
   ]
  },
  {
   "cell_type": "code",
   "execution_count": 375,
   "metadata": {},
   "outputs": [
    {
     "data": {
      "image/png": "[encoded data removed]",
      "text/plain": [
       "<Figure size 720x720 with 1 Axes>"
      ]
     },
     "metadata": {},
     "output_type": "display_data"
    },
    {
     "data": {
      "text/plain": [
       "<Figure size 432x288 with 0 Axes>"
      ]
     },
     "metadata": {},
     "output_type": "display_data"
    }
   ],
   "source": [
    "genres_counts = [0]*len(genres)\n",
    "genres_rev = dict(zip(genres.values(), genres.keys()))\n",
    "for i in df2.index:\n",
    "    res = df2[\"genres\"][i]\n",
    "    for j in res:\n",
    "        genres_counts[j] += 1\n",
    "labels = []\n",
    "for i in range(len(genres_rev)):\n",
    "    labels.append(genres_rev[i])\n",
    "f = plt.figure()\n",
    "f.set_figwidth(10)\n",
    "f.set_figheight(10)\n",
    "plt.title(\"Genres Distribution\")\n",
    "plt.pie(genres_counts, labels = labels)\n",
    "plt.legend()\n",
    "plt.show()\n",
    "plt.savefig(\"./plots/p13.jpg\")"
   ]
  },
  {
   "cell_type": "markdown",
   "metadata": {},
   "source": [
    "### DROP Characters Varies a lot and not many insights since varies a lot in the same franchise"
   ]
  },
  {
   "cell_type": "code",
   "execution_count": null,
   "metadata": {},
   "outputs": [],
   "source": [
    "# char_counts = [0]*len(character)\n",
    "# char_rev = dict(zip(character.values(), character.keys()))\n",
    "# for i in range(len(df2)):\n",
    "#     res = df2.loc[i, \"characters\"]\n",
    "#     for j in res:\n",
    "#         char_counts[j] += 1\n",
    "        \n",
    "        \n",
    "        \n",
    "# labels = []\n",
    "# for i in range(len(genres_rev)):\n",
    "#     labels.append(genres_rev[i])\n",
    "# f = plt.figure()\n",
    "# f.set_figwidth(10)\n",
    "# f.set_figheight(10)\n",
    "# plt.title(\"Genres Distribution\")\n",
    "# plt.pie(genres_counts, labels = labels)\n",
    "# plt.legend()\n",
    "# plt.show() "
   ]
  },
  {
   "cell_type": "code",
   "execution_count": null,
   "metadata": {},
   "outputs": [],
   "source": [
    "# char_counts[994]"
   ]
  },
  {
   "cell_type": "code",
   "execution_count": null,
   "metadata": {},
   "outputs": [],
   "source": [
    "# char_rev"
   ]
  },
  {
   "cell_type": "markdown",
   "metadata": {},
   "source": [
    "# Making a custom one hot encoding function for using with the attributes with array values"
   ]
  },
  {
   "cell_type": "code",
   "execution_count": 389,
   "metadata": {},
   "outputs": [],
   "source": [
    "def one_hot_encode_arr_attri(dummy_no, data, encode_dict, attri):\n",
    "    #first figure out\n",
    "    dataf = data.copy()\n",
    "    list_counts = [0] * len(encode_dict)\n",
    "    for i in dataf.index:\n",
    "        try:\n",
    "            res = json.loads(df2[attri][i])\n",
    "        except:\n",
    "            res = df2[attri][i]\n",
    "        \n",
    "        for j in res:\n",
    "            list_counts[j] += 1\n",
    "            \n",
    "    encode_dict = dict(zip(encode_dict.values(), encode_dict.keys()))\n",
    "    final_dict = {}\n",
    "    for i in range(len(encode_dict)):\n",
    "        final_dict[i] = list_counts[i]\n",
    "    top_list = list(dict(sorted(final_dict.items(), key=lambda x:x[1], reverse=True)[:dummy_no]).keys())\n",
    "    \n",
    "    dummy_data = np.zeros(len(dataf.index)*dummy_no).reshape(dummy_no,len(dataf.index))\n",
    "    c = 0\n",
    "    for i in dataf.index:\n",
    "        if(i == len(dataf.index)):\n",
    "            break\n",
    "        try:\n",
    "            res = json.loads(df[attri][i])\n",
    "        except:\n",
    "            res = df2[attri][i]\n",
    "        for j in res:\n",
    "            if(j in top_list):\n",
    "                ind = top_list.index(j)\n",
    "                dummy_data[ind][i] = 1\n",
    "    \n",
    "    dataf.drop(attri, axis=1, inplace=True)\n",
    "    for i in range(len(top_list)):\n",
    "        dataf[encode_dict[top_list[i]].lower().replace(' ', '_')] = dummy_data[i].tolist()\n",
    "    return dataf"
   ]
  },
  {
   "cell_type": "code",
   "execution_count": 390,
   "metadata": {},
   "outputs": [],
   "source": [
    "data = one_hot_encode_arr_attri(19, df2, genres, 'genres')\n",
    "data = one_hot_encode_arr_attri(10, data, production_countries, \"production_countries\")\n",
    "data = one_hot_encode_arr_attri(10, data, production_companies, \"production_companies\")\n",
    "data = one_hot_encode_arr_attri(10, data, languages, \"spoken_languages\")"
   ]
  },
  {
   "cell_type": "code",
   "execution_count": 391,
   "metadata": {},
   "outputs": [],
   "source": [
    "data.to_csv('movies46k_prepro_onehot.csv')"
   ]
  },
  {
   "cell_type": "markdown",
   "metadata": {},
   "source": [
    "### year-wise distribution "
   ]
  },
  {
   "cell_type": "code",
   "execution_count": 400,
   "metadata": {},
   "outputs": [],
   "source": [
    "date_dic = dict(data[\"release_year\"].value_counts())"
   ]
  },
  {
   "cell_type": "code",
   "execution_count": 401,
   "metadata": {},
   "outputs": [],
   "source": [
    "mad, mid = sorted(list(date_dic.keys()))[-1], sorted(list(date_dic.keys()))[0]"
   ]
  },
  {
   "cell_type": "code",
   "execution_count": 402,
   "metadata": {},
   "outputs": [],
   "source": [
    "labels = []\n",
    "for i in range(mid, mad+1):\n",
    "    labels.append(i)\n",
    "\n",
    "date_counts = [0] * len(labels)\n",
    "for i in date_dic.keys():\n",
    "    date_counts[labels.index(int(i))] = date_dic[i]"
   ]
  },
  {
   "cell_type": "code",
   "execution_count": 403,
   "metadata": {},
   "outputs": [
    {
     "data": {
      "image/png": "[encoded data removed]",
      "text/plain": [
       "<Figure size 720x720 with 1 Axes>"
      ]
     },
     "metadata": {
      "needs_background": "light"
     },
     "output_type": "display_data"
    },
    {
     "data": {
      "text/plain": [
       "<Figure size 432x288 with 0 Axes>"
      ]
     },
     "metadata": {},
     "output_type": "display_data"
    }
   ],
   "source": [
    "f = plt.figure()\n",
    "f.set_figwidth(10)\n",
    "f.set_figheight(10)\n",
    "plt.xlabel(\"Number of Movies\")\n",
    "plt.ylabel(\"Years\")\n",
    "plt.title(\"No. of Movies VS Year\")\n",
    "plt.bar(labels, date_counts, color ='green', width = 0.4)\n",
    "plt.show()\n",
    "plt.savefig(\"./plots/p14.jpg\")"
   ]
  },
  {
   "cell_type": "code",
   "execution_count": 405,
   "metadata": {},
   "outputs": [
    {
     "data": {
      "image/png": "[encoded data removed]",
      "text/plain": [
       "<Figure size 432x288 with 1 Axes>"
      ]
     },
     "metadata": {
      "needs_background": "light"
     },
     "output_type": "display_data"
    }
   ],
   "source": [
    "l = []\n",
    "d = data[\"release_year\"]\n",
    "sb.distplot(d,kde=True)\n",
    "plt.savefig(\"./plots/p15.jpg\")"
   ]
  }
 ],
 "metadata": {
  "celltoolbar": "Raw Cell Format",
  "colab": {
   "authorship_tag": "ABX9TyNvLgXsncIWfJyCvi38DCF0",
   "collapsed_sections": [
    "-FwPv7-7dKhG"
   ],
   "mount_file_id": "1b3ZCPmN0tfzctXIm1vaiNGlI0D11Av5V",
   "provenance": []
  },
  "kernelspec": {
   "display_name": "Python 3 (ipykernel)",
   "language": "python",
   "name": "python3"
  },
  "language_info": {
   "codemirror_mode": {
    "name": "ipython",
    "version": 3
   },
   "file_extension": ".py",
   "mimetype": "text/x-python",
   "name": "python",
   "nbconvert_exporter": "python",
   "pygments_lexer": "ipython3",
   "version": "3.9.12"
  }
 },
 "nbformat": 4,
 "nbformat_minor": 1
}
