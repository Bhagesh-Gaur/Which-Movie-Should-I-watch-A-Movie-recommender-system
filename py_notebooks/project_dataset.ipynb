{
 "cells": [
  {
   "cell_type": "code",
   "execution_count": 1296,
   "metadata": {},
   "outputs": [],
   "source": [
    "import pandas as pd\n",
    "import numpy as np\n",
    "import os\n",
    "import matplotlib.pyplot as plt\n",
    "import seaborn as sb\n",
    "from sklearn.preprocessing import LabelEncoder\n",
    "import warnings\n",
    "import opendatasets as od\n",
    "import json\n",
    "from sklearn.preprocessing import LabelEncoder"
   ]
  },
  {
   "cell_type": "markdown",
   "metadata": {},
   "source": [
    "# Download the dataset"
   ]
  },
  {
   "cell_type": "code",
   "execution_count": 1297,
   "metadata": {},
   "outputs": [
    {
     "name": "stdout",
     "output_type": "stream",
     "text": [
      "Skipping, found downloaded files in \"./the-movies-dataset\" (use force=True to force download)\n",
      "Skipping, found downloaded files in \"./tmdb-movie-metadata\" (use force=True to force download)\n"
     ]
    }
   ],
   "source": [
    "os.chdir('../Datasets/')\n",
    "dataset = 'https://www.kaggle.com/datasets/rounakbanik/the-movies-dataset'\n",
    "od.download(dataset)\n",
    "dataset = 'https://www.kaggle.com/datasets/tmdb/tmdb-movie-metadata'\n",
    "od.download(dataset)\n",
    "os.chdir('../py_notebooks/')"
   ]
  },
  {
   "cell_type": "markdown",
   "metadata": {
    "id": "_YbZtCdvqLDJ"
   },
   "source": [
    "# Loading the data set "
   ]
  },
  {
   "cell_type": "code",
   "execution_count": 1298,
   "metadata": {
    "executionInfo": {
     "elapsed": 5513,
     "status": "ok",
     "timestamp": 1663425655782,
     "user": {
      "displayName": "Bhagesh Gaur",
      "userId": "13725627345319054671"
     },
     "user_tz": -330
    },
    "id": "cpRUGWiwqLDK"
   },
   "outputs": [],
   "source": [
    "df = pd.read_csv(\"/home/abhinav/Datasets/the-movies-dataset/credits.csv\")\n",
    "# df = df.sample(frac = 1).reset_index()\n",
    "# df.drop('index', axis=1, inplace=True)"
   ]
  },
  {
   "cell_type": "code",
   "execution_count": 1299,
   "metadata": {},
   "outputs": [
    {
     "data": {
      "text/plain": [
       "(45476, 3)"
      ]
     },
     "execution_count": 1299,
     "metadata": {},
     "output_type": "execute_result"
    }
   ],
   "source": [
    "df.shape"
   ]
  },
  {
   "cell_type": "markdown",
   "metadata": {
    "id": "4zkTdVZ1qLDL"
   },
   "source": [
    "# Let's Explore the data set "
   ]
  },
  {
   "cell_type": "code",
   "execution_count": 1300,
   "metadata": {},
   "outputs": [],
   "source": [
    "df1=pd.read_csv('../Datasets/tmdb-movie-metadata/tmdb_5000_credits.csv')\n",
    "df2=pd.read_csv('../Datasets/tmdb-movie-metadata/tmdb_5000_movies.csv')"
   ]
  },
  {
   "cell_type": "code",
   "execution_count": 1301,
   "metadata": {},
   "outputs": [],
   "source": [
    "df1.columns = ['id','tittle','cast','crew']\n",
    "df2= df2.merge(df1,on='id')"
   ]
  },
  {
   "cell_type": "code",
   "execution_count": 1302,
   "metadata": {},
   "outputs": [
    {
     "data": {
      "text/html": [
       "<div>\n",
       "<style scoped>\n",
       "    .dataframe tbody tr th:only-of-type {\n",
       "        vertical-align: middle;\n",
       "    }\n",
       "\n",
       "    .dataframe tbody tr th {\n",
       "        vertical-align: top;\n",
       "    }\n",
       "\n",
       "    .dataframe thead th {\n",
       "        text-align: right;\n",
       "    }\n",
       "</style>\n",
       "<table border=\"1\" class=\"dataframe\">\n",
       "  <thead>\n",
       "    <tr style=\"text-align: right;\">\n",
       "      <th></th>\n",
       "      <th>budget</th>\n",
       "      <th>genres</th>\n",
       "      <th>homepage</th>\n",
       "      <th>id</th>\n",
       "      <th>keywords</th>\n",
       "      <th>original_language</th>\n",
       "      <th>original_title</th>\n",
       "      <th>overview</th>\n",
       "      <th>popularity</th>\n",
       "      <th>production_companies</th>\n",
       "      <th>...</th>\n",
       "      <th>runtime</th>\n",
       "      <th>spoken_languages</th>\n",
       "      <th>status</th>\n",
       "      <th>tagline</th>\n",
       "      <th>title</th>\n",
       "      <th>vote_average</th>\n",
       "      <th>vote_count</th>\n",
       "      <th>tittle</th>\n",
       "      <th>cast</th>\n",
       "      <th>crew</th>\n",
       "    </tr>\n",
       "  </thead>\n",
       "  <tbody>\n",
       "    <tr>\n",
       "      <th>0</th>\n",
       "      <td>237000000</td>\n",
       "      <td>[{\"id\": 28, \"name\": \"Action\"}, {\"id\": 12, \"nam...</td>\n",
       "      <td>http://www.avatarmovie.com/</td>\n",
       "      <td>19995</td>\n",
       "      <td>[{\"id\": 1463, \"name\": \"culture clash\"}, {\"id\":...</td>\n",
       "      <td>en</td>\n",
       "      <td>Avatar</td>\n",
       "      <td>In the 22nd century, a paraplegic Marine is di...</td>\n",
       "      <td>150.437577</td>\n",
       "      <td>[{\"name\": \"Ingenious Film Partners\", \"id\": 289...</td>\n",
       "      <td>...</td>\n",
       "      <td>162.0</td>\n",
       "      <td>[{\"iso_639_1\": \"en\", \"name\": \"English\"}, {\"iso...</td>\n",
       "      <td>Released</td>\n",
       "      <td>Enter the World of Pandora.</td>\n",
       "      <td>Avatar</td>\n",
       "      <td>7.2</td>\n",
       "      <td>11800</td>\n",
       "      <td>Avatar</td>\n",
       "      <td>[{\"cast_id\": 242, \"character\": \"Jake Sully\", \"...</td>\n",
       "      <td>[{\"credit_id\": \"52fe48009251416c750aca23\", \"de...</td>\n",
       "    </tr>\n",
       "  </tbody>\n",
       "</table>\n",
       "<p>1 rows × 23 columns</p>\n",
       "</div>"
      ],
      "text/plain": [
       "      budget                                             genres  \\\n",
       "0  237000000  [{\"id\": 28, \"name\": \"Action\"}, {\"id\": 12, \"nam...   \n",
       "\n",
       "                      homepage     id  \\\n",
       "0  http://www.avatarmovie.com/  19995   \n",
       "\n",
       "                                            keywords original_language  \\\n",
       "0  [{\"id\": 1463, \"name\": \"culture clash\"}, {\"id\":...                en   \n",
       "\n",
       "  original_title                                           overview  \\\n",
       "0         Avatar  In the 22nd century, a paraplegic Marine is di...   \n",
       "\n",
       "   popularity                               production_companies  ... runtime  \\\n",
       "0  150.437577  [{\"name\": \"Ingenious Film Partners\", \"id\": 289...  ...   162.0   \n",
       "\n",
       "                                    spoken_languages    status  \\\n",
       "0  [{\"iso_639_1\": \"en\", \"name\": \"English\"}, {\"iso...  Released   \n",
       "\n",
       "                       tagline   title vote_average vote_count  tittle  \\\n",
       "0  Enter the World of Pandora.  Avatar          7.2      11800  Avatar   \n",
       "\n",
       "                                                cast  \\\n",
       "0  [{\"cast_id\": 242, \"character\": \"Jake Sully\", \"...   \n",
       "\n",
       "                                                crew  \n",
       "0  [{\"credit_id\": \"52fe48009251416c750aca23\", \"de...  \n",
       "\n",
       "[1 rows x 23 columns]"
      ]
     },
     "execution_count": 1302,
     "metadata": {},
     "output_type": "execute_result"
    }
   ],
   "source": [
    "df2.head(1)"
   ]
  },
  {
   "cell_type": "code",
   "execution_count": 1303,
   "metadata": {},
   "outputs": [
    {
     "name": "stdout",
     "output_type": "stream",
     "text": [
      "<class 'pandas.core.frame.DataFrame'>\n",
      "Int64Index: 4803 entries, 0 to 4802\n",
      "Data columns (total 23 columns):\n",
      " #   Column                Non-Null Count  Dtype  \n",
      "---  ------                --------------  -----  \n",
      " 0   budget                4803 non-null   int64  \n",
      " 1   genres                4803 non-null   object \n",
      " 2   homepage              1712 non-null   object \n",
      " 3   id                    4803 non-null   int64  \n",
      " 4   keywords              4803 non-null   object \n",
      " 5   original_language     4803 non-null   object \n",
      " 6   original_title        4803 non-null   object \n",
      " 7   overview              4800 non-null   object \n",
      " 8   popularity            4803 non-null   float64\n",
      " 9   production_companies  4803 non-null   object \n",
      " 10  production_countries  4803 non-null   object \n",
      " 11  release_date          4802 non-null   object \n",
      " 12  revenue               4803 non-null   int64  \n",
      " 13  runtime               4801 non-null   float64\n",
      " 14  spoken_languages      4803 non-null   object \n",
      " 15  status                4803 non-null   object \n",
      " 16  tagline               3959 non-null   object \n",
      " 17  title                 4803 non-null   object \n",
      " 18  vote_average          4803 non-null   float64\n",
      " 19  vote_count            4803 non-null   int64  \n",
      " 20  tittle                4803 non-null   object \n",
      " 21  cast                  4803 non-null   object \n",
      " 22  crew                  4803 non-null   object \n",
      "dtypes: float64(3), int64(4), object(16)\n",
      "memory usage: 900.6+ KB\n"
     ]
    }
   ],
   "source": [
    "df2.info()"
   ]
  },
  {
   "cell_type": "code",
   "execution_count": 1304,
   "metadata": {},
   "outputs": [
    {
     "data": {
      "text/plain": [
       "6.092171559442011"
      ]
     },
     "execution_count": 1304,
     "metadata": {},
     "output_type": "execute_result"
    }
   ],
   "source": [
    "C= df2['vote_average'].mean()\n",
    "C"
   ]
  },
  {
   "cell_type": "code",
   "execution_count": 1305,
   "metadata": {},
   "outputs": [
    {
     "data": {
      "text/plain": [
       "1838.4000000000015"
      ]
     },
     "execution_count": 1305,
     "metadata": {},
     "output_type": "execute_result"
    }
   ],
   "source": [
    "m= df2['vote_count'].quantile(0.9)\n",
    "m"
   ]
  },
  {
   "cell_type": "code",
   "execution_count": 1306,
   "metadata": {},
   "outputs": [
    {
     "data": {
      "text/plain": [
       "(481, 23)"
      ]
     },
     "execution_count": 1306,
     "metadata": {},
     "output_type": "execute_result"
    }
   ],
   "source": [
    "q_movies = df2.copy().loc[df2['vote_count'] >= m]\n",
    "q_movies.shape"
   ]
  },
  {
   "cell_type": "code",
   "execution_count": 1307,
   "metadata": {},
   "outputs": [],
   "source": [
    "def weighted_rating(x, m=m, C=C):\n",
    "    v = x['vote_count']\n",
    "    R = x['vote_average']\n",
    "    # Calculation based on the IMDB formula\n",
    "    return (v/(v+m) * R) + (m/(m+v) * C)"
   ]
  },
  {
   "cell_type": "code",
   "execution_count": 1308,
   "metadata": {},
   "outputs": [],
   "source": [
    "# Define a new feature 'score' and calculate its value with `weighted_rating()`\n",
    "q_movies['score'] = q_movies.apply(weighted_rating, axis=1)"
   ]
  },
  {
   "cell_type": "code",
   "execution_count": 1309,
   "metadata": {},
   "outputs": [
    {
     "data": {
      "text/html": [
       "<div>\n",
       "<style scoped>\n",
       "    .dataframe tbody tr th:only-of-type {\n",
       "        vertical-align: middle;\n",
       "    }\n",
       "\n",
       "    .dataframe tbody tr th {\n",
       "        vertical-align: top;\n",
       "    }\n",
       "\n",
       "    .dataframe thead th {\n",
       "        text-align: right;\n",
       "    }\n",
       "</style>\n",
       "<table border=\"1\" class=\"dataframe\">\n",
       "  <thead>\n",
       "    <tr style=\"text-align: right;\">\n",
       "      <th></th>\n",
       "      <th>title</th>\n",
       "      <th>vote_count</th>\n",
       "      <th>vote_average</th>\n",
       "      <th>score</th>\n",
       "    </tr>\n",
       "  </thead>\n",
       "  <tbody>\n",
       "    <tr>\n",
       "      <th>1881</th>\n",
       "      <td>The Shawshank Redemption</td>\n",
       "      <td>8205</td>\n",
       "      <td>8.5</td>\n",
       "      <td>8.059258</td>\n",
       "    </tr>\n",
       "    <tr>\n",
       "      <th>662</th>\n",
       "      <td>Fight Club</td>\n",
       "      <td>9413</td>\n",
       "      <td>8.3</td>\n",
       "      <td>7.939256</td>\n",
       "    </tr>\n",
       "    <tr>\n",
       "      <th>65</th>\n",
       "      <td>The Dark Knight</td>\n",
       "      <td>12002</td>\n",
       "      <td>8.2</td>\n",
       "      <td>7.920020</td>\n",
       "    </tr>\n",
       "    <tr>\n",
       "      <th>3232</th>\n",
       "      <td>Pulp Fiction</td>\n",
       "      <td>8428</td>\n",
       "      <td>8.3</td>\n",
       "      <td>7.904645</td>\n",
       "    </tr>\n",
       "    <tr>\n",
       "      <th>96</th>\n",
       "      <td>Inception</td>\n",
       "      <td>13752</td>\n",
       "      <td>8.1</td>\n",
       "      <td>7.863239</td>\n",
       "    </tr>\n",
       "    <tr>\n",
       "      <th>3337</th>\n",
       "      <td>The Godfather</td>\n",
       "      <td>5893</td>\n",
       "      <td>8.4</td>\n",
       "      <td>7.851236</td>\n",
       "    </tr>\n",
       "    <tr>\n",
       "      <th>95</th>\n",
       "      <td>Interstellar</td>\n",
       "      <td>10867</td>\n",
       "      <td>8.1</td>\n",
       "      <td>7.809479</td>\n",
       "    </tr>\n",
       "    <tr>\n",
       "      <th>809</th>\n",
       "      <td>Forrest Gump</td>\n",
       "      <td>7927</td>\n",
       "      <td>8.2</td>\n",
       "      <td>7.803188</td>\n",
       "    </tr>\n",
       "    <tr>\n",
       "      <th>329</th>\n",
       "      <td>The Lord of the Rings: The Return of the King</td>\n",
       "      <td>8064</td>\n",
       "      <td>8.1</td>\n",
       "      <td>7.727243</td>\n",
       "    </tr>\n",
       "    <tr>\n",
       "      <th>1990</th>\n",
       "      <td>The Empire Strikes Back</td>\n",
       "      <td>5879</td>\n",
       "      <td>8.2</td>\n",
       "      <td>7.697884</td>\n",
       "    </tr>\n",
       "  </tbody>\n",
       "</table>\n",
       "</div>"
      ],
      "text/plain": [
       "                                              title  vote_count  vote_average  \\\n",
       "1881                       The Shawshank Redemption        8205           8.5   \n",
       "662                                      Fight Club        9413           8.3   \n",
       "65                                  The Dark Knight       12002           8.2   \n",
       "3232                                   Pulp Fiction        8428           8.3   \n",
       "96                                        Inception       13752           8.1   \n",
       "3337                                  The Godfather        5893           8.4   \n",
       "95                                     Interstellar       10867           8.1   \n",
       "809                                    Forrest Gump        7927           8.2   \n",
       "329   The Lord of the Rings: The Return of the King        8064           8.1   \n",
       "1990                        The Empire Strikes Back        5879           8.2   \n",
       "\n",
       "         score  \n",
       "1881  8.059258  \n",
       "662   7.939256  \n",
       "65    7.920020  \n",
       "3232  7.904645  \n",
       "96    7.863239  \n",
       "3337  7.851236  \n",
       "95    7.809479  \n",
       "809   7.803188  \n",
       "329   7.727243  \n",
       "1990  7.697884  "
      ]
     },
     "execution_count": 1309,
     "metadata": {},
     "output_type": "execute_result"
    }
   ],
   "source": [
    "#Sort movies based on score calculated above\n",
    "q_movies = q_movies.sort_values('score', ascending=False)\n",
    "\n",
    "#Print the top 15 movies\n",
    "q_movies[['title', 'vote_count', 'vote_average', 'score']].head(10)"
   ]
  },
  {
   "cell_type": "code",
   "execution_count": 1310,
   "metadata": {},
   "outputs": [
    {
     "data": {
      "text/plain": [
       "Text(0.5, 1.0, 'Popular Movies')"
      ]
     },
     "execution_count": 1310,
     "metadata": {},
     "output_type": "execute_result"
    },
    {
     "data": {
      "image/png": "[encoded data removed]",
      "text/plain": [
       "<Figure size 864x288 with 1 Axes>"
      ]
     },
     "metadata": {
      "needs_background": "light"
     },
     "output_type": "display_data"
    }
   ],
   "source": [
    "pop= df2.sort_values('popularity', ascending=False)\n",
    "import matplotlib.pyplot as plt\n",
    "plt.figure(figsize=(12,4))\n",
    "\n",
    "plt.barh(pop['title'].head(6),pop['popularity'].head(6), align='center',\n",
    "        color='skyblue')\n",
    "plt.gca().invert_yaxis()\n",
    "plt.xlabel(\"Popularity\")\n",
    "plt.title(\"Popular Movies\")"
   ]
  },
  {
   "cell_type": "markdown",
   "metadata": {},
   "source": [
    "## Preprocessing"
   ]
  },
  {
   "cell_type": "code",
   "execution_count": 1311,
   "metadata": {},
   "outputs": [],
   "source": [
    "genres = {}\n",
    "done = []\n",
    "index = 0\n",
    "add_gen = []\n",
    "for i in range(len(df2)):\n",
    "    curr = []\n",
    "    res = json.loads(df2.loc[i, \"genres\"])\n",
    "    for j in range(len(res)):\n",
    "        if(res[j][\"name\"] not in done):\n",
    "            done.append(res[j][\"name\"])\n",
    "            genres[res[j][\"name\"]] = index\n",
    "            index+=1\n",
    "        curr.append(genres[res[j][\"name\"]])\n",
    "    add_gen.append(curr)"
   ]
  },
  {
   "cell_type": "code",
   "execution_count": 1312,
   "metadata": {},
   "outputs": [
    {
     "data": {
      "text/plain": [
       "{'Action': 0,\n",
       " 'Adventure': 1,\n",
       " 'Fantasy': 2,\n",
       " 'Science Fiction': 3,\n",
       " 'Crime': 4,\n",
       " 'Drama': 5,\n",
       " 'Thriller': 6,\n",
       " 'Animation': 7,\n",
       " 'Family': 8,\n",
       " 'Western': 9,\n",
       " 'Comedy': 10,\n",
       " 'Romance': 11,\n",
       " 'Horror': 12,\n",
       " 'Mystery': 13,\n",
       " 'History': 14,\n",
       " 'War': 15,\n",
       " 'Music': 16,\n",
       " 'Documentary': 17,\n",
       " 'Foreign': 18,\n",
       " 'TV Movie': 19}"
      ]
     },
     "execution_count": 1312,
     "metadata": {},
     "output_type": "execute_result"
    }
   ],
   "source": [
    "genres"
   ]
  },
  {
   "cell_type": "code",
   "execution_count": 1313,
   "metadata": {},
   "outputs": [],
   "source": [
    "df2.drop('genres', axis=1, inplace=True)\n",
    "df2['genres'] = add_gen"
   ]
  },
  {
   "cell_type": "code",
   "execution_count": 1314,
   "metadata": {},
   "outputs": [],
   "source": [
    "keywords = {}\n",
    "done = []\n",
    "index = 0\n",
    "add_gen = []\n",
    "for i in range(len(df2)):\n",
    "    curr = []\n",
    "    res = json.loads(df2.loc[i, \"keywords\"])\n",
    "    #edit\n",
    "    s = \"\"\n",
    "    for j in range(len(res)):\n",
    "        if(res[j][\"name\"] not in done):\n",
    "            done.append(res[j][\"name\"])\n",
    "            keywords[res[j][\"name\"]] = index\n",
    "            index+=1\n",
    "            #edit\n",
    "            s = res[j][\"name\"]\n",
    "            \n",
    "#         curr.append(keywords[res[j][\"name\"]])\n",
    "        #edit\n",
    "        if(s != \"\"):\n",
    "            curr.append(s.lower().replace(' ', ''))\n",
    "    add_gen.append(curr)"
   ]
  },
  {
   "cell_type": "code",
   "execution_count": 1315,
   "metadata": {},
   "outputs": [
    {
     "data": {
      "text/plain": [
       "{'culture clash': 0,\n",
       " 'future': 1,\n",
       " 'space war': 2,\n",
       " 'space colony': 3,\n",
       " 'society': 4,\n",
       " 'space travel': 5,\n",
       " 'futuristic': 6,\n",
       " 'romance': 7,\n",
       " 'space': 8,\n",
       " 'alien': 9,\n",
       " 'tribe': 10,\n",
       " 'alien planet': 11,\n",
       " 'cgi': 12,\n",
       " 'marine': 13,\n",
       " 'soldier': 14,\n",
       " 'battle': 15,\n",
       " 'love affair': 16,\n",
       " 'anti war': 17,\n",
       " 'power relations': 18,\n",
       " 'mind and soul': 19,\n",
       " '3d': 20,\n",
       " 'ocean': 21,\n",
       " 'drug abuse': 22,\n",
       " 'exotic island': 23,\n",
       " 'east india trading company': 24,\n",
       " \"love of one's life\": 25,\n",
       " 'traitor': 26,\n",
       " 'shipwreck': 27,\n",
       " 'strong woman': 28,\n",
       " 'ship': 29,\n",
       " 'alliance': 30,\n",
       " 'calypso': 31,\n",
       " 'afterlife': 32,\n",
       " 'fighter': 33,\n",
       " 'pirate': 34,\n",
       " 'swashbuckler': 35,\n",
       " 'aftercreditsstinger': 36,\n",
       " 'spy': 37,\n",
       " 'based on novel': 38,\n",
       " 'secret agent': 39,\n",
       " 'sequel': 40,\n",
       " 'mi6': 41,\n",
       " 'british secret service': 42,\n",
       " 'united kingdom': 43,\n",
       " 'dc comics': 44,\n",
       " 'crime fighter': 45,\n",
       " 'terrorist': 46,\n",
       " 'secret identity': 47,\n",
       " 'burglar': 48,\n",
       " 'hostage drama': 49,\n",
       " 'time bomb': 50,\n",
       " 'gotham city': 51,\n",
       " 'vigilante': 52,\n",
       " 'cover-up': 53,\n",
       " 'superhero': 54,\n",
       " 'villainess': 55,\n",
       " 'tragic hero': 56,\n",
       " 'terrorism': 57,\n",
       " 'destruction': 58,\n",
       " 'catwoman': 59,\n",
       " 'cat burglar': 60,\n",
       " 'imax': 61,\n",
       " 'flood': 62,\n",
       " 'criminal underworld': 63,\n",
       " 'batman': 64,\n",
       " 'mars': 65,\n",
       " 'medallion': 66,\n",
       " 'princess': 67,\n",
       " 'steampunk': 68,\n",
       " 'martian': 69,\n",
       " 'escape': 70,\n",
       " 'edgar rice burroughs': 71,\n",
       " 'alien race': 72,\n",
       " 'superhuman strength': 73,\n",
       " 'mars civilization': 74,\n",
       " 'sword and planet': 75,\n",
       " '19th century': 76,\n",
       " 'dual identity': 77,\n",
       " 'amnesia': 78,\n",
       " 'sandstorm': 79,\n",
       " 'forgiveness': 80,\n",
       " 'spider': 81,\n",
       " 'wretch': 82,\n",
       " 'death of a friend': 83,\n",
       " 'egomania': 84,\n",
       " 'sand': 85,\n",
       " 'narcism': 86,\n",
       " 'hostility': 87,\n",
       " 'marvel comic': 88,\n",
       " 'revenge': 89,\n",
       " 'hostage': 90,\n",
       " 'magic': 91,\n",
       " 'horse': 92,\n",
       " 'fairy tale': 93,\n",
       " 'musical': 94,\n",
       " 'animation': 95,\n",
       " 'tower': 96,\n",
       " 'blonde woman': 97,\n",
       " 'selfishness': 98,\n",
       " 'healing power': 99,\n",
       " 'based on fairy tale': 100,\n",
       " 'duringcreditsstinger': 101,\n",
       " 'healing gift': 102,\n",
       " 'animal sidekick': 103,\n",
       " 'based on comic book': 104,\n",
       " 'vision': 105,\n",
       " 'superhero team': 106,\n",
       " 'marvel cinematic universe': 107,\n",
       " 'witch': 108,\n",
       " 'broom': 109,\n",
       " 'school of witchcraft': 110,\n",
       " 'wizardry': 111,\n",
       " 'apparition': 112,\n",
       " 'teenage crush': 113,\n",
       " 'werewolf': 114,\n",
       " 'super powers': 115,\n",
       " 'clark kent': 116,\n",
       " 'bruce wayne': 117,\n",
       " 'dc extended universe': 118,\n",
       " 'saving the world': 119,\n",
       " 'invulnerability': 120,\n",
       " 'kryptonite': 121,\n",
       " 'lex luthor': 122,\n",
       " 'killing': 123,\n",
       " 'undercover': 124,\n",
       " 'fortune teller': 125,\n",
       " 'bondage': 126,\n",
       " 'monster': 127,\n",
       " 'captain': 128,\n",
       " 'card game': 129,\n",
       " 'compass': 130,\n",
       " 'daughter': 131,\n",
       " 'texas': 132,\n",
       " 'survivor': 133,\n",
       " 'texas ranger': 134,\n",
       " 'partner': 135,\n",
       " 'outlaw': 136,\n",
       " 'lawyer': 137,\n",
       " 'train': 138,\n",
       " 'lone ranger': 139,\n",
       " 'comanche': 140,\n",
       " 'the lone ranger': 141,\n",
       " 'tonto': 142,\n",
       " 'superhuman': 143,\n",
       " 'alien invasion': 144,\n",
       " 'reboot': 145,\n",
       " 'fictional place': 146,\n",
       " 'brother sister relationship': 147,\n",
       " 'lion': 148,\n",
       " 'human being': 149,\n",
       " 'leap in time': 150,\n",
       " 'matter of life and death': 151,\n",
       " 'faith': 152,\n",
       " 'uncle': 153,\n",
       " 'narnia': 154,\n",
       " 'fantasy world': 155,\n",
       " 'new york': 156,\n",
       " 'shield': 157,\n",
       " 'sea': 158,\n",
       " 'mutiny': 159,\n",
       " 'sword': 160,\n",
       " 'prime minister': 161,\n",
       " 'sailing': 162,\n",
       " 'silver': 163,\n",
       " 'duke': 164,\n",
       " 'mermaid': 165,\n",
       " 'time travel': 166,\n",
       " 'time machine': 167,\n",
       " 'fictional government agency': 168,\n",
       " 'seeing the future': 169,\n",
       " 'changing history': 170,\n",
       " 'corruption': 171,\n",
       " 'elves': 172,\n",
       " 'dwarves': 173,\n",
       " 'orcs': 174,\n",
       " 'middle-earth (tolkien)': 175,\n",
       " 'hobbit': 176,\n",
       " 'dragon': 177,\n",
       " 'unlikely friendship': 178,\n",
       " 'epic battle': 179,\n",
       " 'sword and sorcery': 180,\n",
       " 'loss of father': 181,\n",
       " 'serum': 182,\n",
       " 'scientific experiment': 183,\n",
       " 'spider bite': 184,\n",
       " 'masked vigilante': 185,\n",
       " 'genetic engineering': 186,\n",
       " 'social outcast': 187,\n",
       " 'robin hood': 188,\n",
       " 'archer': 189,\n",
       " 'knight': 190,\n",
       " 'sherwood forest': 191,\n",
       " 'bow and arrow': 192,\n",
       " 'middle ages': 193,\n",
       " 'medieval': 194,\n",
       " 'king of england': 195,\n",
       " 'wizard': 196,\n",
       " 'england': 197,\n",
       " 'experiment': 198,\n",
       " 'lordship': 199,\n",
       " 'polar bear': 200,\n",
       " 'orphan': 201,\n",
       " 'animal': 202,\n",
       " 'based on young adult novel': 203,\n",
       " 'film business': 204,\n",
       " 'screenplay': 205,\n",
       " 'show business': 206,\n",
       " 'film making': 207,\n",
       " 'film producer': 208,\n",
       " 'indigenous': 209,\n",
       " 'dinosaur': 210,\n",
       " 'iceberg': 211,\n",
       " 'panic': 212,\n",
       " 'titanic': 213,\n",
       " 'ocean liner': 214,\n",
       " 'epic': 215,\n",
       " 'rich woman - poor man': 216,\n",
       " 'love': 217,\n",
       " 'disaster': 218,\n",
       " 'tragic love': 219,\n",
       " 'class differences': 220,\n",
       " 'star crossed lovers': 221,\n",
       " 'steerage': 222,\n",
       " 'salvage': 223,\n",
       " 'rich snob': 224,\n",
       " '1910s': 225,\n",
       " 'civil war': 226,\n",
       " 'war': 227,\n",
       " 'fight': 228,\n",
       " 'u.s. navy': 229,\n",
       " 'mind reading': 230,\n",
       " 'hong kong': 231,\n",
       " 'soccer': 232,\n",
       " 'scientist': 233,\n",
       " 'fictional war': 234,\n",
       " 'naval': 235,\n",
       " 'armada': 236,\n",
       " 'battleship': 237,\n",
       " 'naval combat': 238,\n",
       " 'jds myoko': 239,\n",
       " 'lost communication': 240,\n",
       " 'taser': 241,\n",
       " 'buoy': 242,\n",
       " 'communications expert': 243,\n",
       " 'joint chiefs of staff': 244,\n",
       " 'crash landing': 245,\n",
       " 'jet fighter pilot': 246,\n",
       " 'navy lieutenant': 247,\n",
       " 'permission to marry': 248,\n",
       " 'uss john paul jones': 249,\n",
       " 'based on board game': 250,\n",
       " 'mighty mo': 251,\n",
       " 'uss missouri': 252,\n",
       " 'dna': 253,\n",
       " 'tyrannosaurus rex': 254,\n",
       " 'velociraptor': 255,\n",
       " 'island': 256,\n",
       " 'suspense': 257,\n",
       " 'amusement park': 258,\n",
       " 'animal attack': 259,\n",
       " 'theme park': 260,\n",
       " 'jurassic park': 261,\n",
       " 'animal horror': 262,\n",
       " 'sociopath': 263,\n",
       " 'killer': 264,\n",
       " 'art gallery': 265,\n",
       " 'istanbul turkey': 266,\n",
       " 'uzi': 267,\n",
       " 'booby trap': 268,\n",
       " 'impersonating a police officer': 269,\n",
       " 'macao': 270,\n",
       " 'pizza boy': 271,\n",
       " 'doctor': 272,\n",
       " 'tentacle': 273,\n",
       " 'death': 274,\n",
       " 'super villain': 275,\n",
       " 'war on terror': 276,\n",
       " 'tennessee': 277,\n",
       " 'malibu': 278,\n",
       " 'tony stark': 279,\n",
       " 'iron man': 280,\n",
       " 'mandarin': 281,\n",
       " 'war machine': 282,\n",
       " 'iron patriot': 283,\n",
       " 'extremis': 284,\n",
       " 'queen': 285,\n",
       " 'fantasy': 286,\n",
       " 'alice in wonderland': 287,\n",
       " 'mutant': 288,\n",
       " 'beast': 289,\n",
       " 'cyclops': 290,\n",
       " 'dormitory': 291,\n",
       " 'games': 292,\n",
       " 'best friend': 293,\n",
       " 'university': 294,\n",
       " 'scary': 295,\n",
       " 'egypt': 296,\n",
       " 'sun': 297,\n",
       " 'chaos': 298,\n",
       " 'symbol': 299,\n",
       " 'artifact': 300,\n",
       " 'transformers': 301,\n",
       " 'tank': 302,\n",
       " 'robot': 303,\n",
       " 'giant robot': 304,\n",
       " 'transforming robot': 305,\n",
       " 'circus': 306,\n",
       " 'hope': 307,\n",
       " 'illusion': 308,\n",
       " 'lost': 309,\n",
       " 'magic trick': 310,\n",
       " 'obsession': 311,\n",
       " 'electrocution': 312,\n",
       " 'medical experiment': 313,\n",
       " 'electricity': 314,\n",
       " 'artificial intelligence': 315,\n",
       " 'computer program': 316,\n",
       " 'dystopia': 317,\n",
       " 'computer': 318,\n",
       " 'deception': 319,\n",
       " 'duel': 320,\n",
       " 'motorcycle': 321,\n",
       " 'neon light': 322,\n",
       " 'autocracy': 323,\n",
       " 'car race': 324,\n",
       " 'comedy': 325,\n",
       " 'anthropomorphism': 326,\n",
       " 'transformation': 327,\n",
       " 'alien infection': 328,\n",
       " 'magical object': 329,\n",
       " 'protector': 330,\n",
       " 'origin': 331,\n",
       " 'college': 332,\n",
       " 'toy': 333,\n",
       " 'barbie': 334,\n",
       " 'day care': 335,\n",
       " 'teddy bear': 336,\n",
       " 'toy comes to life': 337,\n",
       " 'personification': 338,\n",
       " 'inanimate objects coming to life': 339,\n",
       " 'toy story': 340,\n",
       " 'prophecy': 341,\n",
       " 'san francisco': 342,\n",
       " 'cyborg': 343,\n",
       " 'killer robot': 344,\n",
       " 'gas station': 345,\n",
       " 'post-apocalyptic': 346,\n",
       " 'army': 347,\n",
       " 'firearm': 348,\n",
       " 'wartime': 349,\n",
       " 'los angeles': 350,\n",
       " 'speed': 351,\n",
       " 'car': 352,\n",
       " 'race': 353,\n",
       " 'muscle car': 354,\n",
       " 'apocalypse': 355,\n",
       " 'zombie': 356,\n",
       " 'nuclear weapons': 357,\n",
       " 'multiple perspectives': 358,\n",
       " 'zombie apocalypse': 359,\n",
       " '1970s': 360,\n",
       " 'storm': 361,\n",
       " 'changing the past or future': 362,\n",
       " 'spacecraft': 363,\n",
       " 'friendship': 364,\n",
       " 'space opera': 365,\n",
       " 'terrorist bombing': 366,\n",
       " 'giant': 367,\n",
       " 'infidelity': 368,\n",
       " 'persia': 369,\n",
       " 'brother against brother': 370,\n",
       " 'armageddon': 371,\n",
       " 'regent': 372,\n",
       " 'based on video game': 373,\n",
       " 'giant monster': 374,\n",
       " 'moon': 375,\n",
       " 'bodyguard': 376,\n",
       " 'based on cartoon': 377,\n",
       " 'sabotage': 378,\n",
       " 'word domination': 379,\n",
       " 'commando': 380,\n",
       " 'riddle': 381,\n",
       " 'whip': 382,\n",
       " 'treasure': 383,\n",
       " 'mexico city': 384,\n",
       " 'leather jacket': 385,\n",
       " 'machinegun': 386,\n",
       " 'alien phenomenons': 387,\n",
       " 'maya civilization': 388,\n",
       " 'peru': 389,\n",
       " 'treasure hunt': 390,\n",
       " 'nuclear explosion': 391,\n",
       " 'refrigerator': 392,\n",
       " 'archaeologist': 393,\n",
       " 'indiana jones': 394,\n",
       " 'archeology\\xa0': 395,\n",
       " 'friends': 396,\n",
       " 'alternate history': 397,\n",
       " 'fear': 398,\n",
       " 'nature': 399,\n",
       " 'human': 400,\n",
       " 'journey': 401,\n",
       " 'scotland': 402,\n",
       " 'rebel': 403,\n",
       " 'bravery': 404,\n",
       " 'kingdom': 405,\n",
       " 'wish': 406,\n",
       " 'bear': 407,\n",
       " 'scot': 408,\n",
       " 'rebellious daughter': 409,\n",
       " 'turns into animal': 410,\n",
       " 'archery': 411,\n",
       " 'ruins': 412,\n",
       " 'peace offering': 413,\n",
       " 'woman director': 414,\n",
       " 'courage': 415,\n",
       " 'stranded': 416,\n",
       " 'hatred': 417,\n",
       " 'romantic comedy': 418,\n",
       " 'ambassador': 419,\n",
       " 'civilization': 420,\n",
       " 'natural disaster': 421,\n",
       " 'end of the world': 422,\n",
       " 'volcanic eruption': 423,\n",
       " 'mayan': 424,\n",
       " 'ark': 425,\n",
       " 'solar': 426,\n",
       " 'destruction  of mankind': 427,\n",
       " 'holiday': 428,\n",
       " 'victorian england': 429,\n",
       " 'money': 430,\n",
       " 'christmas eve': 431,\n",
       " 'scrooge': 432,\n",
       " 'christmas carol': 433,\n",
       " 'ghost': 434,\n",
       " 'lesson': 435,\n",
       " 'charles dickens': 436,\n",
       " 'christmas': 437,\n",
       " 'jupiter': 438,\n",
       " 'interspecies romance': 439,\n",
       " 'africa': 440,\n",
       " 'feral child': 441,\n",
       " 'tarzan': 442,\n",
       " 'jungle': 443,\n",
       " 'self sacrifice': 444,\n",
       " 'winter': 445,\n",
       " 'cupboard': 446,\n",
       " 'beaver': 447,\n",
       " 'fairy-tale figure': 448,\n",
       " 'supernatural powers': 449,\n",
       " 'world domination': 450,\n",
       " '1980s': 451,\n",
       " 'scarecrow': 452,\n",
       " 'sadism': 453,\n",
       " 'joker': 454,\n",
       " 'organized crime': 455,\n",
       " 'criminal mastermind': 456,\n",
       " 'district attorney': 457,\n",
       " 'age difference': 458,\n",
       " 'central and south america': 459,\n",
       " 'balloon': 460,\n",
       " 'floating in the air': 461,\n",
       " 'exploring': 462,\n",
       " 'middle east': 463,\n",
       " 'arms dealer': 464,\n",
       " 'counter terrorism': 465,\n",
       " 'agent coulson': 466,\n",
       " 'library': 467,\n",
       " 'clock': 468,\n",
       " 'film director': 469,\n",
       " 'key': 470,\n",
       " 'boy': 471,\n",
       " 'automaton': 472,\n",
       " 'hiding': 473,\n",
       " 'filmmaking': 474,\n",
       " 'leg brace': 475,\n",
       " 'doberman': 476,\n",
       " 'based on tv series': 477,\n",
       " 'steam locomotive': 478,\n",
       " 'drag': 479,\n",
       " 'shared universe': 480,\n",
       " 'anti hero': 481,\n",
       " 'secret mission': 482,\n",
       " 'villain': 483,\n",
       " 'supervillain': 484,\n",
       " 'father son relationship': 485,\n",
       " 'daily life': 486,\n",
       " 'married couple': 487,\n",
       " 'support': 488,\n",
       " 'father': 489,\n",
       " 'marriage': 490,\n",
       " 'baustelle': 491,\n",
       " 'rescue': 492,\n",
       " \"noah's ark\": 493,\n",
       " 'deja vu': 494,\n",
       " 'time warp': 495,\n",
       " 'restart': 496,\n",
       " 'military officer': 497,\n",
       " 'exoskeleton': 498,\n",
       " 'tattoo': 499,\n",
       " 'water': 500,\n",
       " 'doomsday': 501,\n",
       " 'secret': 502,\n",
       " 'technology': 503,\n",
       " 'warhead': 504,\n",
       " 'government': 505,\n",
       " 'president': 506,\n",
       " 'murder': 507,\n",
       " 'attack': 508,\n",
       " 'explosion': 509,\n",
       " 'lasers': 510,\n",
       " 'evil': 511,\n",
       " 'cobra': 512,\n",
       " 'dream': 513,\n",
       " 'cartoon': 514,\n",
       " 'imaginary friend': 515,\n",
       " 'family': 516,\n",
       " 'moving': 517,\n",
       " 'kids': 518,\n",
       " 'unicorn': 519,\n",
       " 'emotions': 520,\n",
       " 'snake': 521,\n",
       " 'wolf': 522,\n",
       " 'elephant': 523,\n",
       " 'tiger': 524,\n",
       " 'panther': 525,\n",
       " 'remake': 526,\n",
       " 'talking animal': 527,\n",
       " 'talking to animals': 528,\n",
       " 'immortality': 529,\n",
       " 'forest': 530,\n",
       " 'woman': 531,\n",
       " 'eternal youth': 532,\n",
       " 'snow white': 533,\n",
       " 'evil queen': 534,\n",
       " 'evil stepmother': 535,\n",
       " 'imprisoned': 536,\n",
       " 'sorceress': 537,\n",
       " 'sleeping beauty': 538,\n",
       " 'dark fantasy': 539,\n",
       " 'adaptation': 540,\n",
       " 'retelling': 541,\n",
       " 'literary adaptation': 542,\n",
       " 'leader': 543,\n",
       " 'colony': 544,\n",
       " 'woods': 545,\n",
       " 'ape': 546,\n",
       " 'monkey': 547,\n",
       " 'medical research': 548,\n",
       " 'plague': 549,\n",
       " 'japan': 550,\n",
       " 'suicide': 551,\n",
       " 'samurai': 552,\n",
       " 'based on true story': 553,\n",
       " 'samurai sword': 554,\n",
       " 'ronin': 555,\n",
       " 'shogun': 556,\n",
       " 'half breed': 557,\n",
       " 'washington d.c.': 558,\n",
       " 'captain america': 559,\n",
       " 'political thriller': 560,\n",
       " 'ogre': 561,\n",
       " 'inventor': 562,\n",
       " 'destiny': 563,\n",
       " 'dreamer': 564,\n",
       " 'futuristic car': 565,\n",
       " 'futuristic city': 566,\n",
       " 'brother brother relationship': 567,\n",
       " 'hero': 568,\n",
       " 'talent': 569,\n",
       " 'another dimension': 570,\n",
       " 'boy genius': 571,\n",
       " 'hate': 572,\n",
       " 'moral dilemma': 573,\n",
       " 'teen superheroes': 574,\n",
       " 'dead brother': 575,\n",
       " 'support group': 576,\n",
       " 'product placement': 577,\n",
       " 'bullying': 578,\n",
       " 'racing': 579,\n",
       " 'arcade': 580,\n",
       " 'medal': 581,\n",
       " 'self esteem': 582,\n",
       " 'curiosity': 583,\n",
       " 'precocious child': 584,\n",
       " 'first person shooter': 585,\n",
       " 'glitch': 586,\n",
       " 'carefree': 587,\n",
       " 'video gamer': 588,\n",
       " 'q*bert': 589,\n",
       " 'interrupted wedding': 590,\n",
       " 'social reject': 591,\n",
       " 'santa claus': 592,\n",
       " 'nerd': 593,\n",
       " 'gift': 594,\n",
       " 'bell': 595,\n",
       " 'beard': 596,\n",
       " 'north pole': 597,\n",
       " 'chute': 598,\n",
       " 'trestle': 599,\n",
       " 'ticket': 600,\n",
       " 'flying': 601,\n",
       " 'blacksmith': 602,\n",
       " 'arena': 603,\n",
       " 'night': 604,\n",
       " 'training': 605,\n",
       " 'village': 606,\n",
       " 'viking': 607,\n",
       " 'ignorance': 608,\n",
       " 'flight': 609,\n",
       " 'nest': 610,\n",
       " 'combat': 611,\n",
       " 'well': 612,\n",
       " 'warrior': 613,\n",
       " 'man vs machine': 614,\n",
       " 'sun glasses': 615,\n",
       " 'nanotechnology': 616,\n",
       " 'rocket launcher': 617,\n",
       " 'firemen': 618,\n",
       " 'veterinarian': 619,\n",
       " 'fire engine': 620,\n",
       " 'psychiatrist': 621,\n",
       " 'spaceship': 622,\n",
       " 'outer space': 623,\n",
       " 'adventurer': 624,\n",
       " 'single parent': 625,\n",
       " 'nasa': 626,\n",
       " 'expedition': 627,\n",
       " 'wormhole': 628,\n",
       " 'famine': 629,\n",
       " 'black hole': 630,\n",
       " 'race against time': 631,\n",
       " 'quantum mechanics': 632,\n",
       " 'family relationships': 633,\n",
       " 'farmhouse': 634,\n",
       " 'astronaut': 635,\n",
       " 'father daughter relationship': 636,\n",
       " 'single father': 637,\n",
       " 'farmer': 638,\n",
       " 'space station': 639,\n",
       " 'astrophysics': 640,\n",
       " 'zero gravity': 641,\n",
       " 'time paradox': 642,\n",
       " 'relativity': 643,\n",
       " 'loss of lover': 644,\n",
       " 'kidnapping': 645,\n",
       " 'sleep': 646,\n",
       " 'subconsciousness': 647,\n",
       " 'heist': 648,\n",
       " 'redemption': 649,\n",
       " 'female hero': 650,\n",
       " 'godzilla': 651,\n",
       " 'kaiju': 652,\n",
       " 'toyko': 653,\n",
       " 'mountains': 654,\n",
       " 'ring': 655,\n",
       " 'goblin': 656,\n",
       " 'tunnel': 657,\n",
       " 'underground lake': 658,\n",
       " 'buried treasure': 659,\n",
       " 'climbing a tree': 660,\n",
       " 'invisibility': 661,\n",
       " 'ancient': 662,\n",
       " 'gnomes': 663,\n",
       " 'street gang': 664,\n",
       " 'auto-tuning': 665,\n",
       " 'automobile racing': 666,\n",
       " 'diary': 667,\n",
       " 'navy': 668,\n",
       " 'funeral': 669,\n",
       " 'tea': 670,\n",
       " 'travel': 671,\n",
       " 'hospital': 672,\n",
       " 'cia': 673,\n",
       " 'mine': 674,\n",
       " 'historical fiction': 675,\n",
       " 'nuclear war': 676,\n",
       " 'cuban missile crisis': 677,\n",
       " 'world war iii': 678,\n",
       " '1960s': 679,\n",
       " 'revolution': 680,\n",
       " 'game of death': 681,\n",
       " 'fire': 682,\n",
       " 'fountain': 683,\n",
       " 'book': 684,\n",
       " 'castle': 685,\n",
       " 'apprentice': 686,\n",
       " 'merlin': 687,\n",
       " 'mission': 688,\n",
       " 'sorcerer': 689,\n",
       " 'apprendista': 690,\n",
       " 'morgana': 691,\n",
       " \"new year's eve\": 692,\n",
       " 'drowning': 693,\n",
       " 'cataclysm': 694,\n",
       " 'atlantic ocean': 695,\n",
       " 'ball': 696,\n",
       " 'self-abandonment': 697,\n",
       " 'giant wave': 698,\n",
       " 'blackout': 699,\n",
       " 'single': 700,\n",
       " 'capsized ship': 701,\n",
       " 'mad hatter': 702,\n",
       " 'ambush': 703,\n",
       " 'sadness': 704,\n",
       " 'stage': 705,\n",
       " 'liberation of prisoners': 706,\n",
       " 'prince': 707,\n",
       " 'donkey': 708,\n",
       " 'theatre play': 709,\n",
       " 'conciliation': 710,\n",
       " 'tricks': 711,\n",
       " 'heir to the throne': 712,\n",
       " 'assault': 713,\n",
       " 'boarding school': 714,\n",
       " \"coup d'etat\": 715,\n",
       " 'teacher': 716,\n",
       " 'cowardliness': 717,\n",
       " 'pregnancy': 718,\n",
       " 'capture': 719,\n",
       " 'video game': 720,\n",
       " 'chase': 721,\n",
       " 'fictional language': 722,\n",
       " 'muscles': 723,\n",
       " 'orc': 724,\n",
       " 'fiction': 725,\n",
       " 'good vs evil': 726,\n",
       " 'king': 727,\n",
       " 'knife held to throat': 728,\n",
       " 'snowing': 729,\n",
       " 'quest': 730,\n",
       " 'nurse': 731,\n",
       " 'patriotism': 732,\n",
       " 'hawaii': 733,\n",
       " 'world war ii': 734,\n",
       " 'pilot': 735,\n",
       " 'pearl harbor': 736,\n",
       " 'u.s. air force': 737,\n",
       " 'airplane': 738,\n",
       " 'pin-up': 739,\n",
       " 'destroy': 740,\n",
       " 'based on toy': 741,\n",
       " 'teenage hero': 742,\n",
       " 'aristotle': 743,\n",
       " 'greece': 744,\n",
       " 'campaign': 745,\n",
       " 'alexander the great': 746,\n",
       " 'homosexuality': 747,\n",
       " 'gay relationship': 748,\n",
       " 'ancient world': 749,\n",
       " 'cutting the cord': 750,\n",
       " 'child hero': 751,\n",
       " 'dying and death': 752,\n",
       " \"sorcerer's apprentice\": 753,\n",
       " 'black magic': 754,\n",
       " 'sorcery': 755,\n",
       " 'occultism': 756,\n",
       " 'chosen one': 757,\n",
       " 'tournament': 758,\n",
       " 'teenager': 759,\n",
       " 'alcohol': 760,\n",
       " 'forbidden love': 761,\n",
       " 'lovers': 762,\n",
       " 'affection': 763,\n",
       " 'advertising expert': 764,\n",
       " 'alcoholism': 765,\n",
       " 'pokies': 766,\n",
       " 'lost civilisation': 767,\n",
       " 'alone': 768,\n",
       " 'helplessness': 769,\n",
       " 'virus': 770,\n",
       " 'pandemic': 771,\n",
       " 'london england': 772,\n",
       " 'chocolate': 773,\n",
       " 'factory worker': 774,\n",
       " 'parents kids relationship': 775,\n",
       " 'candy': 776,\n",
       " 'overweight child': 777,\n",
       " 'grandfather grandson relationship': 778,\n",
       " 'paris': 779,\n",
       " 'expensive restaurant': 780,\n",
       " 'river': 781,\n",
       " 'cook': 782,\n",
       " 'mouse': 783,\n",
       " 'confidence': 784,\n",
       " 'roof': 785,\n",
       " 'window': 786,\n",
       " \"leaving one's family\": 787,\n",
       " 'work': 788,\n",
       " 'restaurant critic': 789,\n",
       " 'kitchen': 790,\n",
       " 'spice': 791,\n",
       " 'court': 792,\n",
       " 'cookbook': 793,\n",
       " 'chef': 794,\n",
       " 'rat': 795,\n",
       " 'himalaya': 796,\n",
       " 'martial arts': 797,\n",
       " 'rivalry': 798,\n",
       " 'ninja': 799,\n",
       " 'crime': 800,\n",
       " 'haunted by the past': 801,\n",
       " 'evil doctor': 802,\n",
       " 'escapade': 803,\n",
       " 'master villain': 804,\n",
       " 'fighting crime': 805,\n",
       " 'unfulfillment': 806,\n",
       " 'love and romance': 807,\n",
       " 'unfulfilled love': 808,\n",
       " 'jealousy': 809,\n",
       " 'dance': 810,\n",
       " 'hunger': 811,\n",
       " 'zoo': 812,\n",
       " 'hippopotamus': 813,\n",
       " 'chimp': 814,\n",
       " 'penguin': 815,\n",
       " 'volcano': 816,\n",
       " 'madagascar': 817,\n",
       " 'zebra': 818,\n",
       " 'shark': 819,\n",
       " 'museum': 820,\n",
       " 'theodore roosevelt': 821,\n",
       " 'amelia earhart': 822,\n",
       " 'smithsonian': 823,\n",
       " 'boxer': 824,\n",
       " 'philosophy': 825,\n",
       " 'kung fu': 826,\n",
       " 'underground world': 827,\n",
       " 'temple': 828,\n",
       " 'subway': 829,\n",
       " 'sunlight': 830,\n",
       " 'computer virus': 831,\n",
       " 'precognition': 832,\n",
       " 'super computer': 833,\n",
       " 'machine town': 834,\n",
       " 'ying yang': 835,\n",
       " 'virtual reality': 836,\n",
       " 'world religion': 837,\n",
       " 'truth': 838,\n",
       " 'cyberpunk': 839,\n",
       " 'yin yang': 840,\n",
       " 'gnosticism': 841,\n",
       " 'betrayal': 842,\n",
       " 'snowman': 843,\n",
       " 'reindeer': 844,\n",
       " 'curse': 845,\n",
       " 'snow': 846,\n",
       " 'troll': 847,\n",
       " 'mountain climber': 848,\n",
       " 'plato': 849,\n",
       " 'rave': 850,\n",
       " 'hostile takeover': 851,\n",
       " 'norse mythology': 852,\n",
       " 'asgard': 853,\n",
       " 'australia': 854,\n",
       " 'survival': 855,\n",
       " 'on the run': 856,\n",
       " 'convoy': 857,\n",
       " 'peak oil': 858,\n",
       " 'dark future': 859,\n",
       " 'rome': 860,\n",
       " 'vatican': 861,\n",
       " 'symbolism': 862,\n",
       " 'christian': 863,\n",
       " 'illuminati': 864,\n",
       " 'prequel': 865,\n",
       " 'anti matter': 866,\n",
       " 'conspiracy': 867,\n",
       " 'investigator': 868,\n",
       " 'catholicism': 869,\n",
       " 'cern': 870,\n",
       " 'new mexico': 871,\n",
       " 'banishment': 872,\n",
       " 'hammer': 873,\n",
       " 'odin': 874,\n",
       " 'heimdall': 875,\n",
       " 'hamster': 876,\n",
       " 'kids and family': 877,\n",
       " 'cat vs dog': 878,\n",
       " 'dog cat friendship': 879,\n",
       " 'animal lead': 880,\n",
       " 'girl dog relationship': 881,\n",
       " 'dyr': 882,\n",
       " 'underworld': 883,\n",
       " 'hades': 884,\n",
       " 'mythology': 885,\n",
       " 'greek mythology': 886,\n",
       " 'zeus': 887,\n",
       " 'perseus': 888,\n",
       " 'gods': 889,\n",
       " 'ancient greece': 890,\n",
       " 'based on greek myth': 891,\n",
       " 'ares': 892,\n",
       " 'imprisonment': 893,\n",
       " 'vampire': 894,\n",
       " 'fish out of water': 895,\n",
       " 'chains': 896,\n",
       " 'gothic': 897,\n",
       " 'madness': 898,\n",
       " 'old house': 899,\n",
       " 'lost love': 900,\n",
       " 'angry mob': 901,\n",
       " '18th century': 902,\n",
       " 'hidden room': 903,\n",
       " 'old mansion': 904,\n",
       " 'austria': 905,\n",
       " 'vienna opera': 906,\n",
       " 'vienna': 907,\n",
       " 'rural setting': 908,\n",
       " 'tennis': 909,\n",
       " 'flower': 910,\n",
       " 'florist': 911,\n",
       " 'flower shop': 912,\n",
       " 'beehive': 913,\n",
       " 'fleet': 914,\n",
       " 'panda': 915,\n",
       " 'ice': 916,\n",
       " 'war ship': 917,\n",
       " 'arrest': 918,\n",
       " 'avatar': 919,\n",
       " 'air': 920,\n",
       " 'spirit': 921,\n",
       " 'world': 922,\n",
       " 'domination': 923,\n",
       " 'cheering': 924,\n",
       " 'berlin': 925,\n",
       " 'white house': 926,\n",
       " 'explosive': 927,\n",
       " 'mobile phone': 928,\n",
       " 'map': 929,\n",
       " 'mask': 930,\n",
       " 'honeymoon': 931,\n",
       " 'shanghai': 932,\n",
       " 'pretended murder': 933,\n",
       " 'letter': 934,\n",
       " 'covered investigation': 935,\n",
       " 'to shoot dead': 936,\n",
       " 'video': 937,\n",
       " 'stamp': 938,\n",
       " 'hard drive': 939,\n",
       " 'e-mail': 940,\n",
       " 'decipherment': 941,\n",
       " 'suitcase': 942,\n",
       " 'disguise': 943,\n",
       " 'celebration': 944,\n",
       " 'good and bad': 945,\n",
       " 'research laboratory': 946,\n",
       " 'blast': 947,\n",
       " 'usa president': 948,\n",
       " 'secret service': 949,\n",
       " 'the white house': 950,\n",
       " 'alien abduction': 951,\n",
       " \"based on children's book\": 952,\n",
       " 'return': 953,\n",
       " 'frog': 954,\n",
       " 'girlfriend': 955,\n",
       " 'rubin': 956,\n",
       " 'peter pan': 957,\n",
       " 'intelligence': 958,\n",
       " 'adoption': 959,\n",
       " 'child prodigy': 960,\n",
       " 'growing up': 961,\n",
       " 'children': 962,\n",
       " 'talking dog': 963,\n",
       " 'dog': 964,\n",
       " 'first love': 965,\n",
       " 'ancient egypt': 966,\n",
       " 'time traveler': 967,\n",
       " 'new school': 968,\n",
       " 'george washington': 969,\n",
       " 'gags': 970,\n",
       " 'trouble': 971,\n",
       " 'prodigy': 972,\n",
       " 'adultery': 973,\n",
       " 'beauty': 974,\n",
       " 'trojan war': 975,\n",
       " 'wall': 976,\n",
       " 'fraud': 977,\n",
       " 'sword fight': 978,\n",
       " 'battlefield': 979,\n",
       " 'pyre': 980,\n",
       " 'trojan horse': 981,\n",
       " 'trojan': 982,\n",
       " 'bronze age': 983,\n",
       " 'sparta greece': 984,\n",
       " 'helen of troy': 985,\n",
       " \"homer's iliad\": 986,\n",
       " 'laser': 987,\n",
       " 'secret service agent': 988,\n",
       " 'space based weapon': 989,\n",
       " 'female friendship': 990,\n",
       " 'ghost hunting': 991,\n",
       " 'asteroid': 992,\n",
       " 'space marine': 993,\n",
       " 'wedding': 994,\n",
       " 'eiffel tower paris': 995,\n",
       " 'disaster movie': 996,\n",
       " 'space centre': 997,\n",
       " 'illegal immigration': 998,\n",
       " 'deportation': 999,\n",
       " ...}"
      ]
     },
     "execution_count": 1315,
     "metadata": {},
     "output_type": "execute_result"
    }
   ],
   "source": [
    "keywords"
   ]
  },
  {
   "cell_type": "code",
   "execution_count": 1316,
   "metadata": {},
   "outputs": [],
   "source": [
    "df2.drop('keywords', axis=1, inplace=True)\n",
    "df2['keywords'] = add_gen"
   ]
  },
  {
   "cell_type": "code",
   "execution_count": 1317,
   "metadata": {},
   "outputs": [],
   "source": [
    "production_companies = {}\n",
    "done = []\n",
    "index = 0\n",
    "add_gen = []\n",
    "for i in range(len(df2)):\n",
    "    curr = []\n",
    "    res = json.loads(df2.loc[i, \"production_companies\"])\n",
    "    for j in range(len(res)):\n",
    "        if(res[j][\"name\"] not in done):\n",
    "            done.append(res[j][\"name\"])\n",
    "            production_companies[res[j][\"name\"]] = index\n",
    "            index+=1\n",
    "        curr.append(production_companies[res[j][\"name\"]])\n",
    "    add_gen.append(curr)"
   ]
  },
  {
   "cell_type": "code",
   "execution_count": 1318,
   "metadata": {},
   "outputs": [],
   "source": [
    "df2.drop('production_companies', axis=1, inplace=True)\n",
    "df2['production_companies'] = add_gen"
   ]
  },
  {
   "cell_type": "code",
   "execution_count": 1319,
   "metadata": {},
   "outputs": [],
   "source": [
    "production_countries = {}\n",
    "done = []\n",
    "index = 0\n",
    "add_gen = []\n",
    "for i in range(len(df2)):\n",
    "    curr = []\n",
    "    res = json.loads(df2.loc[i, \"production_countries\"])\n",
    "    for j in range(len(res)):\n",
    "        if(res[j][\"name\"] not in done):\n",
    "            done.append(res[j][\"name\"])\n",
    "            production_countries[res[j][\"name\"]] = index\n",
    "            index+=1\n",
    "        curr.append(production_countries[res[j][\"name\"]])\n",
    "    add_gen.append(curr)"
   ]
  },
  {
   "cell_type": "code",
   "execution_count": 1320,
   "metadata": {},
   "outputs": [],
   "source": [
    "df2.drop('production_countries', axis=1, inplace=True)\n",
    "df2['production_countries'] = add_gen"
   ]
  },
  {
   "cell_type": "code",
   "execution_count": 1321,
   "metadata": {},
   "outputs": [],
   "source": [
    "languages = {}\n",
    "done = []\n",
    "index = 0\n",
    "add_gen = []\n",
    "for i in range(len(df2)):\n",
    "    curr = []\n",
    "    res = json.loads(df2.loc[i, 'spoken_languages'])\n",
    "    for j in range(len(res)):\n",
    "        if(res[j][\"iso_639_1\"] not in done):\n",
    "            done.append(res[j][\"iso_639_1\"])\n",
    "            languages[res[j][\"iso_639_1\"]] = index\n",
    "            index+=1\n",
    "        curr.append(languages[res[j][\"iso_639_1\"]])\n",
    "    add_gen.append(curr)"
   ]
  },
  {
   "cell_type": "code",
   "execution_count": 1322,
   "metadata": {},
   "outputs": [],
   "source": [
    "df2.drop('spoken_languages', axis=1, inplace=True)\n",
    "df2['spoken_languages'] = add_gen"
   ]
  },
  {
   "cell_type": "code",
   "execution_count": 1323,
   "metadata": {},
   "outputs": [],
   "source": [
    "add_gen = []\n",
    "for i in range(len(df2)):\n",
    "    curr = []\n",
    "    res = df2.loc[i, \"original_language\"]\n",
    "    if(res not in done):\n",
    "        done.append(res)\n",
    "        languages[res] = index\n",
    "        index+=1\n",
    "    add_gen.append(languages[res])"
   ]
  },
  {
   "cell_type": "code",
   "execution_count": 1324,
   "metadata": {},
   "outputs": [],
   "source": [
    "df2.drop(\"original_language\", axis=1, inplace=True)\n",
    "df2[\"original_language\"] = add_gen"
   ]
  },
  {
   "cell_type": "code",
   "execution_count": 1325,
   "metadata": {},
   "outputs": [],
   "source": [
    "character = {}\n",
    "gender = {'Male': 0, 'Female': 1, 'Undefined': 2}\n",
    "actorname = {}\n",
    "index_char = 0\n",
    "index_cast = 0\n",
    "male = []\n",
    "female = []\n",
    "undefined = []\n",
    "add_char = []\n",
    "add_actors = []\n",
    "for i in range(len(df2)):\n",
    "    curr_actors = []\n",
    "    curr_char = []\n",
    "    curr_m = 0\n",
    "    curr_f = 0\n",
    "    curr_u = 0\n",
    "    res = json.loads(df2.loc[i, 'cast'])\n",
    "    #edit\n",
    "    s = \"\"\n",
    "    for j in range(len(res)):\n",
    "        if(res[j]['character'] not in character.keys()):\n",
    "            character[res[j]['character']] = index_char\n",
    "            index_char += 1\n",
    "        #edit\n",
    "        s = res[j]['character']\n",
    "        \n",
    "#         curr_char.append(character[res[j]['character']])\n",
    "        #edit\n",
    "        curr_char.append(s.lower().replace(' ', ''))\n",
    "        \n",
    "        if(res[j]['name'] not in actorname.keys()):\n",
    "            actorname[res[j]['name']] = index_cast\n",
    "            index_cast += 1\n",
    "        #edit\n",
    "        s = res[j]['name']\n",
    "        \n",
    "#         curr_actors.append(actorname[res[j]['name']])\n",
    "        #edit\n",
    "        curr_actors.append(s.lower().replace(' ', ''))\n",
    "        \n",
    "        if(res[j]['gender'] == 0):\n",
    "            curr_m += 1\n",
    "        elif(res[j]['gender'] == 1):\n",
    "            curr_f += 1\n",
    "        elif(res[j]['gender'] == 2):\n",
    "            curr_u += 1\n",
    "    male.append(curr_m)\n",
    "    female.append(curr_f)\n",
    "    undefined.append(curr_u)\n",
    "    add_char.append(curr_char)\n",
    "    add_actors.append(curr_actors)"
   ]
  },
  {
   "cell_type": "code",
   "execution_count": 1326,
   "metadata": {},
   "outputs": [],
   "source": [
    "df2.drop('cast', axis=1, inplace=True)\n",
    "df2[\"actors\"] = add_actors\n",
    "df2[\"characters\"] = add_char\n",
    "df2[\"male_count\"] = male\n",
    "df2[\"female_count\"] = female\n",
    "df2[\"undefined_gender_count\"] = undefined"
   ]
  },
  {
   "cell_type": "code",
   "execution_count": 1327,
   "metadata": {},
   "outputs": [],
   "source": [
    "director = []\n",
    "director_name = {}\n",
    "dd = 0\n",
    "index_d = 0\n",
    "for i in range(len(df2)):\n",
    "    res = json.loads(df2.loc[i, 'crew'])\n",
    "    dd = 0\n",
    "    for j in range(len(res)):\n",
    "        if(res[j][\"job\"] == 'Director' and dd == 0):\n",
    "            if(res[j][\"name\"] not in director_name.keys()):\n",
    "                director_name[res[j][\"name\"]] = index_d\n",
    "                index_d += 1\n",
    "            director.append(director_name[res[j][\"name\"]])\n",
    "            dd = 1\n",
    "    if(dd == 0):\n",
    "        director_name[\"Director Name Not Available\"] = -1\n",
    "        director.append(-1)"
   ]
  },
  {
   "cell_type": "code",
   "execution_count": 1328,
   "metadata": {},
   "outputs": [],
   "source": [
    "df2.drop('crew', axis=1, inplace=True)\n",
    "df2[\"director\"] = director"
   ]
  },
  {
   "cell_type": "code",
   "execution_count": 1329,
   "metadata": {},
   "outputs": [],
   "source": [
    "df2.drop('homepage', axis=1, inplace=True)\n",
    "df2.drop('tittle', axis=1, inplace=True)"
   ]
  },
  {
   "cell_type": "code",
   "execution_count": 1330,
   "metadata": {},
   "outputs": [],
   "source": [
    "# overview,release_date,runtime,tagline"
   ]
  },
  {
   "cell_type": "code",
   "execution_count": 1331,
   "metadata": {},
   "outputs": [],
   "source": [
    "df2[\"overview\"] = df2[\"overview\"].astype(str)\n",
    "df2[\"release_date\"] = df2[\"release_date\"].astype(str)\n",
    "df2[\"tagline\"] = df2[\"tagline\"].astype(str)\n",
    "df2[\"status\"] = df2[\"status\"].astype(str)"
   ]
  },
  {
   "cell_type": "code",
   "execution_count": 1332,
   "metadata": {},
   "outputs": [],
   "source": [
    "for i in range(len(df2)):\n",
    "    res = df2.loc[i, \"overview\"]\n",
    "    if(res == 'nan'):\n",
    "        df2.loc[i, \"overview\"] = \"\"\n",
    "        \n",
    "    res = df2.loc[i, \"release_date\"]\n",
    "    if(res == 'nan'):\n",
    "        df2.loc[i, \"release_date\"] = \"\"\n",
    "        \n",
    "    res = df2.loc[i, \"tagline\"]\n",
    "    if(res == 'nan'):\n",
    "        df2.loc[i, \"tagline\"] = \"\"\n",
    "        \n",
    "    res = df2.loc[i, \"status\"]\n",
    "    if(res == 'nan'):\n",
    "        df2.loc[i, \"status\"] = \"\""
   ]
  },
  {
   "cell_type": "code",
   "execution_count": 1333,
   "metadata": {},
   "outputs": [],
   "source": [
    "df2[\"runtime\"].fillna(-1, inplace = True)"
   ]
  },
  {
   "cell_type": "code",
   "execution_count": 1334,
   "metadata": {},
   "outputs": [
    {
     "name": "stdout",
     "output_type": "stream",
     "text": [
      "4803\n",
      "4803\n",
      "4803\n",
      "4803\n",
      "4803\n",
      "4803\n",
      "4803\n",
      "4803\n",
      "4803\n",
      "4803\n",
      "4803\n",
      "4803\n",
      "4803\n",
      "4803\n",
      "4803\n",
      "4803\n",
      "4803\n",
      "4803\n",
      "4803\n",
      "4803\n",
      "4803\n",
      "4803\n",
      "4803\n",
      "4803\n",
      "4803\n"
     ]
    }
   ],
   "source": [
    "# All NULLs Handled\n",
    "features = list(df2.columns.values)\n",
    "for i in features:\n",
    "    bool_series = pd.notnull(df2[i])\n",
    "    print(len(df2[bool_series]))"
   ]
  },
  {
   "cell_type": "code",
   "execution_count": 1335,
   "metadata": {},
   "outputs": [
    {
     "data": {
      "text/plain": [
       "['Released', 'Post Production', 'Rumored']"
      ]
     },
     "execution_count": 1335,
     "metadata": {},
     "output_type": "execute_result"
    }
   ],
   "source": [
    "# encoding status\n",
    "status_classes = list(df2[\"status\"].unique())\n",
    "status_classes"
   ]
  },
  {
   "cell_type": "code",
   "execution_count": 1336,
   "metadata": {},
   "outputs": [],
   "source": [
    "label_encoder = LabelEncoder()"
   ]
  },
  {
   "cell_type": "code",
   "execution_count": 1337,
   "metadata": {},
   "outputs": [],
   "source": [
    "df2[\"status_en\"] = label_encoder.fit_transform(df2[\"status\"])"
   ]
  },
  {
   "cell_type": "code",
   "execution_count": 1338,
   "metadata": {},
   "outputs": [
    {
     "data": {
      "text/plain": [
       "Released           4795\n",
       "Rumored               5\n",
       "Post Production       3\n",
       "Name: status, dtype: int64"
      ]
     },
     "execution_count": 1338,
     "metadata": {},
     "output_type": "execute_result"
    }
   ],
   "source": [
    "df2[\"status\"].value_counts()"
   ]
  },
  {
   "cell_type": "code",
   "execution_count": 1339,
   "metadata": {},
   "outputs": [
    {
     "data": {
      "text/plain": [
       "Released           4795\n",
       "Rumored               5\n",
       "Post Production       3\n",
       "Name: status, dtype: int64"
      ]
     },
     "execution_count": 1339,
     "metadata": {},
     "output_type": "execute_result"
    }
   ],
   "source": [
    "df2[\"status\"].value_counts()"
   ]
  },
  {
   "cell_type": "code",
   "execution_count": 1340,
   "metadata": {},
   "outputs": [],
   "source": [
    "encode_dict = dict(df2[\"status_en\"].value_counts())"
   ]
  },
  {
   "cell_type": "code",
   "execution_count": 1341,
   "metadata": {},
   "outputs": [],
   "source": [
    "encode_dict2 = df2[\"status\"].value_counts()"
   ]
  },
  {
   "cell_type": "code",
   "execution_count": 1342,
   "metadata": {},
   "outputs": [],
   "source": [
    "status_list = [0]*len(encode_dict)\n",
    "for i in encode_dict.keys():\n",
    "    for j in encode_dict2.keys():\n",
    "        if(encode_dict[i] == encode_dict2[j]):\n",
    "            status_list[i] = j\n"
   ]
  },
  {
   "cell_type": "code",
   "execution_count": 1343,
   "metadata": {},
   "outputs": [],
   "source": [
    "status = {}\n",
    "for i in range(len(status_list)):\n",
    "    status[status_list[i]] = i"
   ]
  },
  {
   "cell_type": "code",
   "execution_count": 1344,
   "metadata": {},
   "outputs": [],
   "source": [
    "df2.drop('status', axis=1, inplace=True)\n",
    "df2.rename(columns = {'status_en':'status'}, inplace = True)"
   ]
  },
  {
   "cell_type": "code",
   "execution_count": 1345,
   "metadata": {},
   "outputs": [
    {
     "name": "stdout",
     "output_type": "stream",
     "text": [
      "<class 'pandas.core.frame.DataFrame'>\n",
      "Int64Index: 4803 entries, 0 to 4802\n",
      "Data columns (total 25 columns):\n",
      " #   Column                  Non-Null Count  Dtype  \n",
      "---  ------                  --------------  -----  \n",
      " 0   budget                  4803 non-null   int64  \n",
      " 1   id                      4803 non-null   int64  \n",
      " 2   original_title          4803 non-null   object \n",
      " 3   overview                4803 non-null   object \n",
      " 4   popularity              4803 non-null   float64\n",
      " 5   release_date            4803 non-null   object \n",
      " 6   revenue                 4803 non-null   int64  \n",
      " 7   runtime                 4803 non-null   float64\n",
      " 8   tagline                 4803 non-null   object \n",
      " 9   title                   4803 non-null   object \n",
      " 10  vote_average            4803 non-null   float64\n",
      " 11  vote_count              4803 non-null   int64  \n",
      " 12  genres                  4803 non-null   object \n",
      " 13  keywords                4803 non-null   object \n",
      " 14  production_companies    4803 non-null   object \n",
      " 15  production_countries    4803 non-null   object \n",
      " 16  spoken_languages        4803 non-null   object \n",
      " 17  original_language       4803 non-null   int64  \n",
      " 18  actors                  4803 non-null   object \n",
      " 19  characters              4803 non-null   object \n",
      " 20  male_count              4803 non-null   int64  \n",
      " 21  female_count            4803 non-null   int64  \n",
      " 22  undefined_gender_count  4803 non-null   int64  \n",
      " 23  director                4803 non-null   int64  \n",
      " 24  status                  4803 non-null   int64  \n",
      "dtypes: float64(3), int64(10), object(12)\n",
      "memory usage: 1.1+ MB\n"
     ]
    }
   ],
   "source": [
    "df2.info()"
   ]
  },
  {
   "cell_type": "code",
   "execution_count": 1346,
   "metadata": {},
   "outputs": [],
   "source": [
    "#genres,keywords,languages,production_countries,production_companies,character,gender,actorname,director_name,status"
   ]
  },
  {
   "cell_type": "code",
   "execution_count": 1347,
   "metadata": {},
   "outputs": [],
   "source": [
    "df2.to_csv('tmdb_encoded_genres_keywords_languages_productioncountries_productioncompanies_character_gender_actorname_directorname_status.csv')"
   ]
  },
  {
   "cell_type": "code",
   "execution_count": 1348,
   "metadata": {},
   "outputs": [],
   "source": [
    "with open(\"encode_info1.json\", \"w\") as fh:\n",
    "    json.dump([genres,keywords,languages,production_countries,production_companies,character,gender,actorname,director_name,status],fh)"
   ]
  },
  {
   "cell_type": "code",
   "execution_count": 1349,
   "metadata": {},
   "outputs": [],
   "source": [
    "with open(\"encode_info1.json\") as fh:\n",
    "    data = json.load(fh)\n",
    "\n",
    "genres = data[0]\n",
    "keywords = data[1]\n",
    "languages = data[2]\n",
    "production_countries = data[3]\n",
    "production_companies = data[4]\n",
    "character = data[5]\n",
    "gender = data[6]\n",
    "actorname = data[7]\n",
    "director_name = data[8]\n",
    "status = data[9]"
   ]
  },
  {
   "cell_type": "markdown",
   "metadata": {},
   "source": [
    "## EDA"
   ]
  },
  {
   "cell_type": "markdown",
   "metadata": {},
   "source": [
    "### Movie Distribution per director"
   ]
  },
  {
   "cell_type": "code",
   "execution_count": 1350,
   "metadata": {},
   "outputs": [],
   "source": [
    "director_movie_counts = dict(df2.director.value_counts())"
   ]
  },
  {
   "cell_type": "code",
   "execution_count": 1351,
   "metadata": {},
   "outputs": [],
   "source": [
    "# director_name_rev = dict(zip(director_name.values(), director_name.keys()))\n",
    "counts = [0] * len(director_name)"
   ]
  },
  {
   "cell_type": "code",
   "execution_count": 1352,
   "metadata": {},
   "outputs": [],
   "source": [
    "for i in director_movie_counts.keys():\n",
    "    counts[i] = director_movie_counts[i]"
   ]
  },
  {
   "cell_type": "code",
   "execution_count": 1353,
   "metadata": {},
   "outputs": [
    {
     "data": {
      "image/png": "[encoded data removed]",
      "text/plain": [
       "<Figure size 720x720 with 1 Axes>"
      ]
     },
     "metadata": {
      "needs_background": "light"
     },
     "output_type": "display_data"
    }
   ],
   "source": [
    "f = plt.figure()\n",
    "f.set_figwidth(10)\n",
    "f.set_figheight(10)\n",
    "plt.xlabel(\"Director Names\")\n",
    "plt.ylabel(\"Number of Movies\")\n",
    "plt.title(\"Number of movies by each Director in the dataset\")\n",
    "plt.bar(list(director_name), counts, color ='green', width = 0.4)\n",
    "plt.show()"
   ]
  },
  {
   "cell_type": "markdown",
   "metadata": {},
   "source": [
    "A better of plot for the above analysis ka be the following"
   ]
  },
  {
   "cell_type": "code",
   "execution_count": 1354,
   "metadata": {},
   "outputs": [],
   "source": [
    "counts = [0] * max(director_movie_counts.values())\n",
    "label = list(range(1, max(director_movie_counts.values())+1))"
   ]
  },
  {
   "cell_type": "code",
   "execution_count": 1355,
   "metadata": {},
   "outputs": [],
   "source": [
    "for i in director_movie_counts.values():\n",
    "    counts[i-1] += 1"
   ]
  },
  {
   "cell_type": "code",
   "execution_count": 1356,
   "metadata": {},
   "outputs": [
    {
     "data": {
      "image/png": "[encoded data removed]",
      "text/plain": [
       "<Figure size 720x720 with 1 Axes>"
      ]
     },
     "metadata": {
      "needs_background": "light"
     },
     "output_type": "display_data"
    }
   ],
   "source": [
    "f = plt.figure()\n",
    "f.set_figwidth(10)\n",
    "f.set_figheight(10)\n",
    "plt.xlabel(\"Number of Movies done by the Director\")\n",
    "plt.ylabel(\"Number of Directors\")\n",
    "plt.title(\"No. of Movies done by the Director VS Number of Directors\")\n",
    "plt.bar(label, counts, color ='green', width = 0.4)\n",
    "plt.xticks(label, label)\n",
    "plt.show()"
   ]
  },
  {
   "cell_type": "code",
   "execution_count": 1357,
   "metadata": {},
   "outputs": [
    {
     "data": {
      "text/plain": [
       "<AxesSubplot:xlabel='runtime', ylabel='Density'>"
      ]
     },
     "execution_count": 1357,
     "metadata": {},
     "output_type": "execute_result"
    },
    {
     "data": {
      "image/png": "[encoded data removed]",
      "text/plain": [
       "<Figure size 432x288 with 1 Axes>"
      ]
     },
     "metadata": {
      "needs_background": "light"
     },
     "output_type": "display_data"
    }
   ],
   "source": [
    "warnings.filterwarnings(\"ignore\")\n",
    "sb.distplot(df2['runtime'],kde=True)"
   ]
  },
  {
   "cell_type": "code",
   "execution_count": 1358,
   "metadata": {},
   "outputs": [
    {
     "data": {
      "text/plain": [
       "<AxesSubplot:xlabel='budget', ylabel='Density'>"
      ]
     },
     "execution_count": 1358,
     "metadata": {},
     "output_type": "execute_result"
    },
    {
     "data": {
      "image/png": "[encoded data removed]",
      "text/plain": [
       "<Figure size 432x288 with 1 Axes>"
      ]
     },
     "metadata": {
      "needs_background": "light"
     },
     "output_type": "display_data"
    }
   ],
   "source": [
    "sb.distplot(df2['budget'],kde=True)"
   ]
  },
  {
   "cell_type": "code",
   "execution_count": 1359,
   "metadata": {},
   "outputs": [
    {
     "data": {
      "text/plain": [
       "<AxesSubplot:xlabel='popularity', ylabel='Density'>"
      ]
     },
     "execution_count": 1359,
     "metadata": {},
     "output_type": "execute_result"
    },
    {
     "data": {
      "image/png": "[encoded data removed]",
      "text/plain": [
       "<Figure size 432x288 with 1 Axes>"
      ]
     },
     "metadata": {
      "needs_background": "light"
     },
     "output_type": "display_data"
    }
   ],
   "source": [
    "sb.distplot(df2['popularity'],kde=True)"
   ]
  },
  {
   "cell_type": "code",
   "execution_count": 1360,
   "metadata": {},
   "outputs": [
    {
     "data": {
      "text/plain": [
       "<AxesSubplot:xlabel='revenue', ylabel='Density'>"
      ]
     },
     "execution_count": 1360,
     "metadata": {},
     "output_type": "execute_result"
    },
    {
     "data": {
      "image/png": "[encoded data removed]",
      "text/plain": [
       "<Figure size 432x288 with 1 Axes>"
      ]
     },
     "metadata": {
      "needs_background": "light"
     },
     "output_type": "display_data"
    }
   ],
   "source": [
    "sb.distplot(df2['revenue'],kde=True)"
   ]
  },
  {
   "cell_type": "code",
   "execution_count": 1361,
   "metadata": {},
   "outputs": [
    {
     "data": {
      "text/plain": [
       "<AxesSubplot:xlabel='vote_average', ylabel='Density'>"
      ]
     },
     "execution_count": 1361,
     "metadata": {},
     "output_type": "execute_result"
    },
    {
     "data": {
      "image/png": "[encoded data removed]",
      "text/plain": [
       "<Figure size 432x288 with 1 Axes>"
      ]
     },
     "metadata": {
      "needs_background": "light"
     },
     "output_type": "display_data"
    }
   ],
   "source": [
    "sb.distplot(df2['vote_average'],kde=True)"
   ]
  },
  {
   "cell_type": "code",
   "execution_count": 1362,
   "metadata": {},
   "outputs": [
    {
     "data": {
      "text/plain": [
       "<AxesSubplot:xlabel='vote_count', ylabel='Density'>"
      ]
     },
     "execution_count": 1362,
     "metadata": {},
     "output_type": "execute_result"
    },
    {
     "data": {
      "image/png": "[encoded data removed]",
      "text/plain": [
       "<Figure size 432x288 with 1 Axes>"
      ]
     },
     "metadata": {
      "needs_background": "light"
     },
     "output_type": "display_data"
    }
   ],
   "source": [
    "sb.distplot(df2['vote_count'],kde=True)"
   ]
  },
  {
   "cell_type": "code",
   "execution_count": 1363,
   "metadata": {},
   "outputs": [
    {
     "data": {
      "text/plain": [
       "<AxesSubplot:xlabel='male_count', ylabel='Density'>"
      ]
     },
     "execution_count": 1363,
     "metadata": {},
     "output_type": "execute_result"
    },
    {
     "data": {
      "image/png": "[encoded data removed]",
      "text/plain": [
       "<Figure size 432x288 with 1 Axes>"
      ]
     },
     "metadata": {
      "needs_background": "light"
     },
     "output_type": "display_data"
    }
   ],
   "source": [
    "sb.distplot(df2['male_count'],kde=True) "
   ]
  },
  {
   "cell_type": "code",
   "execution_count": 1364,
   "metadata": {},
   "outputs": [
    {
     "data": {
      "text/plain": [
       "<AxesSubplot:xlabel='female_count', ylabel='Density'>"
      ]
     },
     "execution_count": 1364,
     "metadata": {},
     "output_type": "execute_result"
    },
    {
     "data": {
      "image/png": "[encoded data removed]",
      "text/plain": [
       "<Figure size 432x288 with 1 Axes>"
      ]
     },
     "metadata": {
      "needs_background": "light"
     },
     "output_type": "display_data"
    }
   ],
   "source": [
    "sb.distplot(df2['female_count'],kde=True)"
   ]
  },
  {
   "cell_type": "code",
   "execution_count": 1365,
   "metadata": {},
   "outputs": [
    {
     "data": {
      "text/plain": [
       "<AxesSubplot:xlabel='undefined_gender_count', ylabel='Density'>"
      ]
     },
     "execution_count": 1365,
     "metadata": {},
     "output_type": "execute_result"
    },
    {
     "data": {
      "image/png": "[encoded data removed]",
      "text/plain": [
       "<Figure size 432x288 with 1 Axes>"
      ]
     },
     "metadata": {
      "needs_background": "light"
     },
     "output_type": "display_data"
    }
   ],
   "source": [
    "sb.distplot(df2['undefined_gender_count'],kde=True)"
   ]
  },
  {
   "cell_type": "code",
   "execution_count": 1366,
   "metadata": {},
   "outputs": [
    {
     "data": {
      "image/png": "[encoded data removed]",
      "text/plain": [
       "<Figure size 720x720 with 1 Axes>"
      ]
     },
     "metadata": {},
     "output_type": "display_data"
    }
   ],
   "source": [
    "lang = dict(df2.original_language.value_counts())\n",
    "counts = []\n",
    "labels = []\n",
    "languages_rev = dict(zip(languages.values(), languages.keys()))\n",
    "# counts.append(lang[0])\n",
    "t = 0\n",
    "for i in lang.keys():\n",
    "    if(i == 0):\n",
    "        counts.append(lang[i])\n",
    "    elif(i == 1):\n",
    "        counts.append(lang[i])\n",
    "    else:\n",
    "        t += lang[i]\n",
    "counts.append(t)\n",
    "labels.append(\"English\")\n",
    "labels.append(\"French\") \n",
    "labels.append(\"Other\") \n",
    "\n",
    "f = plt.figure()\n",
    "f.set_figwidth(10)\n",
    "f.set_figheight(10)\n",
    "plt.title(\"Language Distribution\")\n",
    "plt.pie(counts, labels = labels)\n",
    "plt.legend(title = \"Languages:\")\n",
    "plt.show() "
   ]
  },
  {
   "cell_type": "code",
   "execution_count": 1367,
   "metadata": {},
   "outputs": [
    {
     "data": {
      "image/png": "[encoded data removed]",
      "text/plain": [
       "<Figure size 720x720 with 1 Axes>"
      ]
     },
     "metadata": {},
     "output_type": "display_data"
    }
   ],
   "source": [
    "genres_counts = [0]*len(genres)\n",
    "genres_rev = dict(zip(genres.values(), genres.keys()))\n",
    "for i in range(len(df2)):\n",
    "    res = df2.loc[i, \"genres\"]\n",
    "    for j in res:\n",
    "        genres_counts[j] += 1\n",
    "labels = []\n",
    "for i in range(len(genres_rev)):\n",
    "    labels.append(genres_rev[i])\n",
    "f = plt.figure()\n",
    "f.set_figwidth(10)\n",
    "f.set_figheight(10)\n",
    "plt.title(\"Genres Distribution\")\n",
    "plt.pie(genres_counts, labels = labels)\n",
    "plt.legend()\n",
    "plt.show() "
   ]
  },
  {
   "cell_type": "code",
   "execution_count": 1368,
   "metadata": {},
   "outputs": [
    {
     "name": "stdout",
     "output_type": "stream",
     "text": [
      "<class 'pandas.core.frame.DataFrame'>\n",
      "Int64Index: 4803 entries, 0 to 4802\n",
      "Data columns (total 25 columns):\n",
      " #   Column                  Non-Null Count  Dtype  \n",
      "---  ------                  --------------  -----  \n",
      " 0   budget                  4803 non-null   int64  \n",
      " 1   id                      4803 non-null   int64  \n",
      " 2   original_title          4803 non-null   object \n",
      " 3   overview                4803 non-null   object \n",
      " 4   popularity              4803 non-null   float64\n",
      " 5   release_date            4803 non-null   object \n",
      " 6   revenue                 4803 non-null   int64  \n",
      " 7   runtime                 4803 non-null   float64\n",
      " 8   tagline                 4803 non-null   object \n",
      " 9   title                   4803 non-null   object \n",
      " 10  vote_average            4803 non-null   float64\n",
      " 11  vote_count              4803 non-null   int64  \n",
      " 12  genres                  4803 non-null   object \n",
      " 13  keywords                4803 non-null   object \n",
      " 14  production_companies    4803 non-null   object \n",
      " 15  production_countries    4803 non-null   object \n",
      " 16  spoken_languages        4803 non-null   object \n",
      " 17  original_language       4803 non-null   int64  \n",
      " 18  actors                  4803 non-null   object \n",
      " 19  characters              4803 non-null   object \n",
      " 20  male_count              4803 non-null   int64  \n",
      " 21  female_count            4803 non-null   int64  \n",
      " 22  undefined_gender_count  4803 non-null   int64  \n",
      " 23  director                4803 non-null   int64  \n",
      " 24  status                  4803 non-null   int64  \n",
      "dtypes: float64(3), int64(10), object(12)\n",
      "memory usage: 1.1+ MB\n"
     ]
    }
   ],
   "source": [
    "df2.info()"
   ]
  },
  {
   "cell_type": "markdown",
   "metadata": {},
   "source": [
    "### DROP Characters Varies a lot and not many insights since varies a lot in the same franchise"
   ]
  },
  {
   "cell_type": "code",
   "execution_count": 1369,
   "metadata": {},
   "outputs": [],
   "source": [
    "# char_counts = [0]*len(character)\n",
    "# char_rev = dict(zip(character.values(), character.keys()))\n",
    "# for i in range(len(df2)):\n",
    "#     res = df2.loc[i, \"characters\"]\n",
    "#     for j in res:\n",
    "#         char_counts[j] += 1\n",
    "        \n",
    "        \n",
    "        \n",
    "# labels = []\n",
    "# for i in range(len(genres_rev)):\n",
    "#     labels.append(genres_rev[i])\n",
    "# f = plt.figure()\n",
    "# f.set_figwidth(10)\n",
    "# f.set_figheight(10)\n",
    "# plt.title(\"Genres Distribution\")\n",
    "# plt.pie(genres_counts, labels = labels)\n",
    "# plt.legend()\n",
    "# plt.show() "
   ]
  },
  {
   "cell_type": "code",
   "execution_count": 1370,
   "metadata": {},
   "outputs": [],
   "source": [
    "# char_counts[994]"
   ]
  },
  {
   "cell_type": "code",
   "execution_count": 1371,
   "metadata": {},
   "outputs": [],
   "source": [
    "# char_rev"
   ]
  },
  {
   "cell_type": "markdown",
   "metadata": {},
   "source": [
    "# Making a custom one hot encoding function for using with the attributes with array values"
   ]
  },
  {
   "cell_type": "code",
   "execution_count": 1372,
   "metadata": {},
   "outputs": [],
   "source": [
    "def one_hot_encode_arr_attri(dummy_no, data, encode_dict, attri):\n",
    "    #first figure out\n",
    "    dataf = data.copy()\n",
    "    list_counts = [0] * len(encode_dict)\n",
    "    for i in range(len(dataf)):\n",
    "        try:\n",
    "            res = json.loads(df2.loc[i, attri])\n",
    "        except:\n",
    "            res = df2.loc[i, attri]\n",
    "        \n",
    "        for j in res:\n",
    "            list_counts[j] += 1\n",
    "            \n",
    "    encode_dict = dict(zip(encode_dict.values(), encode_dict.keys()))\n",
    "    final_dict = {}\n",
    "    for i in range(len(encode_dict)):\n",
    "        final_dict[i] = list_counts[i]\n",
    "    top_list = list(dict(sorted(final_dict.items(), key=lambda x:x[1], reverse=True)[:dummy_no]).keys())\n",
    "    \n",
    "    dummy_data = np.zeros(len(dataf)*dummy_no).reshape(dummy_no,len(dataf))\n",
    "    \n",
    "    c = 0\n",
    "    for i in range(len(dataf)):\n",
    "        try:\n",
    "            res = json.loads(df2.loc[i, attri])\n",
    "        except:\n",
    "            res = df2.loc[i, attri]\n",
    "        for j in res:\n",
    "            if(j in top_list):\n",
    "                ind = top_list.index(j)\n",
    "                dummy_data[ind][i] = 1\n",
    "    \n",
    "    dataf.drop(attri, axis=1, inplace=True)\n",
    "    for i in range(len(top_list)):\n",
    "        dataf[encode_dict[top_list[i]].lower().replace(' ', '_')] = dummy_data[i].tolist()\n",
    "    return dataf"
   ]
  },
  {
   "cell_type": "code",
   "execution_count": 1373,
   "metadata": {},
   "outputs": [],
   "source": [
    "data = one_hot_encode_arr_attri(19, df2, genres, 'genres')\n",
    "data = one_hot_encode_arr_attri(10, data, production_countries, \"production_countries\")\n",
    "data = one_hot_encode_arr_attri(10, data, production_companies, \"production_companies\")\n",
    "data = one_hot_encode_arr_attri(10, data, languages, \"spoken_languages\")"
   ]
  },
  {
   "cell_type": "code",
   "execution_count": 1374,
   "metadata": {},
   "outputs": [],
   "source": [
    "data.to_csv('tmdb_prepro.csv')"
   ]
  },
  {
   "cell_type": "markdown",
   "metadata": {},
   "source": [
    "### year-wise distribution "
   ]
  },
  {
   "cell_type": "code",
   "execution_count": 1375,
   "metadata": {},
   "outputs": [],
   "source": [
    "for i in range(len(data)):\n",
    "    data.loc[i, \"release_date\"] = data.loc[i, \"release_date\"][:4]\n",
    "date_dic = dict(data[\"release_date\"].value_counts())"
   ]
  },
  {
   "cell_type": "code",
   "execution_count": 1376,
   "metadata": {},
   "outputs": [],
   "source": [
    "mad, mid = sorted(list(date_dic.keys()))[-1], sorted(list(date_dic.keys()))[1]"
   ]
  },
  {
   "cell_type": "code",
   "execution_count": 1377,
   "metadata": {},
   "outputs": [],
   "source": [
    "labels = []\n",
    "mid = int(mid)\n",
    "mad = int(mad)\n",
    "for i in range(mid, mad+1):\n",
    "    labels.append(i)\n",
    "\n",
    "date_counts = [0] * len(labels)\n",
    "for i in date_dic.keys():\n",
    "    if(i != \"\"):\n",
    "        date_counts[labels.index(int(i))] = date_dic[i]"
   ]
  },
  {
   "cell_type": "code",
   "execution_count": 1378,
   "metadata": {},
   "outputs": [
    {
     "data": {
      "image/png": "[encoded data removed]",
      "text/plain": [
       "<Figure size 720x720 with 1 Axes>"
      ]
     },
     "metadata": {
      "needs_background": "light"
     },
     "output_type": "display_data"
    }
   ],
   "source": [
    "f = plt.figure()\n",
    "f.set_figwidth(10)\n",
    "f.set_figheight(10)\n",
    "plt.xlabel(\"Number of Movies\")\n",
    "plt.ylabel(\"Years\")\n",
    "plt.title(\"No. of Movies VS Year\")\n",
    "plt.bar(labels, date_counts, color ='green', width = 0.4)\n",
    "plt.show()"
   ]
  },
  {
   "cell_type": "code",
   "execution_count": 1379,
   "metadata": {},
   "outputs": [
    {
     "data": {
      "text/plain": [
       "<AxesSubplot:xlabel='release_date', ylabel='Density'>"
      ]
     },
     "execution_count": 1379,
     "metadata": {},
     "output_type": "execute_result"
    },
    {
     "data": {
      "image/png": "[encoded data removed]",
      "text/plain": [
       "<Figure size 432x288 with 1 Axes>"
      ]
     },
     "metadata": {
      "needs_background": "light"
     },
     "output_type": "display_data"
    }
   ],
   "source": [
    "for i in range(len(data)):\n",
    "    if(data.loc[i, \"release_date\"] == \"\"):\n",
    "        break\n",
    "data.drop([i], axis=0, inplace=True)\n",
    "date_dic = dict(data[\"release_date\"].value_counts())\n",
    "d = data[\"release_date\"].astype(int)\n",
    "sb.distplot(d,kde=True)"
   ]
  },
  {
   "cell_type": "code",
   "execution_count": null,
   "metadata": {},
   "outputs": [],
   "source": []
  },
  {
   "cell_type": "code",
   "execution_count": null,
   "metadata": {},
   "outputs": [],
   "source": []
  },
  {
   "cell_type": "code",
   "execution_count": null,
   "metadata": {},
   "outputs": [],
   "source": []
  },
  {
   "cell_type": "code",
   "execution_count": null,
   "metadata": {},
   "outputs": [],
   "source": []
  },
  {
   "cell_type": "code",
   "execution_count": null,
   "metadata": {},
   "outputs": [],
   "source": []
  }
 ],
 "metadata": {
  "celltoolbar": "Raw Cell Format",
  "colab": {
   "authorship_tag": "ABX9TyNvLgXsncIWfJyCvi38DCF0",
   "collapsed_sections": [
    "-FwPv7-7dKhG"
   ],
   "mount_file_id": "1b3ZCPmN0tfzctXIm1vaiNGlI0D11Av5V",
   "provenance": []
  },
  "kernelspec": {
   "display_name": "Python 3 (ipykernel)",
   "language": "python",
   "name": "python3"
  },
  "language_info": {
   "codemirror_mode": {
    "name": "ipython",
    "version": 3
   },
   "file_extension": ".py",
   "mimetype": "text/x-python",
   "name": "python",
   "nbconvert_exporter": "python",
   "pygments_lexer": "ipython3",
   "version": "3.9.12"
  }
 },
 "nbformat": 4,
 "nbformat_minor": 1
}
