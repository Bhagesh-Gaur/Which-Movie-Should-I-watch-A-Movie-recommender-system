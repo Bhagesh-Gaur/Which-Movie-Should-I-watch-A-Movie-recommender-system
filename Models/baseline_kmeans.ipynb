{
 "cells": [
  {
   "cell_type": "code",
   "execution_count": null,
   "metadata": {},
   "outputs": [],
   "source": [
    "import pandas as pd\n",
    "import numpy as np\n",
    "import matplotlib.pyplot as plt\n",
    "import matplotlib.cm as cm\n",
    "from sklearn.cluster import KMeans\n",
    "from sklearn.metrics import silhouette_samples, silhouette_score\n",
    "from sklearn.preprocessing import StandardScaler\n",
    "from sklearn.decomposition import PCA\n",
    "from sklearn.preprocessing import StandardScaler\n",
    "from sklearn.decomposition import TruncatedSVD\n",
    "\n",
    "\n",
    "from IPython.display import display\n",
    "\n",
    "import matplotlib.style as style\n",
    "style.use(\"fivethirtyeight\")\n",
    "\n",
    "import sys"
   ]
  },
  {
   "cell_type": "code",
   "execution_count": null,
   "metadata": {},
   "outputs": [],
   "source": [
    "dataset = pd.read_csv('./../Datasets/movies46k_prepro_onehot.csv')"
   ]
  },
  {
   "cell_type": "code",
   "execution_count": null,
   "metadata": {},
   "outputs": [],
   "source": [
    "# pd.set_option('display.max_columns', 500)\n",
    "text_columns = ['original_title', 'overview', 'title', 'keywords', 'actors', 'characters', 'original_language']\n",
    "# text_columns = ['release_date', 'original_title', 'overview', 'id', 'tagline', 'title', 'keywords', 'actors', 'characters', 'original_language']\n",
    "df = dataset.drop(columns=text_columns)\n",
    "display(pd.DataFrame(df.describe()))\n",
    "\n",
    "\n",
    "df = StandardScaler().fit_transform(df)\n",
    "# display(pd.DataFrame(pd.DataFrame(df).describe()))\n",
    "\n",
    "\n",
    "## PCA (works well with dense data)\n",
    "# variance_retention = 0.70\n",
    "# pca = PCA(variance_retention)\n",
    "# principalComponents = pca.fit_transform(df)\n",
    "# df = pd.DataFrame(principalComponents)\n",
    "\n",
    "## LDA works well with sparse data (a lot of zeroes)\n",
    "svd = TruncatedSVD(n_components=10, algorithm='randomized')\n",
    "df = svd.fit_transform(df)\n",
    "\n",
    "display(pd.DataFrame(df))"
   ]
  },
  {
   "cell_type": "markdown",
   "metadata": {},
   "source": [
    "# Elbow method to determine number of clusters"
   ]
  },
  {
   "cell_type": "code",
   "execution_count": null,
   "metadata": {
    "pycharm": {
     "is_executing": true
    }
   },
   "outputs": [],
   "source": [
    "sse = []\n",
    "k_range = 30"
   ]
  },
  {
   "cell_type": "code",
   "execution_count": null,
   "metadata": {},
   "outputs": [],
   "source": [
    "for k in range(1, k_range):\n",
    "    km = KMeans(n_clusters=k)\n",
    "    km.fit(df)\n",
    "    sse.append(km.inertia_)"
   ]
  },
  {
   "cell_type": "code",
   "execution_count": null,
   "metadata": {
    "pycharm": {
     "is_executing": true
    }
   },
   "outputs": [],
   "source": [
    "fig, ax = plt.subplots(1)\n",
    "\n",
    "ax.spines['bottom'].set_color('black')\n",
    "ax.spines['left'].set_color('black')\n",
    "ax.xaxis.label.set_color('black')\n",
    "ax.tick_params(axis='x', colors='black')\n",
    "ax.yaxis.label.set_color('black')\n",
    "ax.tick_params(axis='y', colors='black')\n",
    "\n",
    "ax.plot(range(1, k_range), sse, '-o', c = 'y')\n",
    "ax.xaxis.get_major_locator().set_params(integer=True)\n",
    "plt.xlabel('Number of Clusters', c = 'black')\n",
    "plt.ylabel('SSE', c = 'black')\n",
    "plt.title(\"Elbow Method\", c = 'black')\n",
    "\n",
    "plt.show()"
   ]
  },
  {
   "cell_type": "markdown",
   "metadata": {},
   "source": [
    "# Silhouette method to determine number of clusters"
   ]
  },
  {
   "cell_type": "code",
   "execution_count": null,
   "metadata": {},
   "outputs": [],
   "source": [
    "silhouette_avg_n_clusters = []\n",
    "\n",
    "for n_clusters in range(2, k_range):\n",
    "    clusterer = KMeans(n_clusters=n_clusters)\n",
    "    cluster_labels = clusterer.fit_predict(df)\n",
    "    \n",
    "    silhouette_avg = silhouette_score(df, cluster_labels)\n",
    "    silhouette_avg_n_clusters.append(silhouette_avg)"
   ]
  },
  {
   "cell_type": "code",
   "execution_count": null,
   "metadata": {},
   "outputs": [],
   "source": [
    "fig, ax = plt.subplots(1)\n",
    "\n",
    "ax.spines['bottom'].set_color('black')\n",
    "ax.spines['left'].set_color('black')\n",
    "ax.xaxis.label.set_color('black')\n",
    "ax.tick_params(axis='x', colors='black')\n",
    "ax.yaxis.label.set_color('black')\n",
    "ax.tick_params(axis='y', colors='black')\n",
    "\n",
    "ax.plot(range(2, k_range), silhouette_avg_n_clusters, '-o', c = 'y')\n",
    "ax.xaxis.get_major_locator().set_params(integer=True)\n",
    "\n",
    "plt.xlabel(\"Number of Clusters (k)\")\n",
    "plt.ylabel(\"silhouette score\")\n",
    "plt.title(\"Silhouette Method\", c = 'black')\n",
    "plt.show()"
   ]
  },
  {
   "cell_type": "code",
   "execution_count": null,
   "metadata": {},
   "outputs": [],
   "source": [
    "Kmean = KMeans( algorithm=\"auto\", copy_x=True, init=\"k-means++\", max_iter=300, \n",
    "                n_clusters=7, n_init=13, random_state=None, tol=0.0001, verbose=0)\n",
    "\n",
    "Kmean.fit(df)"
   ]
  },
  {
   "cell_type": "markdown",
   "metadata": {},
   "source": [
    "# Results\n",
    "* In this baseline model using k_means clustering, which is not the best clustering algorithm, we can see that the optimal number of clusters is 13, combining the results from elbow method and silhouette method.\n",
    "* We use k_means clustering as the baseline as it is the most standard, simple and basic clustering algorithm.\n",
    "* Since our data is high dimensional, and k_means clustering fails in high dimensional data due the 'curse of dimensionality', we will now use other clustering algorithms that perform better with high dimensional data."
   ]
  }
 ],
 "metadata": {
  "kernelspec": {
   "display_name": "Python 3.10.7 64-bit",
   "language": "python",
   "name": "python3"
  },
  "language_info": {
   "codemirror_mode": {
    "name": "ipython",
    "version": 3
   },
   "file_extension": ".py",
   "mimetype": "text/x-python",
   "name": "python",
   "nbconvert_exporter": "python",
   "pygments_lexer": "ipython3",
   "version": "3.10.7"
  },
  "orig_nbformat": 4,
  "vscode": {
   "interpreter": {
    "hash": "31f2aee4e71d21fbe5cf8b01ff0e069b9275f58929596ceb00d14d90e3e16cd6"
   }
  }
 },
 "nbformat": 4,
 "nbformat_minor": 2
}
