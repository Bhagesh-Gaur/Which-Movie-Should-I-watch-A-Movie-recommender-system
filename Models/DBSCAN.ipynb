{
 "cells": [
  {
   "cell_type": "code",
   "execution_count": null,
   "metadata": {},
   "outputs": [],
   "source": [
    "import pandas as pd\n",
    "import numpy as np\n",
    "import matplotlib.pyplot as plt\n",
    "import matplotlib.cm as cm\n",
    "from scipy.spatial.distance import pdist, squareform\n",
    "from sklearn.metrics import silhouette_samples, silhouette_score\n",
    "# from sklearn.metrics import v_measure_score\n",
    "from sklearn.neighbors import NearestNeighbors\n",
    "\n",
    "from sklearn.cluster import DBSCAN\n",
    "from sklearn.preprocessing import StandardScaler\n",
    "from sklearn.decomposition import PCA\n",
    "from sklearn.preprocessing import StandardScaler\n",
    "from sklearn.decomposition import TruncatedSVD\n",
    "\n",
    "import scipy\n",
    "from scipy.sparse import csgraph\n",
    "from numpy import linalg as LA\n",
    "\n",
    "from IPython.display import display\n",
    "from kneed import KneeLocator\n",
    "\n",
    "import matplotlib.style as style\n",
    "style.use(\"fivethirtyeight\")\n",
    "\n",
    "import sys"
   ]
  },
  {
   "cell_type": "code",
   "execution_count": null,
   "metadata": {},
   "outputs": [],
   "source": [
    "# dataset = pd.read_csv('./../Datasets/tmdb_prepro.csv')\n",
    "dataset = pd.read_csv('./../Datasets/movies46k_prepro_onehot.csv')"
   ]
  },
  {
   "cell_type": "code",
   "execution_count": null,
   "metadata": {},
   "outputs": [],
   "source": [
    "# pd.set_option('display.max_columns', 500)\n",
    "text_columns = ['original_title', 'overview', 'title', 'keywords', 'actors', 'characters', 'original_language']\n",
    "# text_columns = ['release_date', 'original_title', 'overview', 'id', 'tagline', 'title', 'keywords', 'actors', 'characters', 'original_language']\n",
    "df = dataset.drop(columns=text_columns)\n",
    "display(pd.DataFrame(df.describe()))\n",
    "\n",
    "\n",
    "df = StandardScaler().fit_transform(df)\n",
    "# display(pd.DataFrame(pd.DataFrame(df).describe()))\n",
    "\n",
    "\n",
    "## PCA (works well with dense data)\n",
    "# variance_retention = 0.70\n",
    "# pca = PCA(variance_retention)\n",
    "# principalComponents = pca.fit_transform(df)\n",
    "# df = pd.DataFrame(principalComponents)\n",
    "\n",
    "## LDA works well with sparse data (a lot of zeroes)\n",
    "svd = TruncatedSVD(n_components=40, algorithm='randomized')\n",
    "df = svd.fit_transform(df)\n",
    "\n",
    "display(pd.DataFrame(df))"
   ]
  },
  {
   "cell_type": "markdown",
   "metadata": {},
   "source": [
    "# Eigengap heuristics to determine number of clusters"
   ]
  },
  {
   "cell_type": "code",
   "execution_count": null,
   "metadata": {},
   "outputs": [],
   "source": [
    "nearest_neighbors = NearestNeighbors(n_neighbors=11)\n",
    "neighbors = nearest_neighbors.fit(df)\n",
    "\n",
    "distances, indices = neighbors.kneighbors(df)\n",
    "distances = np.sort(distances[:,10], axis=0)\n",
    "\n",
    "fig, ax = plt.subplots(1)\n",
    "\n",
    "ax.spines['bottom'].set_color('black')\n",
    "ax.spines['left'].set_color('black')\n",
    "ax.xaxis.label.set_color('black')\n",
    "ax.tick_params(axis='x', colors='black')\n",
    "ax.yaxis.label.set_color('black')\n",
    "ax.tick_params(axis='y', colors='black')\n",
    "plt.plot(distances)\n",
    "plt.xlabel(\"Points\")\n",
    "plt.ylabel(\"Distance\")"
   ]
  },
  {
   "cell_type": "code",
   "execution_count": null,
   "metadata": {},
   "outputs": [],
   "source": [
    "i = np.arange(len(distances))\n",
    "knee = KneeLocator(i, distances, S=1, curve='convex', direction='increasing', interp_method='polynomial')\n",
    "\n",
    "plt.plot(knee.x, knee.y, \"b\", label=\"data\", c='black')\n",
    "plt.vlines(knee.knee, plt.ylim()[0], plt.ylim()[1], linestyles=\"--\", label=\"knee/elbow\", color='yellow')\n",
    "\n",
    "plt.gca().spines['bottom'].set_color('black')\n",
    "plt.gca().spines['left'].set_color('black')\n",
    "plt.gca().xaxis.label.set_color('black')\n",
    "plt.gca().tick_params(axis='x', colors='black')\n",
    "plt.gca().yaxis.label.set_color('black')\n",
    "plt.gca().tick_params(axis='y', colors='black')\n",
    "plt.xlabel(\"Points\", c='black')\n",
    "plt.ylabel(\"Distance\", c='black')\n",
    "plt.title(\"Knee Point\", c='black')\n",
    "plt.legend(loc='best', labelcolor='black')\n",
    "\n",
    "eps = distances[knee.knee]\n",
    "print(eps)"
   ]
  },
  {
   "cell_type": "code",
   "execution_count": null,
   "metadata": {},
   "outputs": [],
   "source": [
    "dbscan_cluster = DBSCAN(eps=eps, min_samples=8)\n",
    "dbscan_cluster.fit(df)\n",
    "\n",
    "# Number of Clusters\n",
    "labels = dbscan_cluster.labels_\n",
    "N_clus = len(set(labels))-(1 if -1 in labels else 0)\n",
    "print('Estimated no. of clusters: %d' % N_clus)\n",
    "\n",
    "# Identify Noise\n",
    "n_noise = list(dbscan_cluster.labels_).count(-1)\n",
    "print('Estimated no. of noise points: %d' % n_noise)\n"
   ]
  },
  {
   "cell_type": "markdown",
   "metadata": {},
   "source": [
    "# Silhouette method to determine number of clusters"
   ]
  },
  {
   "cell_type": "code",
   "execution_count": null,
   "metadata": {},
   "outputs": [],
   "source": [
    "silhouette_avg_n_clusters = []\n",
    "k_range = 30\n",
    "\n",
    "for n_clusters in range(2, k_range):\n",
    "    clusterer = DBSCAN(eps=eps, min_samples=8)\n",
    "    cluster_labels = clusterer.fit_predict(df)\n",
    "    \n",
    "    silhouette_avg = silhouette_score(df, cluster_labels)\n",
    "    silhouette_avg_n_clusters.append(silhouette_avg)"
   ]
  },
  {
   "cell_type": "code",
   "execution_count": null,
   "metadata": {},
   "outputs": [],
   "source": [
    "fig, ax = plt.subplots(1)\n",
    "\n",
    "ax.spines['bottom'].set_color('black')\n",
    "ax.spines['left'].set_color('black')\n",
    "ax.xaxis.label.set_color('black')\n",
    "ax.tick_params(axis='x', colors='black')\n",
    "ax.yaxis.label.set_color('black')\n",
    "ax.tick_params(axis='y', colors='black')\n",
    "\n",
    "ax.plot(range(2, k_range), silhouette_avg_n_clusters, '-o', c = 'y')\n",
    "ax.xaxis.get_major_locator().set_params(integer=True)\n",
    "\n",
    "plt.xlabel(\"Number of Clusters (k)\")\n",
    "plt.ylabel(\"silhouette score\")\n",
    "plt.title(\"Silhouette Method\", c = 'black')\n",
    "plt.show()"
   ]
  },
  {
   "cell_type": "code",
   "execution_count": null,
   "metadata": {},
   "outputs": [],
   "source": [
    "sc = DBSCAN(eps=eps, min_samples=8)\n",
    "\n",
    "sc.fit(df)"
   ]
  },
  {
   "cell_type": "markdown",
   "metadata": {},
   "source": [
    "# Results  UPPPPDDDAAATEEEE!!!\n",
    "* In this baseline model using k_means clustering, which is not the best clustering algorithm, we can see that the optimal number of clusters is 13, combining the results from elbow method and silhouette method.\n",
    "* We use k_means clustering as the baseline as it is the most standard, simple and basic clustering algorithm.\n",
    "* Since our data is high dimensional, and k_means clustering fails in high dimensional data due the 'curse of dimensionality', we will now use other clustering algorithms that perform better with high dimensional data."
   ]
  }
 ],
 "metadata": {
  "kernelspec": {
   "display_name": "Python 3.10.7 64-bit",
   "language": "python",
   "name": "python3"
  },
  "language_info": {
   "codemirror_mode": {
    "name": "ipython",
    "version": 3
   },
   "file_extension": ".py",
   "mimetype": "text/x-python",
   "name": "python",
   "nbconvert_exporter": "python",
   "pygments_lexer": "ipython3",
   "version": "3.10.7"
  },
  "orig_nbformat": 4,
  "vscode": {
   "interpreter": {
    "hash": "31f2aee4e71d21fbe5cf8b01ff0e069b9275f58929596ceb00d14d90e3e16cd6"
   }
  }
 },
 "nbformat": 4,
 "nbformat_minor": 2
}
