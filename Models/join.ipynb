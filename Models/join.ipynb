{
 "cells": [
  {
   "cell_type": "code",
   "execution_count": 1,
   "metadata": {},
   "outputs": [],
   "source": [
    "import pandas as pd\n",
    "import numpy as np\n",
    "import matplotlib.pyplot as plt"
   ]
  },
  {
   "cell_type": "code",
   "execution_count": 2,
   "metadata": {},
   "outputs": [
    {
     "data": {
      "text/plain": [
       "Index(['Unnamed: 0', 'budget', 'id', 'original_title', 'overview',\n",
       "       'popularity', 'release_date', 'revenue', 'runtime', 'tagline', 'title',\n",
       "       'vote_average', 'vote_count', 'keywords', 'original_language', 'actors',\n",
       "       'characters', 'male_count', 'female_count', 'undefined_gender_count',\n",
       "       'director', 'status', 'drama', 'comedy', 'thriller', 'action',\n",
       "       'romance', 'adventure', 'crime', 'science_fiction', 'horror', 'family',\n",
       "       'fantasy', 'mystery', 'animation', 'history', 'music', 'war',\n",
       "       'documentary', 'western', 'foreign', 'united_states_of_america',\n",
       "       'united_kingdom', 'germany', 'france', 'canada', 'australia', 'italy',\n",
       "       'spain', 'china', 'japan', 'warner_bros.', 'universal_pictures',\n",
       "       'paramount_pictures', 'twentieth_century_fox_film_corporation',\n",
       "       'columbia_pictures', 'new_line_cinema', 'metro-goldwyn-mayer_(mgm)',\n",
       "       'touchstone_pictures', 'walt_disney_pictures', 'relativity_media', 'en',\n",
       "       'fr', 'es', 'de', 'it', 'ru', 'zh', 'ja', 'pt', 'ar'],\n",
       "      dtype='object')"
      ]
     },
     "execution_count": 2,
     "metadata": {},
     "output_type": "execute_result"
    }
   ],
   "source": [
    "movies = pd.read_csv('./../Datasets/tmdb_prepro.csv')[ : 1000]\n",
    "movies.columns"
   ]
  },
  {
   "cell_type": "code",
   "execution_count": 3,
   "metadata": {},
   "outputs": [
    {
     "data": {
      "text/plain": [
       "(1000, 20)"
      ]
     },
     "execution_count": 3,
     "metadata": {},
     "output_type": "execute_result"
    }
   ],
   "source": [
    "columns = ['budget', 'id', 'original_title', 'overview', 'popularity', 'release_date', 'revenue', 'runtime', 'tagline', 'title', 'vote_average', 'vote_count', 'keywords', 'original_language', 'actors', 'characters', 'male_count', 'female_count', 'undefined_gender_count', 'director']\n",
    "\n",
    "movies = movies[columns]\n",
    "\n",
    "movies['movieId'] = movies['id']\n",
    "movies = movies.drop(['id'], axis=1)\n",
    "movies.shape"
   ]
  },
  {
   "cell_type": "code",
   "execution_count": 4,
   "metadata": {},
   "outputs": [],
   "source": [
    "ratings = pd.read_csv('./../Datasets/ratings_small_old.csv')\n",
    "# ratings.head()"
   ]
  },
  {
   "cell_type": "code",
   "execution_count": 5,
   "metadata": {},
   "outputs": [],
   "source": [
    "# ratings = ratings[ : 100]"
   ]
  },
  {
   "cell_type": "code",
   "execution_count": 6,
   "metadata": {},
   "outputs": [
    {
     "name": "stdout",
     "output_type": "stream",
     "text": [
      "20\n",
      "4\n",
      "23\n",
      "(5954, 23)\n"
     ]
    }
   ],
   "source": [
    "df = pd.merge(movies, ratings, on='movieId')\n",
    "print(len(movies.columns))\n",
    "print(len(ratings.columns))\n",
    "print(len(df.columns))\n",
    "print(df.shape)"
   ]
  },
  {
   "cell_type": "code",
   "execution_count": 8,
   "metadata": {},
   "outputs": [],
   "source": [
    "df.to_csv(\"./../Datasets/movies_small.csv\")"
   ]
  }
 ],
 "metadata": {
  "kernelspec": {
   "display_name": "Python 3.10.7 64-bit",
   "language": "python",
   "name": "python3"
  },
  "language_info": {
   "codemirror_mode": {
    "name": "ipython",
    "version": 3
   },
   "file_extension": ".py",
   "mimetype": "text/x-python",
   "name": "python",
   "nbconvert_exporter": "python",
   "pygments_lexer": "ipython3",
   "version": "3.10.7"
  },
  "orig_nbformat": 4,
  "vscode": {
   "interpreter": {
    "hash": "31f2aee4e71d21fbe5cf8b01ff0e069b9275f58929596ceb00d14d90e3e16cd6"
   }
  }
 },
 "nbformat": 4,
 "nbformat_minor": 2
}
